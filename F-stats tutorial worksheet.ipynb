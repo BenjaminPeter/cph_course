{
 "cells": [
  {
   "cell_type": "markdown",
   "metadata": {},
   "source": [
    "# 0. Resources\n",
    "- [`Admixtools`](https://github.com/DReichLab/AdmixTools)\n",
    "- [`admixr`](https://github.com/bodkan/admixr)\n",
    "- [`admixr`-tutorial:](https://bodkan.net/admixr/articles/tutorial.html)\n",
    "- [Patterson et al. (2012)](http://www.genetics.org/content/192/3/1065)\n",
    "- [Bhatia et al. (2013)](https://www.ncbi.nlm.nih.gov/pmc/articles/PMC3759727/)\n",
    "- [Peter (2016)](http://www.genetics.org/content/202/4/1485)\n",
    "- [Petr et al. (2019)](https://academic.oup.com/bioinformatics/advance-article/doi/10.1093/bioinformatics/btz030/5298728)\n",
    "\n",
    "\n",
    "# 1.  Setting up\n",
    "To get your own copy of this tutorial, you will need to copy it to your directory by logging into the console and copying it over:\n",
    "\n",
    "````bash\n",
    "cp -r ~ben/fstats/ .\n",
    "\n",
    "```\n",
    "\n",
    "Next, you will need to start R remotely, and load the required packages for the tutorial"
   ]
  },
  {
   "cell_type": "code",
   "execution_count": 15,
   "metadata": {},
   "outputs": [],
   "source": [
    "suppressPackageStartupMessages({\n",
    "    library(admixr)\n",
    "    library(data.table)\n",
    "    library(tidyverse)\n",
    "    source(\"scripts/analysis.R\")\n",
    "})"
   ]
  },
  {
   "cell_type": "markdown",
   "metadata": {},
   "source": [
    "Let us know if any of this does not work.\n",
    "\n",
    "# 2. Data\n",
    "For this tutorial, we will be using data from the (fully public) version of\n",
    " Lazaridis et al (2014), that can be downloaded from\n",
    "https://reich.hms.harvard.edu/datasets. This data has an unique ascertainment\n",
    "scheme, so throughout we need to keep ascertainment bias in mind. \n",
    "\n",
    "In order to save time, I subset the data and converted it to the `eigenstrat` format that we will be using throughout."
   ]
  },
  {
   "cell_type": "code",
   "execution_count": null,
   "metadata": {},
   "outputs": [],
   "source": [
    "list.files(\"data/europe/\");\n",
    "list.files(\"data/world/\");\n",
    "list.files(\"data/ancient/\");"
   ]
  },
  {
   "cell_type": "markdown",
   "metadata": {},
   "source": [
    "To see which samples we have available, we can load the file containing all the individuals into `R`"
   ]
  },
  {
   "cell_type": "code",
   "execution_count": 11,
   "metadata": {},
   "outputs": [],
   "source": [
    "world <- eigenstrat(\"data/world//world\")\n",
    "ind <- admixr::read_ind(world)"
   ]
  },
  {
   "cell_type": "markdown",
   "metadata": {},
   "source": [
    "\n",
    "\n",
    "**Question 1:** How many individuals and populations are there in this data set?"
   ]
  },
  {
   "cell_type": "markdown",
   "metadata": {},
   "source": [
    "# 3. Pairwise distances\n",
    "Next, we want to look at how similar / dissimilar two data sets are. For this purpose, we use frequency table generated using `plink`. We can load a small part of it into `R` using the `read_data` function that I wrote (see the `scripts/analysis.R`-script we loaded for details:\n",
    "\n",
    "**important:** load only a few (e.g. 10,000) rows into memory. Otherwise we'll crash the computer"
   ]
  },
  {
   "cell_type": "code",
   "execution_count": 5,
   "metadata": {},
   "outputs": [
    {
     "data": {
      "text/html": [
       "<table>\n",
       "<thead><tr><th scope=col>CHR</th><th scope=col>SNP</th><th scope=col>CLST</th><th scope=col>A1</th><th scope=col>A2</th><th scope=col>MAF</th><th scope=col>MAC</th><th scope=col>NCHROBS</th></tr></thead>\n",
       "<tbody>\n",
       "\t<tr><td>1            </td><td>Affx-13943225</td><td>AA_Denver    </td><td>G            </td><td>A            </td><td>0.45830      </td><td>11           </td><td> 24          </td></tr>\n",
       "\t<tr><td>1            </td><td>Affx-13943225</td><td>French       </td><td>G            </td><td>A            </td><td>0.16670      </td><td> 8           </td><td> 48          </td></tr>\n",
       "\t<tr><td>1            </td><td>Affx-13943225</td><td>Han          </td><td>G            </td><td>A            </td><td>0.06061      </td><td> 4           </td><td> 66          </td></tr>\n",
       "\t<tr><td>1            </td><td>Affx-13943225</td><td>Khomani      </td><td>G            </td><td>A            </td><td>0.27270      </td><td> 6           </td><td> 22          </td></tr>\n",
       "\t<tr><td>1            </td><td>Affx-13943225</td><td>MbutiPygmy   </td><td>G            </td><td>A            </td><td>0.65000      </td><td>13           </td><td> 20          </td></tr>\n",
       "\t<tr><td>1            </td><td>Affx-13943225</td><td>Papuan       </td><td>G            </td><td>A            </td><td>0.07143      </td><td> 2           </td><td> 28          </td></tr>\n",
       "\t<tr><td>1            </td><td>Affx-13943225</td><td>Sardinian    </td><td>G            </td><td>A            </td><td>0.07407      </td><td> 4           </td><td> 54          </td></tr>\n",
       "\t<tr><td>1            </td><td>Affx-13943225</td><td>Sindhi       </td><td>G            </td><td>A            </td><td>0.30560      </td><td>11           </td><td> 36          </td></tr>\n",
       "\t<tr><td>1            </td><td>Affx-13943225</td><td>Surui        </td><td>G            </td><td>A            </td><td>0.12500      </td><td> 2           </td><td> 16          </td></tr>\n",
       "\t<tr><td>1            </td><td>Affx-13943225</td><td>Uygur        </td><td>G            </td><td>A            </td><td>0.10000      </td><td> 2           </td><td> 20          </td></tr>\n",
       "\t<tr><td>1            </td><td>Affx-13943225</td><td>Yakut        </td><td>G            </td><td>A            </td><td>0.10000      </td><td> 4           </td><td> 40          </td></tr>\n",
       "\t<tr><td>1            </td><td>Affx-13943225</td><td>Yoruba       </td><td>G            </td><td>A            </td><td>0.67140      </td><td>94           </td><td>140          </td></tr>\n",
       "\t<tr><td>1            </td><td>Affx-14804912</td><td>AA_Denver    </td><td>G            </td><td>T            </td><td>0.12500      </td><td> 3           </td><td> 24          </td></tr>\n",
       "\t<tr><td>1            </td><td>Affx-14804912</td><td>French       </td><td>G            </td><td>T            </td><td>0.22000      </td><td>11           </td><td> 50          </td></tr>\n",
       "\t<tr><td>1            </td><td>Affx-14804912</td><td>Han          </td><td>G            </td><td>T            </td><td>0.10610      </td><td> 7           </td><td> 66          </td></tr>\n",
       "\t<tr><td>1            </td><td>Affx-14804912</td><td>Khomani      </td><td>G            </td><td>T            </td><td>0.31820      </td><td> 7           </td><td> 22          </td></tr>\n",
       "\t<tr><td>1            </td><td>Affx-14804912</td><td>MbutiPygmy   </td><td>G            </td><td>T            </td><td>0.50000      </td><td>10           </td><td> 20          </td></tr>\n",
       "\t<tr><td>1            </td><td>Affx-14804912</td><td>Papuan       </td><td>G            </td><td>T            </td><td>0.03571      </td><td> 1           </td><td> 28          </td></tr>\n",
       "\t<tr><td>1            </td><td>Affx-14804912</td><td>Sardinian    </td><td>G            </td><td>T            </td><td>0.07407      </td><td> 4           </td><td> 54          </td></tr>\n",
       "\t<tr><td>1            </td><td>Affx-14804912</td><td>Sindhi       </td><td>G            </td><td>T            </td><td>0.36110      </td><td>13           </td><td> 36          </td></tr>\n",
       "\t<tr><td>1            </td><td>Affx-14804912</td><td>Surui        </td><td>G            </td><td>T            </td><td>0.12500      </td><td> 2           </td><td> 16          </td></tr>\n",
       "\t<tr><td>1            </td><td>Affx-14804912</td><td>Uygur        </td><td>G            </td><td>T            </td><td>0.40000      </td><td> 8           </td><td> 20          </td></tr>\n",
       "\t<tr><td>1            </td><td>Affx-14804912</td><td>Yakut        </td><td>G            </td><td>T            </td><td>0.25000      </td><td>10           </td><td> 40          </td></tr>\n",
       "\t<tr><td>1            </td><td>Affx-14804912</td><td>Yoruba       </td><td>G            </td><td>T            </td><td>0.14290      </td><td>20           </td><td>140          </td></tr>\n",
       "\t<tr><td>1            </td><td>Affx-15453076</td><td>AA_Denver    </td><td>G            </td><td>A            </td><td>0.20830      </td><td> 5           </td><td> 24          </td></tr>\n",
       "\t<tr><td>1            </td><td>Affx-15453076</td><td>French       </td><td>G            </td><td>A            </td><td>0.06000      </td><td> 3           </td><td> 50          </td></tr>\n",
       "\t<tr><td>1            </td><td>Affx-15453076</td><td>Han          </td><td>G            </td><td>A            </td><td>0.19700      </td><td>13           </td><td> 66          </td></tr>\n",
       "\t<tr><td>1            </td><td>Affx-15453076</td><td>Khomani      </td><td>G            </td><td>A            </td><td>0.45450      </td><td>10           </td><td> 22          </td></tr>\n",
       "\t<tr><td>1            </td><td>Affx-15453076</td><td>MbutiPygmy   </td><td>G            </td><td>A            </td><td>0.50000      </td><td>10           </td><td> 20          </td></tr>\n",
       "\t<tr><td>1            </td><td>Affx-15453076</td><td>Papuan       </td><td>G            </td><td>A            </td><td>0.89290      </td><td>25           </td><td> 28          </td></tr>\n",
       "\t<tr><td>⋮</td><td>⋮</td><td>⋮</td><td>⋮</td><td>⋮</td><td>⋮</td><td>⋮</td><td>⋮</td></tr>\n",
       "\t<tr><td>1            </td><td>Affx-10915074</td><td>Yakut        </td><td>T            </td><td>C            </td><td>0.30000      </td><td>12           </td><td> 40          </td></tr>\n",
       "\t<tr><td>1            </td><td>Affx-10915074</td><td>Yoruba       </td><td>T            </td><td>C            </td><td>0.02941      </td><td> 4           </td><td>136          </td></tr>\n",
       "\t<tr><td>1            </td><td>Affx-10916370</td><td>AA_Denver    </td><td>A            </td><td>G            </td><td>0.29170      </td><td> 7           </td><td> 24          </td></tr>\n",
       "\t<tr><td>1            </td><td>Affx-10916370</td><td>French       </td><td>A            </td><td>G            </td><td>0.40000      </td><td>20           </td><td> 50          </td></tr>\n",
       "\t<tr><td>1            </td><td>Affx-10916370</td><td>Han          </td><td>A            </td><td>G            </td><td>0.07576      </td><td> 5           </td><td> 66          </td></tr>\n",
       "\t<tr><td>1            </td><td>Affx-10916370</td><td>Khomani      </td><td>A            </td><td>G            </td><td>0.54550      </td><td>12           </td><td> 22          </td></tr>\n",
       "\t<tr><td>1            </td><td>Affx-10916370</td><td>MbutiPygmy   </td><td>A            </td><td>G            </td><td>0.25000      </td><td> 5           </td><td> 20          </td></tr>\n",
       "\t<tr><td>1            </td><td>Affx-10916370</td><td>Papuan       </td><td>A            </td><td>G            </td><td>0.17860      </td><td> 5           </td><td> 28          </td></tr>\n",
       "\t<tr><td>1            </td><td>Affx-10916370</td><td>Sardinian    </td><td>A            </td><td>G            </td><td>0.53700      </td><td>29           </td><td> 54          </td></tr>\n",
       "\t<tr><td>1            </td><td>Affx-10916370</td><td>Sindhi       </td><td>A            </td><td>G            </td><td>0.47220      </td><td>17           </td><td> 36          </td></tr>\n",
       "\t<tr><td>1            </td><td>Affx-10916370</td><td>Surui        </td><td>A            </td><td>G            </td><td>0.00000      </td><td> 0           </td><td> 16          </td></tr>\n",
       "\t<tr><td>1            </td><td>Affx-10916370</td><td>Uygur        </td><td>A            </td><td>G            </td><td>0.20000      </td><td> 4           </td><td> 20          </td></tr>\n",
       "\t<tr><td>1            </td><td>Affx-10916370</td><td>Yakut        </td><td>A            </td><td>G            </td><td>0.00000      </td><td> 0           </td><td> 40          </td></tr>\n",
       "\t<tr><td>1            </td><td>Affx-10916370</td><td>Yoruba       </td><td>A            </td><td>G            </td><td>0.32140      </td><td>45           </td><td>140          </td></tr>\n",
       "\t<tr><td>1            </td><td>Affx-10917244</td><td>AA_Denver    </td><td>A            </td><td>G            </td><td>0.12500      </td><td> 3           </td><td> 24          </td></tr>\n",
       "\t<tr><td>1            </td><td>Affx-10917244</td><td>French       </td><td>A            </td><td>G            </td><td>0.37500      </td><td>18           </td><td> 48          </td></tr>\n",
       "\t<tr><td>1            </td><td>Affx-10917244</td><td>Han          </td><td>A            </td><td>G            </td><td>0.03030      </td><td> 2           </td><td> 66          </td></tr>\n",
       "\t<tr><td>1            </td><td>Affx-10917244</td><td>Khomani      </td><td>A            </td><td>G            </td><td>0.36360      </td><td> 8           </td><td> 22          </td></tr>\n",
       "\t<tr><td>1            </td><td>Affx-10917244</td><td>MbutiPygmy   </td><td>A            </td><td>G            </td><td>0.10000      </td><td> 2           </td><td> 20          </td></tr>\n",
       "\t<tr><td>1            </td><td>Affx-10917244</td><td>Papuan       </td><td>A            </td><td>G            </td><td>0.00000      </td><td> 0           </td><td> 28          </td></tr>\n",
       "\t<tr><td>1            </td><td>Affx-10917244</td><td>Sardinian    </td><td>A            </td><td>G            </td><td>0.42590      </td><td>23           </td><td> 54          </td></tr>\n",
       "\t<tr><td>1            </td><td>Affx-10917244</td><td>Sindhi       </td><td>A            </td><td>G            </td><td>0.19440      </td><td> 7           </td><td> 36          </td></tr>\n",
       "\t<tr><td>1            </td><td>Affx-10917244</td><td>Surui        </td><td>A            </td><td>G            </td><td>0.00000      </td><td> 0           </td><td> 16          </td></tr>\n",
       "\t<tr><td>1            </td><td>Affx-10917244</td><td>Uygur        </td><td>A            </td><td>G            </td><td>0.05000      </td><td> 1           </td><td> 20          </td></tr>\n",
       "\t<tr><td>1            </td><td>Affx-10917244</td><td>Yakut        </td><td>A            </td><td>G            </td><td>0.00000      </td><td> 0           </td><td> 40          </td></tr>\n",
       "\t<tr><td>1            </td><td>Affx-10917244</td><td>Yoruba       </td><td>A            </td><td>G            </td><td>0.20000      </td><td>28           </td><td>140          </td></tr>\n",
       "\t<tr><td>1            </td><td>Affx-10919018</td><td>AA_Denver    </td><td>T            </td><td>C            </td><td>0.50000      </td><td>12           </td><td> 24          </td></tr>\n",
       "\t<tr><td>1            </td><td>Affx-10919018</td><td>French       </td><td>T            </td><td>C            </td><td>0.14000      </td><td> 7           </td><td> 50          </td></tr>\n",
       "\t<tr><td>1            </td><td>Affx-10919018</td><td>Han          </td><td>T            </td><td>C            </td><td>0.01515      </td><td> 1           </td><td> 66          </td></tr>\n",
       "\t<tr><td>1            </td><td>Affx-10919018</td><td>Khomani      </td><td>T            </td><td>C            </td><td>0.13640      </td><td> 3           </td><td> 22          </td></tr>\n",
       "</tbody>\n",
       "</table>\n"
      ],
      "text/latex": [
       "\\begin{tabular}{r|llllllll}\n",
       " CHR & SNP & CLST & A1 & A2 & MAF & MAC & NCHROBS\\\\\n",
       "\\hline\n",
       "\t 1             & Affx-13943225 & AA\\_Denver   & G             & A             & 0.45830       & 11            &  24          \\\\\n",
       "\t 1             & Affx-13943225 & French        & G             & A             & 0.16670       &  8            &  48          \\\\\n",
       "\t 1             & Affx-13943225 & Han           & G             & A             & 0.06061       &  4            &  66          \\\\\n",
       "\t 1             & Affx-13943225 & Khomani       & G             & A             & 0.27270       &  6            &  22          \\\\\n",
       "\t 1             & Affx-13943225 & MbutiPygmy    & G             & A             & 0.65000       & 13            &  20          \\\\\n",
       "\t 1             & Affx-13943225 & Papuan        & G             & A             & 0.07143       &  2            &  28          \\\\\n",
       "\t 1             & Affx-13943225 & Sardinian     & G             & A             & 0.07407       &  4            &  54          \\\\\n",
       "\t 1             & Affx-13943225 & Sindhi        & G             & A             & 0.30560       & 11            &  36          \\\\\n",
       "\t 1             & Affx-13943225 & Surui         & G             & A             & 0.12500       &  2            &  16          \\\\\n",
       "\t 1             & Affx-13943225 & Uygur         & G             & A             & 0.10000       &  2            &  20          \\\\\n",
       "\t 1             & Affx-13943225 & Yakut         & G             & A             & 0.10000       &  4            &  40          \\\\\n",
       "\t 1             & Affx-13943225 & Yoruba        & G             & A             & 0.67140       & 94            & 140          \\\\\n",
       "\t 1             & Affx-14804912 & AA\\_Denver   & G             & T             & 0.12500       &  3            &  24          \\\\\n",
       "\t 1             & Affx-14804912 & French        & G             & T             & 0.22000       & 11            &  50          \\\\\n",
       "\t 1             & Affx-14804912 & Han           & G             & T             & 0.10610       &  7            &  66          \\\\\n",
       "\t 1             & Affx-14804912 & Khomani       & G             & T             & 0.31820       &  7            &  22          \\\\\n",
       "\t 1             & Affx-14804912 & MbutiPygmy    & G             & T             & 0.50000       & 10            &  20          \\\\\n",
       "\t 1             & Affx-14804912 & Papuan        & G             & T             & 0.03571       &  1            &  28          \\\\\n",
       "\t 1             & Affx-14804912 & Sardinian     & G             & T             & 0.07407       &  4            &  54          \\\\\n",
       "\t 1             & Affx-14804912 & Sindhi        & G             & T             & 0.36110       & 13            &  36          \\\\\n",
       "\t 1             & Affx-14804912 & Surui         & G             & T             & 0.12500       &  2            &  16          \\\\\n",
       "\t 1             & Affx-14804912 & Uygur         & G             & T             & 0.40000       &  8            &  20          \\\\\n",
       "\t 1             & Affx-14804912 & Yakut         & G             & T             & 0.25000       & 10            &  40          \\\\\n",
       "\t 1             & Affx-14804912 & Yoruba        & G             & T             & 0.14290       & 20            & 140          \\\\\n",
       "\t 1             & Affx-15453076 & AA\\_Denver   & G             & A             & 0.20830       &  5            &  24          \\\\\n",
       "\t 1             & Affx-15453076 & French        & G             & A             & 0.06000       &  3            &  50          \\\\\n",
       "\t 1             & Affx-15453076 & Han           & G             & A             & 0.19700       & 13            &  66          \\\\\n",
       "\t 1             & Affx-15453076 & Khomani       & G             & A             & 0.45450       & 10            &  22          \\\\\n",
       "\t 1             & Affx-15453076 & MbutiPygmy    & G             & A             & 0.50000       & 10            &  20          \\\\\n",
       "\t 1             & Affx-15453076 & Papuan        & G             & A             & 0.89290       & 25            &  28          \\\\\n",
       "\t ⋮ & ⋮ & ⋮ & ⋮ & ⋮ & ⋮ & ⋮ & ⋮\\\\\n",
       "\t 1             & Affx-10915074 & Yakut         & T             & C             & 0.30000       & 12            &  40          \\\\\n",
       "\t 1             & Affx-10915074 & Yoruba        & T             & C             & 0.02941       &  4            & 136          \\\\\n",
       "\t 1             & Affx-10916370 & AA\\_Denver   & A             & G             & 0.29170       &  7            &  24          \\\\\n",
       "\t 1             & Affx-10916370 & French        & A             & G             & 0.40000       & 20            &  50          \\\\\n",
       "\t 1             & Affx-10916370 & Han           & A             & G             & 0.07576       &  5            &  66          \\\\\n",
       "\t 1             & Affx-10916370 & Khomani       & A             & G             & 0.54550       & 12            &  22          \\\\\n",
       "\t 1             & Affx-10916370 & MbutiPygmy    & A             & G             & 0.25000       &  5            &  20          \\\\\n",
       "\t 1             & Affx-10916370 & Papuan        & A             & G             & 0.17860       &  5            &  28          \\\\\n",
       "\t 1             & Affx-10916370 & Sardinian     & A             & G             & 0.53700       & 29            &  54          \\\\\n",
       "\t 1             & Affx-10916370 & Sindhi        & A             & G             & 0.47220       & 17            &  36          \\\\\n",
       "\t 1             & Affx-10916370 & Surui         & A             & G             & 0.00000       &  0            &  16          \\\\\n",
       "\t 1             & Affx-10916370 & Uygur         & A             & G             & 0.20000       &  4            &  20          \\\\\n",
       "\t 1             & Affx-10916370 & Yakut         & A             & G             & 0.00000       &  0            &  40          \\\\\n",
       "\t 1             & Affx-10916370 & Yoruba        & A             & G             & 0.32140       & 45            & 140          \\\\\n",
       "\t 1             & Affx-10917244 & AA\\_Denver   & A             & G             & 0.12500       &  3            &  24          \\\\\n",
       "\t 1             & Affx-10917244 & French        & A             & G             & 0.37500       & 18            &  48          \\\\\n",
       "\t 1             & Affx-10917244 & Han           & A             & G             & 0.03030       &  2            &  66          \\\\\n",
       "\t 1             & Affx-10917244 & Khomani       & A             & G             & 0.36360       &  8            &  22          \\\\\n",
       "\t 1             & Affx-10917244 & MbutiPygmy    & A             & G             & 0.10000       &  2            &  20          \\\\\n",
       "\t 1             & Affx-10917244 & Papuan        & A             & G             & 0.00000       &  0            &  28          \\\\\n",
       "\t 1             & Affx-10917244 & Sardinian     & A             & G             & 0.42590       & 23            &  54          \\\\\n",
       "\t 1             & Affx-10917244 & Sindhi        & A             & G             & 0.19440       &  7            &  36          \\\\\n",
       "\t 1             & Affx-10917244 & Surui         & A             & G             & 0.00000       &  0            &  16          \\\\\n",
       "\t 1             & Affx-10917244 & Uygur         & A             & G             & 0.05000       &  1            &  20          \\\\\n",
       "\t 1             & Affx-10917244 & Yakut         & A             & G             & 0.00000       &  0            &  40          \\\\\n",
       "\t 1             & Affx-10917244 & Yoruba        & A             & G             & 0.20000       & 28            & 140          \\\\\n",
       "\t 1             & Affx-10919018 & AA\\_Denver   & T             & C             & 0.50000       & 12            &  24          \\\\\n",
       "\t 1             & Affx-10919018 & French        & T             & C             & 0.14000       &  7            &  50          \\\\\n",
       "\t 1             & Affx-10919018 & Han           & T             & C             & 0.01515       &  1            &  66          \\\\\n",
       "\t 1             & Affx-10919018 & Khomani       & T             & C             & 0.13640       &  3            &  22          \\\\\n",
       "\\end{tabular}\n"
      ],
      "text/markdown": [
       "\n",
       "| CHR | SNP | CLST | A1 | A2 | MAF | MAC | NCHROBS |\n",
       "|---|---|---|---|---|---|---|---|\n",
       "| 1             | Affx-13943225 | AA_Denver     | G             | A             | 0.45830       | 11            |  24           |\n",
       "| 1             | Affx-13943225 | French        | G             | A             | 0.16670       |  8            |  48           |\n",
       "| 1             | Affx-13943225 | Han           | G             | A             | 0.06061       |  4            |  66           |\n",
       "| 1             | Affx-13943225 | Khomani       | G             | A             | 0.27270       |  6            |  22           |\n",
       "| 1             | Affx-13943225 | MbutiPygmy    | G             | A             | 0.65000       | 13            |  20           |\n",
       "| 1             | Affx-13943225 | Papuan        | G             | A             | 0.07143       |  2            |  28           |\n",
       "| 1             | Affx-13943225 | Sardinian     | G             | A             | 0.07407       |  4            |  54           |\n",
       "| 1             | Affx-13943225 | Sindhi        | G             | A             | 0.30560       | 11            |  36           |\n",
       "| 1             | Affx-13943225 | Surui         | G             | A             | 0.12500       |  2            |  16           |\n",
       "| 1             | Affx-13943225 | Uygur         | G             | A             | 0.10000       |  2            |  20           |\n",
       "| 1             | Affx-13943225 | Yakut         | G             | A             | 0.10000       |  4            |  40           |\n",
       "| 1             | Affx-13943225 | Yoruba        | G             | A             | 0.67140       | 94            | 140           |\n",
       "| 1             | Affx-14804912 | AA_Denver     | G             | T             | 0.12500       |  3            |  24           |\n",
       "| 1             | Affx-14804912 | French        | G             | T             | 0.22000       | 11            |  50           |\n",
       "| 1             | Affx-14804912 | Han           | G             | T             | 0.10610       |  7            |  66           |\n",
       "| 1             | Affx-14804912 | Khomani       | G             | T             | 0.31820       |  7            |  22           |\n",
       "| 1             | Affx-14804912 | MbutiPygmy    | G             | T             | 0.50000       | 10            |  20           |\n",
       "| 1             | Affx-14804912 | Papuan        | G             | T             | 0.03571       |  1            |  28           |\n",
       "| 1             | Affx-14804912 | Sardinian     | G             | T             | 0.07407       |  4            |  54           |\n",
       "| 1             | Affx-14804912 | Sindhi        | G             | T             | 0.36110       | 13            |  36           |\n",
       "| 1             | Affx-14804912 | Surui         | G             | T             | 0.12500       |  2            |  16           |\n",
       "| 1             | Affx-14804912 | Uygur         | G             | T             | 0.40000       |  8            |  20           |\n",
       "| 1             | Affx-14804912 | Yakut         | G             | T             | 0.25000       | 10            |  40           |\n",
       "| 1             | Affx-14804912 | Yoruba        | G             | T             | 0.14290       | 20            | 140           |\n",
       "| 1             | Affx-15453076 | AA_Denver     | G             | A             | 0.20830       |  5            |  24           |\n",
       "| 1             | Affx-15453076 | French        | G             | A             | 0.06000       |  3            |  50           |\n",
       "| 1             | Affx-15453076 | Han           | G             | A             | 0.19700       | 13            |  66           |\n",
       "| 1             | Affx-15453076 | Khomani       | G             | A             | 0.45450       | 10            |  22           |\n",
       "| 1             | Affx-15453076 | MbutiPygmy    | G             | A             | 0.50000       | 10            |  20           |\n",
       "| 1             | Affx-15453076 | Papuan        | G             | A             | 0.89290       | 25            |  28           |\n",
       "| ⋮ | ⋮ | ⋮ | ⋮ | ⋮ | ⋮ | ⋮ | ⋮ |\n",
       "| 1             | Affx-10915074 | Yakut         | T             | C             | 0.30000       | 12            |  40           |\n",
       "| 1             | Affx-10915074 | Yoruba        | T             | C             | 0.02941       |  4            | 136           |\n",
       "| 1             | Affx-10916370 | AA_Denver     | A             | G             | 0.29170       |  7            |  24           |\n",
       "| 1             | Affx-10916370 | French        | A             | G             | 0.40000       | 20            |  50           |\n",
       "| 1             | Affx-10916370 | Han           | A             | G             | 0.07576       |  5            |  66           |\n",
       "| 1             | Affx-10916370 | Khomani       | A             | G             | 0.54550       | 12            |  22           |\n",
       "| 1             | Affx-10916370 | MbutiPygmy    | A             | G             | 0.25000       |  5            |  20           |\n",
       "| 1             | Affx-10916370 | Papuan        | A             | G             | 0.17860       |  5            |  28           |\n",
       "| 1             | Affx-10916370 | Sardinian     | A             | G             | 0.53700       | 29            |  54           |\n",
       "| 1             | Affx-10916370 | Sindhi        | A             | G             | 0.47220       | 17            |  36           |\n",
       "| 1             | Affx-10916370 | Surui         | A             | G             | 0.00000       |  0            |  16           |\n",
       "| 1             | Affx-10916370 | Uygur         | A             | G             | 0.20000       |  4            |  20           |\n",
       "| 1             | Affx-10916370 | Yakut         | A             | G             | 0.00000       |  0            |  40           |\n",
       "| 1             | Affx-10916370 | Yoruba        | A             | G             | 0.32140       | 45            | 140           |\n",
       "| 1             | Affx-10917244 | AA_Denver     | A             | G             | 0.12500       |  3            |  24           |\n",
       "| 1             | Affx-10917244 | French        | A             | G             | 0.37500       | 18            |  48           |\n",
       "| 1             | Affx-10917244 | Han           | A             | G             | 0.03030       |  2            |  66           |\n",
       "| 1             | Affx-10917244 | Khomani       | A             | G             | 0.36360       |  8            |  22           |\n",
       "| 1             | Affx-10917244 | MbutiPygmy    | A             | G             | 0.10000       |  2            |  20           |\n",
       "| 1             | Affx-10917244 | Papuan        | A             | G             | 0.00000       |  0            |  28           |\n",
       "| 1             | Affx-10917244 | Sardinian     | A             | G             | 0.42590       | 23            |  54           |\n",
       "| 1             | Affx-10917244 | Sindhi        | A             | G             | 0.19440       |  7            |  36           |\n",
       "| 1             | Affx-10917244 | Surui         | A             | G             | 0.00000       |  0            |  16           |\n",
       "| 1             | Affx-10917244 | Uygur         | A             | G             | 0.05000       |  1            |  20           |\n",
       "| 1             | Affx-10917244 | Yakut         | A             | G             | 0.00000       |  0            |  40           |\n",
       "| 1             | Affx-10917244 | Yoruba        | A             | G             | 0.20000       | 28            | 140           |\n",
       "| 1             | Affx-10919018 | AA_Denver     | T             | C             | 0.50000       | 12            |  24           |\n",
       "| 1             | Affx-10919018 | French        | T             | C             | 0.14000       |  7            |  50           |\n",
       "| 1             | Affx-10919018 | Han           | T             | C             | 0.01515       |  1            |  66           |\n",
       "| 1             | Affx-10919018 | Khomani       | T             | C             | 0.13640       |  3            |  22           |\n",
       "\n"
      ],
      "text/plain": [
       "      CHR SNP           CLST       A1 A2 MAF     MAC NCHROBS\n",
       "1     1   Affx-13943225 AA_Denver  G  A  0.45830 11   24    \n",
       "2     1   Affx-13943225 French     G  A  0.16670  8   48    \n",
       "3     1   Affx-13943225 Han        G  A  0.06061  4   66    \n",
       "4     1   Affx-13943225 Khomani    G  A  0.27270  6   22    \n",
       "5     1   Affx-13943225 MbutiPygmy G  A  0.65000 13   20    \n",
       "6     1   Affx-13943225 Papuan     G  A  0.07143  2   28    \n",
       "7     1   Affx-13943225 Sardinian  G  A  0.07407  4   54    \n",
       "8     1   Affx-13943225 Sindhi     G  A  0.30560 11   36    \n",
       "9     1   Affx-13943225 Surui      G  A  0.12500  2   16    \n",
       "10    1   Affx-13943225 Uygur      G  A  0.10000  2   20    \n",
       "11    1   Affx-13943225 Yakut      G  A  0.10000  4   40    \n",
       "12    1   Affx-13943225 Yoruba     G  A  0.67140 94  140    \n",
       "13    1   Affx-14804912 AA_Denver  G  T  0.12500  3   24    \n",
       "14    1   Affx-14804912 French     G  T  0.22000 11   50    \n",
       "15    1   Affx-14804912 Han        G  T  0.10610  7   66    \n",
       "16    1   Affx-14804912 Khomani    G  T  0.31820  7   22    \n",
       "17    1   Affx-14804912 MbutiPygmy G  T  0.50000 10   20    \n",
       "18    1   Affx-14804912 Papuan     G  T  0.03571  1   28    \n",
       "19    1   Affx-14804912 Sardinian  G  T  0.07407  4   54    \n",
       "20    1   Affx-14804912 Sindhi     G  T  0.36110 13   36    \n",
       "21    1   Affx-14804912 Surui      G  T  0.12500  2   16    \n",
       "22    1   Affx-14804912 Uygur      G  T  0.40000  8   20    \n",
       "23    1   Affx-14804912 Yakut      G  T  0.25000 10   40    \n",
       "24    1   Affx-14804912 Yoruba     G  T  0.14290 20  140    \n",
       "25    1   Affx-15453076 AA_Denver  G  A  0.20830  5   24    \n",
       "26    1   Affx-15453076 French     G  A  0.06000  3   50    \n",
       "27    1   Affx-15453076 Han        G  A  0.19700 13   66    \n",
       "28    1   Affx-15453076 Khomani    G  A  0.45450 10   22    \n",
       "29    1   Affx-15453076 MbutiPygmy G  A  0.50000 10   20    \n",
       "30    1   Affx-15453076 Papuan     G  A  0.89290 25   28    \n",
       "⋮     ⋮   ⋮             ⋮          ⋮  ⋮  ⋮       ⋮   ⋮      \n",
       "9971  1   Affx-10915074 Yakut      T  C  0.30000 12   40    \n",
       "9972  1   Affx-10915074 Yoruba     T  C  0.02941  4  136    \n",
       "9973  1   Affx-10916370 AA_Denver  A  G  0.29170  7   24    \n",
       "9974  1   Affx-10916370 French     A  G  0.40000 20   50    \n",
       "9975  1   Affx-10916370 Han        A  G  0.07576  5   66    \n",
       "9976  1   Affx-10916370 Khomani    A  G  0.54550 12   22    \n",
       "9977  1   Affx-10916370 MbutiPygmy A  G  0.25000  5   20    \n",
       "9978  1   Affx-10916370 Papuan     A  G  0.17860  5   28    \n",
       "9979  1   Affx-10916370 Sardinian  A  G  0.53700 29   54    \n",
       "9980  1   Affx-10916370 Sindhi     A  G  0.47220 17   36    \n",
       "9981  1   Affx-10916370 Surui      A  G  0.00000  0   16    \n",
       "9982  1   Affx-10916370 Uygur      A  G  0.20000  4   20    \n",
       "9983  1   Affx-10916370 Yakut      A  G  0.00000  0   40    \n",
       "9984  1   Affx-10916370 Yoruba     A  G  0.32140 45  140    \n",
       "9985  1   Affx-10917244 AA_Denver  A  G  0.12500  3   24    \n",
       "9986  1   Affx-10917244 French     A  G  0.37500 18   48    \n",
       "9987  1   Affx-10917244 Han        A  G  0.03030  2   66    \n",
       "9988  1   Affx-10917244 Khomani    A  G  0.36360  8   22    \n",
       "9989  1   Affx-10917244 MbutiPygmy A  G  0.10000  2   20    \n",
       "9990  1   Affx-10917244 Papuan     A  G  0.00000  0   28    \n",
       "9991  1   Affx-10917244 Sardinian  A  G  0.42590 23   54    \n",
       "9992  1   Affx-10917244 Sindhi     A  G  0.19440  7   36    \n",
       "9993  1   Affx-10917244 Surui      A  G  0.00000  0   16    \n",
       "9994  1   Affx-10917244 Uygur      A  G  0.05000  1   20    \n",
       "9995  1   Affx-10917244 Yakut      A  G  0.00000  0   40    \n",
       "9996  1   Affx-10917244 Yoruba     A  G  0.20000 28  140    \n",
       "9997  1   Affx-10919018 AA_Denver  T  C  0.50000 12   24    \n",
       "9998  1   Affx-10919018 French     T  C  0.14000  7   50    \n",
       "9999  1   Affx-10919018 Han        T  C  0.01515  1   66    \n",
       "10000 1   Affx-10919018 Khomani    T  C  0.13640  3   22    "
      ]
     },
     "metadata": {},
     "output_type": "display_data"
    }
   ],
   "source": [
    "data <- read_data(\"data/world/world.1.frq.strat\", nrows=10000)\n",
    "data"
   ]
  },
  {
   "cell_type": "markdown",
   "metadata": {},
   "source": [
    "\n",
    "### 3.1 calculating FST and F2\n",
    "To calculate $F_{ST}$ and $F_2$, we can use another function I wrote, called `fst_pair`, which outputs $F_{ST}, F_2$ between a pair of sites, e.g.:. It implements Hudson's estimator for $F_{ST}$. In general, there is a very large number of different estimators of $F_{ST}$. For practical purposes, it does not matter that much which estimator is used (see [this paper](https://www.ncbi.nlm.nih.gov/pmc/articles/PMC3759727/) for details).\n",
    "\n",
    "To see what `fst_pair` does exactly, we can simply type it into the terminal:\n"
   ]
  },
  {
   "cell_type": "code",
   "execution_count": null,
   "metadata": {},
   "outputs": [],
   "source": [
    "fst_pair"
   ]
  },
  {
   "cell_type": "code",
   "execution_count": 16,
   "metadata": {},
   "outputs": [
    {
     "name": "stderr",
     "output_type": "stream",
     "text": [
      "Joining, by = \"SNP\"\n"
     ]
    },
    {
     "data": {
      "text/html": [
       "<ol class=list-inline>\n",
       "\t<li>0.00240431318756104</li>\n",
       "\t<li>0.00670300213018909</li>\n",
       "\t<li>0.0423801699025144</li>\n",
       "</ol>\n"
      ],
      "text/latex": [
       "\\begin{enumerate*}\n",
       "\\item 0.00240431318756104\n",
       "\\item 0.00670300213018909\n",
       "\\item 0.0423801699025144\n",
       "\\end{enumerate*}\n"
      ],
      "text/markdown": [
       "1. 0.00240431318756104\n",
       "2. 0.00670300213018909\n",
       "3. 0.0423801699025144\n",
       "\n",
       "\n"
      ],
      "text/plain": [
       "[1] 0.002404313 0.006703002 0.042380170"
      ]
     },
     "metadata": {},
     "output_type": "display_data"
    }
   ],
   "source": [
    "f_stats <- fst_pair(data, \"Sardinian\", \"French\")\n",
    "f_stats"
   ]
  },
  {
   "cell_type": "markdown",
   "metadata": {},
   "source": [
    "\n",
    "Are these values big or small? This is quite difficult to answer without context, as it will depend on the type of data you are analyzing, the amount of data and the scope of your study. To provide context, one often looks at a matrix of $F_{ST}$-values. To do so, we can load a pre-computed matrix of all $F_{ST}$ and $F_2$ values:"
   ]
  },
  {
   "cell_type": "code",
   "execution_count": 17,
   "metadata": {},
   "outputs": [],
   "source": [
    "#this may take a long time!\n",
    "#M = fst_mat(data)\n",
    "#saveRDS(M, \"data/fstats_world.rds\")\n",
    "fmat <- readRDS(\"data/fstats_world.rds\")"
   ]
  },
  {
   "cell_type": "markdown",
   "metadata": {},
   "source": [
    "\n",
    "**Task 1:** use the `heatmap`-function in `R` to plot a matrix visualizing the $F_{ST}$ and $F_2$-values from this dataset.\n",
    "\n",
    "**Question 2**: How do the matrices differ? Is this what you would expect?\n"
   ]
  },
  {
   "cell_type": "markdown",
   "metadata": {},
   "source": [
    "# 4. Admixture-F3\n",
    "We will use the `world`-dataset that contains a small set of samples from all\n",
    "continents. We'll hypothesize that Uygurs are an admixed group resulting from the mixture of two populations. We'll try to find the pair of Han and another populations in our panel. We would like to know which one matches best. For this, we'll resort to using Admixture F3 statistics.\n",
    "\n",
    "The standard way is to use the program `qp3pop` from `admixtools`. As you did yesterday for PCA, one has to \n",
    "1. write a par-file \n",
    "2. write a pop-file\n",
    "3. run `qp3pop`\n",
    "4. parse the output\n",
    "\n",
    "We are too lazy to do that. Luckily, `admixr` allows us to do all those four steps in one go:"
   ]
  },
  {
   "cell_type": "code",
   "execution_count": 14,
   "metadata": {},
   "outputs": [],
   "source": [
    "world <- admixr::eigenstrat(\"data/world//world\")\n",
    "ind <- admixr::read_ind(world)\n",
    "pops <- unique(ind$label)\n",
    "pops <- pops[!pops %in% c(\"Uygur\", \"Han\")]\n",
    "\n",
    "f3_res = f3(world, A=pops, B=\"Han\", C=\"Uygur\")"
   ]
  },
  {
   "cell_type": "code",
   "execution_count": 127,
   "metadata": {},
   "outputs": [
    {
     "data": {
      "image/png": "[encoded data removed]",
      "text/plain": [
       "plot without title"
      ]
     },
     "metadata": {},
     "output_type": "display_data"
    }
   ],
   "source": [
    "f3_res %>% \n",
    "    mutate(is_significant=Zscore < -3) %>%\n",
    "    ggplot(aes(x=A, y=f3, ymin=f3-3*stderr, ymax = f3+3*stderr, color=is_significant)) +\n",
    "    geom_point() + geom_errorbar() +geom_hline(yintercept = 0)"
   ]
  },
  {
   "cell_type": "markdown",
   "metadata": {},
   "source": [
    "**Question 3**: \n",
    "- Are any $F_3$-statistics negative? \n",
    "- Are they significant? (|Z| > 3?)?\n",
    "- Which pairs of populations do these correspond to? \n",
    "- What could this mean about the population genetic history of the Uygurs?"
   ]
  },
  {
   "cell_type": "markdown",
   "metadata": {},
   "source": [
    "# 5. Outgroup-F3\n",
    "Next, we can compute outgroup-F3 stats in a very similar fashion. To do so,\n",
    "we'll use the European data. \n",
    "\n",
    "In the data, you will find a population labelled as `unknown`. \n",
    "Which population could they be most closely related to?\n",
    "\n",
    "We can use a very similar approach as before:\n",
    " - C will be the `Mbuti`-population\n",
    " - B will be the `unknown`-population\n",
    " - A will be the list of all candidates\n",
    "\n",
    "**Task 2:** Use `admixr` (or if you _really_ prefer, `qp3Pop` manually) to \n",
    "1. load an eigenstrat object for the `europe`-dataset\n",
    "2. read all populations present in that data into memory using the `read_ind` function\n",
    "3. calculate all outgroup-$F_3$-statistics\n",
    "4. create a figure visualizing your results"
   ]
  },
  {
   "cell_type": "markdown",
   "metadata": {},
   "source": [
    "# 6. D-statistics\n",
    "next, we can test for admixture in the past history of humans by lookin for an excess of ABBA or an excess of BABA sites in a 4-population tree.\n",
    "\n",
    "For this purpose, we use the ancient dataset, which contains a subset of the Lazaridis-data with Chimpanzee, Oranguan, Neandertal, Denisovan and a small number of modern Human population samples.\n",
    "\n",
    "To calculate D-stats is very similar to calculating $F_3$: instead of `admixr::f3` we use `admixr::D`:\n",
    "\n",
    "**Task 3**: Use admixr (or if you really prefer, qp3Pop manually) to\n",
    "\n",
    " - load an eigenstrat object for the `ancient`-dataset\n",
    " - read all populations present in that data into memory using the `read_ind`-function\n",
    " - calculate all D-statistics of the form $D(MH_1, MH_2, AH, \\text{Primate})$ \n",
    " - create a figure visualizing your results\n",
    "\n",
    "\n",
    "**Question 4**: Are any of the statistics significant? In what direction? (i.e. is there an excess of ABBA or BABA patterns, relative to what you would expect under a 4-population tree?). Is this consistent with what you might expect? "
   ]
  }
 ],
 "metadata": {
  "kernelspec": {
   "display_name": "R",
   "language": "R",
   "name": "ir"
  },
  "language_info": {
   "codemirror_mode": "r",
   "file_extension": ".r",
   "mimetype": "text/x-r-source",
   "name": "R",
   "pygments_lexer": "r",
   "version": "3.4.4"
  }
 },
 "nbformat": 4,
 "nbformat_minor": 2
}
