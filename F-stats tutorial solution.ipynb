{
 "cells": [
  {
   "cell_type": "markdown",
   "metadata": {},
   "source": [
    "# 0. Resources\n",
    "- [`Admixtools`](https://github.com/DReichLab/AdmixTools)\n",
    "- [`admixr`](https://github.com/bodkan/admixr)\n",
    "- [`admixr`-tutorial:](https://bodkan.net/admixr/articles/tutorial.html)\n",
    "- [Patterson et al. (2012)](http://www.genetics.org/content/192/3/1065)\n",
    "- [Bhatia et al. (2013)](https://www.ncbi.nlm.nih.gov/pmc/articles/PMC3759727/)\n",
    "- [Peter (2016)](http://www.genetics.org/content/202/4/1485)\n",
    "- [Petr et al. (2019)](https://academic.oup.com/bioinformatics/advance-article/doi/10.1093/bioinformatics/btz030/5298728)\n",
    "\n",
    "\n",
    "# 1.  Setting up\n",
    "To get your own copy of this tutorial, you will need to copy it to your directory by logging into the console and copying it over:\n",
    "\n",
    "````bash\n",
    "cp -r ~ben/fstats/ .\n",
    "\n",
    "```\n",
    "\n",
    "Next, you will need to start R remotely, and load the required packages for the tutorial"
   ]
  },
  {
   "cell_type": "code",
   "execution_count": 1,
   "metadata": {},
   "outputs": [],
   "source": [
    "suppressPackageStartupMessages({\n",
    "    library(admixr)\n",
    "    library(data.table)\n",
    "    library(tidyverse)\n",
    "    source(\"scripts/analysis.R\")\n",
    "})"
   ]
  },
  {
   "cell_type": "markdown",
   "metadata": {},
   "source": [
    "Let us know if any of this does not work\n",
    "\n",
    "# 2. Data\n",
    "For this tutorial, we will be using data from the (fully public) version of\n",
    " Lazaridis et al 2014, that can be downloaded from\n",
    "https://reich.hms.harvard.edu/datasets. This data has an unique ascertainment\n",
    "scheme, so throughout we need to keep ascertainment bias in mind. \n",
    "\n",
    "In order to save time, I subset the data and converted it to various formats,\n",
    "namely the `plink` and `eigenstrat` formats that we will be using throughout."
   ]
  },
  {
   "cell_type": "code",
   "execution_count": 2,
   "metadata": {},
   "outputs": [
    {
     "data": {
      "text/html": [
       "<ol class=list-inline>\n",
       "\t<li>'europe.geno'</li>\n",
       "\t<li>'europe.ind'</li>\n",
       "\t<li>'europe.snp'</li>\n",
       "</ol>\n"
      ],
      "text/latex": [
       "\\begin{enumerate*}\n",
       "\\item 'europe.geno'\n",
       "\\item 'europe.ind'\n",
       "\\item 'europe.snp'\n",
       "\\end{enumerate*}\n"
      ],
      "text/markdown": [
       "1. 'europe.geno'\n",
       "2. 'europe.ind'\n",
       "3. 'europe.snp'\n",
       "\n",
       "\n"
      ],
      "text/plain": [
       "[1] \"europe.geno\" \"europe.ind\"  \"europe.snp\" "
      ]
     },
     "metadata": {},
     "output_type": "display_data"
    },
    {
     "data": {
      "text/html": [
       "<ol class=list-inline>\n",
       "\t<li>'world.1.frq.strat'</li>\n",
       "\t<li>'world.frq.strat'</li>\n",
       "\t<li>'world.geno'</li>\n",
       "\t<li>'world.ind'</li>\n",
       "\t<li>'world.snp'</li>\n",
       "</ol>\n"
      ],
      "text/latex": [
       "\\begin{enumerate*}\n",
       "\\item 'world.1.frq.strat'\n",
       "\\item 'world.frq.strat'\n",
       "\\item 'world.geno'\n",
       "\\item 'world.ind'\n",
       "\\item 'world.snp'\n",
       "\\end{enumerate*}\n"
      ],
      "text/markdown": [
       "1. 'world.1.frq.strat'\n",
       "2. 'world.frq.strat'\n",
       "3. 'world.geno'\n",
       "4. 'world.ind'\n",
       "5. 'world.snp'\n",
       "\n",
       "\n"
      ],
      "text/plain": [
       "[1] \"world.1.frq.strat\" \"world.frq.strat\"   \"world.geno\"       \n",
       "[4] \"world.ind\"         \"world.snp\"        "
      ]
     },
     "metadata": {},
     "output_type": "display_data"
    }
   ],
   "source": [
    "list.files(\"data/europe/\")\n",
    "list.files(\"data/world/\")"
   ]
  },
  {
   "cell_type": "markdown",
   "metadata": {},
   "source": [
    "To see which samples we have available, we can load the file containing all the individuals into `R`"
   ]
  },
  {
   "cell_type": "code",
   "execution_count": 3,
   "metadata": {},
   "outputs": [],
   "source": [
    "world <- eigenstrat(\"data/world//world\")\n",
    "ind <- admixr::read_ind(world)"
   ]
  },
  {
   "cell_type": "markdown",
   "metadata": {},
   "source": [
    "\n",
    "\n",
    "**Question 1:** How many individuals and populations are there in this data set?"
   ]
  },
  {
   "cell_type": "code",
   "execution_count": 4,
   "metadata": {},
   "outputs": [
    {
     "data": {
      "text/plain": [
       "\n",
       " AA_Denver     French        Han    Khomani MbutiPygmy     Papuan  Sardinian \n",
       "        12         25         33         11         10         14         27 \n",
       "    Sindhi      Surui      Uygur      Yakut     Yoruba \n",
       "        18          8         10         20         70 "
      ]
     },
     "metadata": {},
     "output_type": "display_data"
    }
   ],
   "source": [
    "table(ind$label)"
   ]
  },
  {
   "cell_type": "markdown",
   "metadata": {},
   "source": [
    "# 3. Pairwise distances\n",
    "Next, we want to look at how similar / dissimilar two data sets are. For this purpose, we use frequency table generated using `plink`. We can load a small part of it into `R` using the `read_data` function that I wrote (see the `scripts/analysis.R`-script we loaded for details:\n",
    "\n",
    "**important:** load only a few (e.g. 10,000) rows into memory. Otherwise we'll crash the computer"
   ]
  },
  {
   "cell_type": "code",
   "execution_count": 8,
   "metadata": {},
   "outputs": [
    {
     "data": {
      "text/html": [
       "<table>\n",
       "<thead><tr><th scope=col>CHR</th><th scope=col>SNP</th><th scope=col>CLST</th><th scope=col>A1</th><th scope=col>A2</th><th scope=col>MAF</th><th scope=col>MAC</th><th scope=col>NCHROBS</th></tr></thead>\n",
       "<tbody>\n",
       "\t<tr><td>1            </td><td>Affx-13943225</td><td>AA_Denver    </td><td>G            </td><td>A            </td><td>0.45830      </td><td>11           </td><td> 24          </td></tr>\n",
       "\t<tr><td>1            </td><td>Affx-13943225</td><td>French       </td><td>G            </td><td>A            </td><td>0.16670      </td><td> 8           </td><td> 48          </td></tr>\n",
       "\t<tr><td>1            </td><td>Affx-13943225</td><td>Han          </td><td>G            </td><td>A            </td><td>0.06061      </td><td> 4           </td><td> 66          </td></tr>\n",
       "\t<tr><td>1            </td><td>Affx-13943225</td><td>Khomani      </td><td>G            </td><td>A            </td><td>0.27270      </td><td> 6           </td><td> 22          </td></tr>\n",
       "\t<tr><td>1            </td><td>Affx-13943225</td><td>MbutiPygmy   </td><td>G            </td><td>A            </td><td>0.65000      </td><td>13           </td><td> 20          </td></tr>\n",
       "\t<tr><td>1            </td><td>Affx-13943225</td><td>Papuan       </td><td>G            </td><td>A            </td><td>0.07143      </td><td> 2           </td><td> 28          </td></tr>\n",
       "\t<tr><td>1            </td><td>Affx-13943225</td><td>Sardinian    </td><td>G            </td><td>A            </td><td>0.07407      </td><td> 4           </td><td> 54          </td></tr>\n",
       "\t<tr><td>1            </td><td>Affx-13943225</td><td>Sindhi       </td><td>G            </td><td>A            </td><td>0.30560      </td><td>11           </td><td> 36          </td></tr>\n",
       "\t<tr><td>1            </td><td>Affx-13943225</td><td>Surui        </td><td>G            </td><td>A            </td><td>0.12500      </td><td> 2           </td><td> 16          </td></tr>\n",
       "\t<tr><td>1            </td><td>Affx-13943225</td><td>Uygur        </td><td>G            </td><td>A            </td><td>0.10000      </td><td> 2           </td><td> 20          </td></tr>\n",
       "\t<tr><td>1            </td><td>Affx-13943225</td><td>Yakut        </td><td>G            </td><td>A            </td><td>0.10000      </td><td> 4           </td><td> 40          </td></tr>\n",
       "\t<tr><td>1            </td><td>Affx-13943225</td><td>Yoruba       </td><td>G            </td><td>A            </td><td>0.67140      </td><td>94           </td><td>140          </td></tr>\n",
       "\t<tr><td>1            </td><td>Affx-14804912</td><td>AA_Denver    </td><td>G            </td><td>T            </td><td>0.12500      </td><td> 3           </td><td> 24          </td></tr>\n",
       "\t<tr><td>1            </td><td>Affx-14804912</td><td>French       </td><td>G            </td><td>T            </td><td>0.22000      </td><td>11           </td><td> 50          </td></tr>\n",
       "\t<tr><td>1            </td><td>Affx-14804912</td><td>Han          </td><td>G            </td><td>T            </td><td>0.10610      </td><td> 7           </td><td> 66          </td></tr>\n",
       "\t<tr><td>1            </td><td>Affx-14804912</td><td>Khomani      </td><td>G            </td><td>T            </td><td>0.31820      </td><td> 7           </td><td> 22          </td></tr>\n",
       "\t<tr><td>1            </td><td>Affx-14804912</td><td>MbutiPygmy   </td><td>G            </td><td>T            </td><td>0.50000      </td><td>10           </td><td> 20          </td></tr>\n",
       "\t<tr><td>1            </td><td>Affx-14804912</td><td>Papuan       </td><td>G            </td><td>T            </td><td>0.03571      </td><td> 1           </td><td> 28          </td></tr>\n",
       "\t<tr><td>1            </td><td>Affx-14804912</td><td>Sardinian    </td><td>G            </td><td>T            </td><td>0.07407      </td><td> 4           </td><td> 54          </td></tr>\n",
       "\t<tr><td>1            </td><td>Affx-14804912</td><td>Sindhi       </td><td>G            </td><td>T            </td><td>0.36110      </td><td>13           </td><td> 36          </td></tr>\n",
       "\t<tr><td>1            </td><td>Affx-14804912</td><td>Surui        </td><td>G            </td><td>T            </td><td>0.12500      </td><td> 2           </td><td> 16          </td></tr>\n",
       "\t<tr><td>1            </td><td>Affx-14804912</td><td>Uygur        </td><td>G            </td><td>T            </td><td>0.40000      </td><td> 8           </td><td> 20          </td></tr>\n",
       "\t<tr><td>1            </td><td>Affx-14804912</td><td>Yakut        </td><td>G            </td><td>T            </td><td>0.25000      </td><td>10           </td><td> 40          </td></tr>\n",
       "\t<tr><td>1            </td><td>Affx-14804912</td><td>Yoruba       </td><td>G            </td><td>T            </td><td>0.14290      </td><td>20           </td><td>140          </td></tr>\n",
       "\t<tr><td>1            </td><td>Affx-15453076</td><td>AA_Denver    </td><td>G            </td><td>A            </td><td>0.20830      </td><td> 5           </td><td> 24          </td></tr>\n",
       "\t<tr><td>1            </td><td>Affx-15453076</td><td>French       </td><td>G            </td><td>A            </td><td>0.06000      </td><td> 3           </td><td> 50          </td></tr>\n",
       "\t<tr><td>1            </td><td>Affx-15453076</td><td>Han          </td><td>G            </td><td>A            </td><td>0.19700      </td><td>13           </td><td> 66          </td></tr>\n",
       "\t<tr><td>1            </td><td>Affx-15453076</td><td>Khomani      </td><td>G            </td><td>A            </td><td>0.45450      </td><td>10           </td><td> 22          </td></tr>\n",
       "\t<tr><td>1            </td><td>Affx-15453076</td><td>MbutiPygmy   </td><td>G            </td><td>A            </td><td>0.50000      </td><td>10           </td><td> 20          </td></tr>\n",
       "\t<tr><td>1            </td><td>Affx-15453076</td><td>Papuan       </td><td>G            </td><td>A            </td><td>0.89290      </td><td>25           </td><td> 28          </td></tr>\n",
       "\t<tr><td>⋮</td><td>⋮</td><td>⋮</td><td>⋮</td><td>⋮</td><td>⋮</td><td>⋮</td><td>⋮</td></tr>\n",
       "\t<tr><td>1           </td><td>Affx-9448457</td><td>Yakut       </td><td>T           </td><td>G           </td><td>0.00000     </td><td> 0          </td><td> 40         </td></tr>\n",
       "\t<tr><td>1           </td><td>Affx-9448457</td><td>Yoruba      </td><td>T           </td><td>G           </td><td>0.15940     </td><td>22          </td><td>138         </td></tr>\n",
       "\t<tr><td>1           </td><td>Affx-9448535</td><td>AA_Denver   </td><td>C           </td><td>T           </td><td>0.33330     </td><td> 8          </td><td> 24         </td></tr>\n",
       "\t<tr><td>1           </td><td>Affx-9448535</td><td>French      </td><td>C           </td><td>T           </td><td>0.28000     </td><td>14          </td><td> 50         </td></tr>\n",
       "\t<tr><td>1           </td><td>Affx-9448535</td><td>Han         </td><td>C           </td><td>T           </td><td>0.06061     </td><td> 4          </td><td> 66         </td></tr>\n",
       "\t<tr><td>1           </td><td>Affx-9448535</td><td>Khomani     </td><td>C           </td><td>T           </td><td>0.40910     </td><td> 9          </td><td> 22         </td></tr>\n",
       "\t<tr><td>1           </td><td>Affx-9448535</td><td>MbutiPygmy  </td><td>C           </td><td>T           </td><td>0.40000     </td><td> 8          </td><td> 20         </td></tr>\n",
       "\t<tr><td>1           </td><td>Affx-9448535</td><td>Papuan      </td><td>C           </td><td>T           </td><td>0.03571     </td><td> 1          </td><td> 28         </td></tr>\n",
       "\t<tr><td>1           </td><td>Affx-9448535</td><td>Sardinian   </td><td>C           </td><td>T           </td><td>0.16670     </td><td> 9          </td><td> 54         </td></tr>\n",
       "\t<tr><td>1           </td><td>Affx-9448535</td><td>Sindhi      </td><td>C           </td><td>T           </td><td>0.16670     </td><td> 6          </td><td> 36         </td></tr>\n",
       "\t<tr><td>1           </td><td>Affx-9448535</td><td>Surui       </td><td>C           </td><td>T           </td><td>0.93750     </td><td>15          </td><td> 16         </td></tr>\n",
       "\t<tr><td>1           </td><td>Affx-9448535</td><td>Uygur       </td><td>C           </td><td>T           </td><td>0.25000     </td><td> 5          </td><td> 20         </td></tr>\n",
       "\t<tr><td>1           </td><td>Affx-9448535</td><td>Yakut       </td><td>C           </td><td>T           </td><td>0.30000     </td><td>12          </td><td> 40         </td></tr>\n",
       "\t<tr><td>1           </td><td>Affx-9448535</td><td>Yoruba      </td><td>C           </td><td>T           </td><td>0.33570     </td><td>47          </td><td>140         </td></tr>\n",
       "\t<tr><td>1           </td><td>Affx-9449137</td><td>AA_Denver   </td><td>G           </td><td>A           </td><td>0.04167     </td><td> 1          </td><td> 24         </td></tr>\n",
       "\t<tr><td>1           </td><td>Affx-9449137</td><td>French      </td><td>G           </td><td>A           </td><td>0.00000     </td><td> 0          </td><td> 50         </td></tr>\n",
       "\t<tr><td>1           </td><td>Affx-9449137</td><td>Han         </td><td>G           </td><td>A           </td><td>0.00000     </td><td> 0          </td><td> 66         </td></tr>\n",
       "\t<tr><td>1           </td><td>Affx-9449137</td><td>Khomani     </td><td>G           </td><td>A           </td><td>0.04545     </td><td> 1          </td><td> 22         </td></tr>\n",
       "\t<tr><td>1           </td><td>Affx-9449137</td><td>MbutiPygmy  </td><td>G           </td><td>A           </td><td>0.16670     </td><td> 3          </td><td> 18         </td></tr>\n",
       "\t<tr><td>1           </td><td>Affx-9449137</td><td>Papuan      </td><td>G           </td><td>A           </td><td>0.00000     </td><td> 0          </td><td> 28         </td></tr>\n",
       "\t<tr><td>1           </td><td>Affx-9449137</td><td>Sardinian   </td><td>G           </td><td>A           </td><td>0.00000     </td><td> 0          </td><td> 52         </td></tr>\n",
       "\t<tr><td>1           </td><td>Affx-9449137</td><td>Sindhi      </td><td>G           </td><td>A           </td><td>0.00000     </td><td> 0          </td><td> 36         </td></tr>\n",
       "\t<tr><td>1           </td><td>Affx-9449137</td><td>Surui       </td><td>G           </td><td>A           </td><td>0.00000     </td><td> 0          </td><td> 16         </td></tr>\n",
       "\t<tr><td>1           </td><td>Affx-9449137</td><td>Uygur       </td><td>G           </td><td>A           </td><td>0.00000     </td><td> 0          </td><td> 20         </td></tr>\n",
       "\t<tr><td>1           </td><td>Affx-9449137</td><td>Yakut       </td><td>G           </td><td>A           </td><td>0.00000     </td><td> 0          </td><td> 40         </td></tr>\n",
       "\t<tr><td>1           </td><td>Affx-9449137</td><td>Yoruba      </td><td>G           </td><td>A           </td><td>0.02273     </td><td> 3          </td><td>132         </td></tr>\n",
       "\t<tr><td>1           </td><td>Affx-9449837</td><td>AA_Denver   </td><td>G           </td><td>A           </td><td>0.33330     </td><td> 8          </td><td> 24         </td></tr>\n",
       "\t<tr><td>1           </td><td>Affx-9449837</td><td>French      </td><td>G           </td><td>A           </td><td>0.48000     </td><td>24          </td><td> 50         </td></tr>\n",
       "\t<tr><td>1           </td><td>Affx-9449837</td><td>Han         </td><td>G           </td><td>A           </td><td>0.16670     </td><td>11          </td><td> 66         </td></tr>\n",
       "\t<tr><td>1           </td><td>Affx-9449837</td><td>Khomani     </td><td>G           </td><td>A           </td><td>0.27270     </td><td> 6          </td><td> 22         </td></tr>\n",
       "</tbody>\n",
       "</table>\n"
      ],
      "text/latex": [
       "\\begin{tabular}{r|llllllll}\n",
       " CHR & SNP & CLST & A1 & A2 & MAF & MAC & NCHROBS\\\\\n",
       "\\hline\n",
       "\t 1             & Affx-13943225 & AA\\_Denver   & G             & A             & 0.45830       & 11            &  24          \\\\\n",
       "\t 1             & Affx-13943225 & French        & G             & A             & 0.16670       &  8            &  48          \\\\\n",
       "\t 1             & Affx-13943225 & Han           & G             & A             & 0.06061       &  4            &  66          \\\\\n",
       "\t 1             & Affx-13943225 & Khomani       & G             & A             & 0.27270       &  6            &  22          \\\\\n",
       "\t 1             & Affx-13943225 & MbutiPygmy    & G             & A             & 0.65000       & 13            &  20          \\\\\n",
       "\t 1             & Affx-13943225 & Papuan        & G             & A             & 0.07143       &  2            &  28          \\\\\n",
       "\t 1             & Affx-13943225 & Sardinian     & G             & A             & 0.07407       &  4            &  54          \\\\\n",
       "\t 1             & Affx-13943225 & Sindhi        & G             & A             & 0.30560       & 11            &  36          \\\\\n",
       "\t 1             & Affx-13943225 & Surui         & G             & A             & 0.12500       &  2            &  16          \\\\\n",
       "\t 1             & Affx-13943225 & Uygur         & G             & A             & 0.10000       &  2            &  20          \\\\\n",
       "\t 1             & Affx-13943225 & Yakut         & G             & A             & 0.10000       &  4            &  40          \\\\\n",
       "\t 1             & Affx-13943225 & Yoruba        & G             & A             & 0.67140       & 94            & 140          \\\\\n",
       "\t 1             & Affx-14804912 & AA\\_Denver   & G             & T             & 0.12500       &  3            &  24          \\\\\n",
       "\t 1             & Affx-14804912 & French        & G             & T             & 0.22000       & 11            &  50          \\\\\n",
       "\t 1             & Affx-14804912 & Han           & G             & T             & 0.10610       &  7            &  66          \\\\\n",
       "\t 1             & Affx-14804912 & Khomani       & G             & T             & 0.31820       &  7            &  22          \\\\\n",
       "\t 1             & Affx-14804912 & MbutiPygmy    & G             & T             & 0.50000       & 10            &  20          \\\\\n",
       "\t 1             & Affx-14804912 & Papuan        & G             & T             & 0.03571       &  1            &  28          \\\\\n",
       "\t 1             & Affx-14804912 & Sardinian     & G             & T             & 0.07407       &  4            &  54          \\\\\n",
       "\t 1             & Affx-14804912 & Sindhi        & G             & T             & 0.36110       & 13            &  36          \\\\\n",
       "\t 1             & Affx-14804912 & Surui         & G             & T             & 0.12500       &  2            &  16          \\\\\n",
       "\t 1             & Affx-14804912 & Uygur         & G             & T             & 0.40000       &  8            &  20          \\\\\n",
       "\t 1             & Affx-14804912 & Yakut         & G             & T             & 0.25000       & 10            &  40          \\\\\n",
       "\t 1             & Affx-14804912 & Yoruba        & G             & T             & 0.14290       & 20            & 140          \\\\\n",
       "\t 1             & Affx-15453076 & AA\\_Denver   & G             & A             & 0.20830       &  5            &  24          \\\\\n",
       "\t 1             & Affx-15453076 & French        & G             & A             & 0.06000       &  3            &  50          \\\\\n",
       "\t 1             & Affx-15453076 & Han           & G             & A             & 0.19700       & 13            &  66          \\\\\n",
       "\t 1             & Affx-15453076 & Khomani       & G             & A             & 0.45450       & 10            &  22          \\\\\n",
       "\t 1             & Affx-15453076 & MbutiPygmy    & G             & A             & 0.50000       & 10            &  20          \\\\\n",
       "\t 1             & Affx-15453076 & Papuan        & G             & A             & 0.89290       & 25            &  28          \\\\\n",
       "\t ⋮ & ⋮ & ⋮ & ⋮ & ⋮ & ⋮ & ⋮ & ⋮\\\\\n",
       "\t 1            & Affx-9448457 & Yakut        & T            & G            & 0.00000      &  0           &  40         \\\\\n",
       "\t 1            & Affx-9448457 & Yoruba       & T            & G            & 0.15940      & 22           & 138         \\\\\n",
       "\t 1            & Affx-9448535 & AA\\_Denver  & C            & T            & 0.33330      &  8           &  24         \\\\\n",
       "\t 1            & Affx-9448535 & French       & C            & T            & 0.28000      & 14           &  50         \\\\\n",
       "\t 1            & Affx-9448535 & Han          & C            & T            & 0.06061      &  4           &  66         \\\\\n",
       "\t 1            & Affx-9448535 & Khomani      & C            & T            & 0.40910      &  9           &  22         \\\\\n",
       "\t 1            & Affx-9448535 & MbutiPygmy   & C            & T            & 0.40000      &  8           &  20         \\\\\n",
       "\t 1            & Affx-9448535 & Papuan       & C            & T            & 0.03571      &  1           &  28         \\\\\n",
       "\t 1            & Affx-9448535 & Sardinian    & C            & T            & 0.16670      &  9           &  54         \\\\\n",
       "\t 1            & Affx-9448535 & Sindhi       & C            & T            & 0.16670      &  6           &  36         \\\\\n",
       "\t 1            & Affx-9448535 & Surui        & C            & T            & 0.93750      & 15           &  16         \\\\\n",
       "\t 1            & Affx-9448535 & Uygur        & C            & T            & 0.25000      &  5           &  20         \\\\\n",
       "\t 1            & Affx-9448535 & Yakut        & C            & T            & 0.30000      & 12           &  40         \\\\\n",
       "\t 1            & Affx-9448535 & Yoruba       & C            & T            & 0.33570      & 47           & 140         \\\\\n",
       "\t 1            & Affx-9449137 & AA\\_Denver  & G            & A            & 0.04167      &  1           &  24         \\\\\n",
       "\t 1            & Affx-9449137 & French       & G            & A            & 0.00000      &  0           &  50         \\\\\n",
       "\t 1            & Affx-9449137 & Han          & G            & A            & 0.00000      &  0           &  66         \\\\\n",
       "\t 1            & Affx-9449137 & Khomani      & G            & A            & 0.04545      &  1           &  22         \\\\\n",
       "\t 1            & Affx-9449137 & MbutiPygmy   & G            & A            & 0.16670      &  3           &  18         \\\\\n",
       "\t 1            & Affx-9449137 & Papuan       & G            & A            & 0.00000      &  0           &  28         \\\\\n",
       "\t 1            & Affx-9449137 & Sardinian    & G            & A            & 0.00000      &  0           &  52         \\\\\n",
       "\t 1            & Affx-9449137 & Sindhi       & G            & A            & 0.00000      &  0           &  36         \\\\\n",
       "\t 1            & Affx-9449137 & Surui        & G            & A            & 0.00000      &  0           &  16         \\\\\n",
       "\t 1            & Affx-9449137 & Uygur        & G            & A            & 0.00000      &  0           &  20         \\\\\n",
       "\t 1            & Affx-9449137 & Yakut        & G            & A            & 0.00000      &  0           &  40         \\\\\n",
       "\t 1            & Affx-9449137 & Yoruba       & G            & A            & 0.02273      &  3           & 132         \\\\\n",
       "\t 1            & Affx-9449837 & AA\\_Denver  & G            & A            & 0.33330      &  8           &  24         \\\\\n",
       "\t 1            & Affx-9449837 & French       & G            & A            & 0.48000      & 24           &  50         \\\\\n",
       "\t 1            & Affx-9449837 & Han          & G            & A            & 0.16670      & 11           &  66         \\\\\n",
       "\t 1            & Affx-9449837 & Khomani      & G            & A            & 0.27270      &  6           &  22         \\\\\n",
       "\\end{tabular}\n"
      ],
      "text/markdown": [
       "\n",
       "| CHR | SNP | CLST | A1 | A2 | MAF | MAC | NCHROBS |\n",
       "|---|---|---|---|---|---|---|---|\n",
       "| 1             | Affx-13943225 | AA_Denver     | G             | A             | 0.45830       | 11            |  24           |\n",
       "| 1             | Affx-13943225 | French        | G             | A             | 0.16670       |  8            |  48           |\n",
       "| 1             | Affx-13943225 | Han           | G             | A             | 0.06061       |  4            |  66           |\n",
       "| 1             | Affx-13943225 | Khomani       | G             | A             | 0.27270       |  6            |  22           |\n",
       "| 1             | Affx-13943225 | MbutiPygmy    | G             | A             | 0.65000       | 13            |  20           |\n",
       "| 1             | Affx-13943225 | Papuan        | G             | A             | 0.07143       |  2            |  28           |\n",
       "| 1             | Affx-13943225 | Sardinian     | G             | A             | 0.07407       |  4            |  54           |\n",
       "| 1             | Affx-13943225 | Sindhi        | G             | A             | 0.30560       | 11            |  36           |\n",
       "| 1             | Affx-13943225 | Surui         | G             | A             | 0.12500       |  2            |  16           |\n",
       "| 1             | Affx-13943225 | Uygur         | G             | A             | 0.10000       |  2            |  20           |\n",
       "| 1             | Affx-13943225 | Yakut         | G             | A             | 0.10000       |  4            |  40           |\n",
       "| 1             | Affx-13943225 | Yoruba        | G             | A             | 0.67140       | 94            | 140           |\n",
       "| 1             | Affx-14804912 | AA_Denver     | G             | T             | 0.12500       |  3            |  24           |\n",
       "| 1             | Affx-14804912 | French        | G             | T             | 0.22000       | 11            |  50           |\n",
       "| 1             | Affx-14804912 | Han           | G             | T             | 0.10610       |  7            |  66           |\n",
       "| 1             | Affx-14804912 | Khomani       | G             | T             | 0.31820       |  7            |  22           |\n",
       "| 1             | Affx-14804912 | MbutiPygmy    | G             | T             | 0.50000       | 10            |  20           |\n",
       "| 1             | Affx-14804912 | Papuan        | G             | T             | 0.03571       |  1            |  28           |\n",
       "| 1             | Affx-14804912 | Sardinian     | G             | T             | 0.07407       |  4            |  54           |\n",
       "| 1             | Affx-14804912 | Sindhi        | G             | T             | 0.36110       | 13            |  36           |\n",
       "| 1             | Affx-14804912 | Surui         | G             | T             | 0.12500       |  2            |  16           |\n",
       "| 1             | Affx-14804912 | Uygur         | G             | T             | 0.40000       |  8            |  20           |\n",
       "| 1             | Affx-14804912 | Yakut         | G             | T             | 0.25000       | 10            |  40           |\n",
       "| 1             | Affx-14804912 | Yoruba        | G             | T             | 0.14290       | 20            | 140           |\n",
       "| 1             | Affx-15453076 | AA_Denver     | G             | A             | 0.20830       |  5            |  24           |\n",
       "| 1             | Affx-15453076 | French        | G             | A             | 0.06000       |  3            |  50           |\n",
       "| 1             | Affx-15453076 | Han           | G             | A             | 0.19700       | 13            |  66           |\n",
       "| 1             | Affx-15453076 | Khomani       | G             | A             | 0.45450       | 10            |  22           |\n",
       "| 1             | Affx-15453076 | MbutiPygmy    | G             | A             | 0.50000       | 10            |  20           |\n",
       "| 1             | Affx-15453076 | Papuan        | G             | A             | 0.89290       | 25            |  28           |\n",
       "| ⋮ | ⋮ | ⋮ | ⋮ | ⋮ | ⋮ | ⋮ | ⋮ |\n",
       "| 1            | Affx-9448457 | Yakut        | T            | G            | 0.00000      |  0           |  40          |\n",
       "| 1            | Affx-9448457 | Yoruba       | T            | G            | 0.15940      | 22           | 138          |\n",
       "| 1            | Affx-9448535 | AA_Denver    | C            | T            | 0.33330      |  8           |  24          |\n",
       "| 1            | Affx-9448535 | French       | C            | T            | 0.28000      | 14           |  50          |\n",
       "| 1            | Affx-9448535 | Han          | C            | T            | 0.06061      |  4           |  66          |\n",
       "| 1            | Affx-9448535 | Khomani      | C            | T            | 0.40910      |  9           |  22          |\n",
       "| 1            | Affx-9448535 | MbutiPygmy   | C            | T            | 0.40000      |  8           |  20          |\n",
       "| 1            | Affx-9448535 | Papuan       | C            | T            | 0.03571      |  1           |  28          |\n",
       "| 1            | Affx-9448535 | Sardinian    | C            | T            | 0.16670      |  9           |  54          |\n",
       "| 1            | Affx-9448535 | Sindhi       | C            | T            | 0.16670      |  6           |  36          |\n",
       "| 1            | Affx-9448535 | Surui        | C            | T            | 0.93750      | 15           |  16          |\n",
       "| 1            | Affx-9448535 | Uygur        | C            | T            | 0.25000      |  5           |  20          |\n",
       "| 1            | Affx-9448535 | Yakut        | C            | T            | 0.30000      | 12           |  40          |\n",
       "| 1            | Affx-9448535 | Yoruba       | C            | T            | 0.33570      | 47           | 140          |\n",
       "| 1            | Affx-9449137 | AA_Denver    | G            | A            | 0.04167      |  1           |  24          |\n",
       "| 1            | Affx-9449137 | French       | G            | A            | 0.00000      |  0           |  50          |\n",
       "| 1            | Affx-9449137 | Han          | G            | A            | 0.00000      |  0           |  66          |\n",
       "| 1            | Affx-9449137 | Khomani      | G            | A            | 0.04545      |  1           |  22          |\n",
       "| 1            | Affx-9449137 | MbutiPygmy   | G            | A            | 0.16670      |  3           |  18          |\n",
       "| 1            | Affx-9449137 | Papuan       | G            | A            | 0.00000      |  0           |  28          |\n",
       "| 1            | Affx-9449137 | Sardinian    | G            | A            | 0.00000      |  0           |  52          |\n",
       "| 1            | Affx-9449137 | Sindhi       | G            | A            | 0.00000      |  0           |  36          |\n",
       "| 1            | Affx-9449137 | Surui        | G            | A            | 0.00000      |  0           |  16          |\n",
       "| 1            | Affx-9449137 | Uygur        | G            | A            | 0.00000      |  0           |  20          |\n",
       "| 1            | Affx-9449137 | Yakut        | G            | A            | 0.00000      |  0           |  40          |\n",
       "| 1            | Affx-9449137 | Yoruba       | G            | A            | 0.02273      |  3           | 132          |\n",
       "| 1            | Affx-9449837 | AA_Denver    | G            | A            | 0.33330      |  8           |  24          |\n",
       "| 1            | Affx-9449837 | French       | G            | A            | 0.48000      | 24           |  50          |\n",
       "| 1            | Affx-9449837 | Han          | G            | A            | 0.16670      | 11           |  66          |\n",
       "| 1            | Affx-9449837 | Khomani      | G            | A            | 0.27270      |  6           |  22          |\n",
       "\n"
      ],
      "text/plain": [
       "       CHR SNP           CLST       A1 A2 MAF     MAC NCHROBS\n",
       "1      1   Affx-13943225 AA_Denver  G  A  0.45830 11   24    \n",
       "2      1   Affx-13943225 French     G  A  0.16670  8   48    \n",
       "3      1   Affx-13943225 Han        G  A  0.06061  4   66    \n",
       "4      1   Affx-13943225 Khomani    G  A  0.27270  6   22    \n",
       "5      1   Affx-13943225 MbutiPygmy G  A  0.65000 13   20    \n",
       "6      1   Affx-13943225 Papuan     G  A  0.07143  2   28    \n",
       "7      1   Affx-13943225 Sardinian  G  A  0.07407  4   54    \n",
       "8      1   Affx-13943225 Sindhi     G  A  0.30560 11   36    \n",
       "9      1   Affx-13943225 Surui      G  A  0.12500  2   16    \n",
       "10     1   Affx-13943225 Uygur      G  A  0.10000  2   20    \n",
       "11     1   Affx-13943225 Yakut      G  A  0.10000  4   40    \n",
       "12     1   Affx-13943225 Yoruba     G  A  0.67140 94  140    \n",
       "13     1   Affx-14804912 AA_Denver  G  T  0.12500  3   24    \n",
       "14     1   Affx-14804912 French     G  T  0.22000 11   50    \n",
       "15     1   Affx-14804912 Han        G  T  0.10610  7   66    \n",
       "16     1   Affx-14804912 Khomani    G  T  0.31820  7   22    \n",
       "17     1   Affx-14804912 MbutiPygmy G  T  0.50000 10   20    \n",
       "18     1   Affx-14804912 Papuan     G  T  0.03571  1   28    \n",
       "19     1   Affx-14804912 Sardinian  G  T  0.07407  4   54    \n",
       "20     1   Affx-14804912 Sindhi     G  T  0.36110 13   36    \n",
       "21     1   Affx-14804912 Surui      G  T  0.12500  2   16    \n",
       "22     1   Affx-14804912 Uygur      G  T  0.40000  8   20    \n",
       "23     1   Affx-14804912 Yakut      G  T  0.25000 10   40    \n",
       "24     1   Affx-14804912 Yoruba     G  T  0.14290 20  140    \n",
       "25     1   Affx-15453076 AA_Denver  G  A  0.20830  5   24    \n",
       "26     1   Affx-15453076 French     G  A  0.06000  3   50    \n",
       "27     1   Affx-15453076 Han        G  A  0.19700 13   66    \n",
       "28     1   Affx-15453076 Khomani    G  A  0.45450 10   22    \n",
       "29     1   Affx-15453076 MbutiPygmy G  A  0.50000 10   20    \n",
       "30     1   Affx-15453076 Papuan     G  A  0.89290 25   28    \n",
       "⋮      ⋮   ⋮             ⋮          ⋮  ⋮  ⋮       ⋮   ⋮      \n",
       "99971  1   Affx-9448457  Yakut      T  G  0.00000  0   40    \n",
       "99972  1   Affx-9448457  Yoruba     T  G  0.15940 22  138    \n",
       "99973  1   Affx-9448535  AA_Denver  C  T  0.33330  8   24    \n",
       "99974  1   Affx-9448535  French     C  T  0.28000 14   50    \n",
       "99975  1   Affx-9448535  Han        C  T  0.06061  4   66    \n",
       "99976  1   Affx-9448535  Khomani    C  T  0.40910  9   22    \n",
       "99977  1   Affx-9448535  MbutiPygmy C  T  0.40000  8   20    \n",
       "99978  1   Affx-9448535  Papuan     C  T  0.03571  1   28    \n",
       "99979  1   Affx-9448535  Sardinian  C  T  0.16670  9   54    \n",
       "99980  1   Affx-9448535  Sindhi     C  T  0.16670  6   36    \n",
       "99981  1   Affx-9448535  Surui      C  T  0.93750 15   16    \n",
       "99982  1   Affx-9448535  Uygur      C  T  0.25000  5   20    \n",
       "99983  1   Affx-9448535  Yakut      C  T  0.30000 12   40    \n",
       "99984  1   Affx-9448535  Yoruba     C  T  0.33570 47  140    \n",
       "99985  1   Affx-9449137  AA_Denver  G  A  0.04167  1   24    \n",
       "99986  1   Affx-9449137  French     G  A  0.00000  0   50    \n",
       "99987  1   Affx-9449137  Han        G  A  0.00000  0   66    \n",
       "99988  1   Affx-9449137  Khomani    G  A  0.04545  1   22    \n",
       "99989  1   Affx-9449137  MbutiPygmy G  A  0.16670  3   18    \n",
       "99990  1   Affx-9449137  Papuan     G  A  0.00000  0   28    \n",
       "99991  1   Affx-9449137  Sardinian  G  A  0.00000  0   52    \n",
       "99992  1   Affx-9449137  Sindhi     G  A  0.00000  0   36    \n",
       "99993  1   Affx-9449137  Surui      G  A  0.00000  0   16    \n",
       "99994  1   Affx-9449137  Uygur      G  A  0.00000  0   20    \n",
       "99995  1   Affx-9449137  Yakut      G  A  0.00000  0   40    \n",
       "99996  1   Affx-9449137  Yoruba     G  A  0.02273  3  132    \n",
       "99997  1   Affx-9449837  AA_Denver  G  A  0.33330  8   24    \n",
       "99998  1   Affx-9449837  French     G  A  0.48000 24   50    \n",
       "99999  1   Affx-9449837  Han        G  A  0.16670 11   66    \n",
       "100000 1   Affx-9449837  Khomani    G  A  0.27270  6   22    "
      ]
     },
     "metadata": {},
     "output_type": "display_data"
    }
   ],
   "source": [
    "data <- read_data(\"data/world/world.1.frq.strat\", nrows=100000)\n",
    "data"
   ]
  },
  {
   "cell_type": "code",
   "execution_count": 9,
   "metadata": {},
   "outputs": [
    {
     "name": "stderr",
     "output_type": "stream",
     "text": [
      "Joining, by = \"SNP\"\n"
     ]
    },
    {
     "name": "stdout",
     "output_type": "stream",
     "text": [
      "[1] \"AA_Denver\"          \"French\"             \"0.0295140853619485\"\n",
      "[4] \"0.0671840481352346\" \"0.0196480289775711\"\n"
     ]
    },
    {
     "name": "stderr",
     "output_type": "stream",
     "text": [
      "Joining, by = \"SNP\"\n"
     ]
    },
    {
     "name": "stdout",
     "output_type": "stream",
     "text": [
      "[1] \"AA_Denver\"          \"Han\"                \"0.0402553704663221\"\n",
      "[4] \"0.0883840155627265\" \"0.0161366135033581\"\n"
     ]
    },
    {
     "name": "stderr",
     "output_type": "stream",
     "text": [
      "Joining, by = \"SNP\"\n"
     ]
    },
    {
     "name": "stdout",
     "output_type": "stream",
     "text": [
      "[1] \"AA_Denver\"          \"Khomani\"            \"0.0245420996935312\"\n",
      "[4] \"0.055439284789033\"  \"0.0267492744443013\"\n"
     ]
    },
    {
     "name": "stderr",
     "output_type": "stream",
     "text": [
      "Joining, by = \"SNP\"\n"
     ]
    },
    {
     "name": "stdout",
     "output_type": "stream",
     "text": [
      "[1] \"AA_Denver\"          \"MbutiPygmy\"         \"0.0244785313227592\"\n",
      "[4] \"0.0540860425797412\" \"0.029252853534161\" \n"
     ]
    },
    {
     "name": "stderr",
     "output_type": "stream",
     "text": [
      "Joining, by = \"SNP\"\n"
     ]
    },
    {
     "name": "stdout",
     "output_type": "stream",
     "text": [
      "[1] \"AA_Denver\"          \"Papuan\"             \"0.0543011332134107\"\n",
      "[4] \"0.110612558225686\"  \"0.0184425561408869\"\n"
     ]
    },
    {
     "name": "stderr",
     "output_type": "stream",
     "text": [
      "Joining, by = \"SNP\"\n"
     ]
    },
    {
     "name": "stdout",
     "output_type": "stream",
     "text": [
      "[1] \"AA_Denver\"          \"Sardinian\"          \"0.0318406623182145\"\n",
      "[4] \"0.0723556739459373\" \"0.0194691833413495\"\n"
     ]
    },
    {
     "name": "stderr",
     "output_type": "stream",
     "text": [
      "Joining, by = \"SNP\"\n"
     ]
    },
    {
     "name": "stdout",
     "output_type": "stream",
     "text": [
      "[1] \"AA_Denver\"          \"Sindhi\"             \"0.0245151845353795\"\n",
      "[4] \"0.0575756926452954\" \"0.0193948888445038\"\n"
     ]
    },
    {
     "name": "stderr",
     "output_type": "stream",
     "text": [
      "Joining, by = \"SNP\"\n"
     ]
    },
    {
     "name": "stdout",
     "output_type": "stream",
     "text": [
      "[1] \"AA_Denver\"          \"Surui\"              \"0.0759597333291991\"\n",
      "[4] \"0.1481892511312\"    \"0.0146084449078035\"\n"
     ]
    },
    {
     "name": "stderr",
     "output_type": "stream",
     "text": [
      "Joining, by = \"SNP\"\n"
     ]
    },
    {
     "name": "stdout",
     "output_type": "stream",
     "text": [
      "[1] \"AA_Denver\"          \"Uygur\"              \"0.0275628054908648\"\n",
      "[4] \"0.0612137814468859\" \"0.017540273710454\" \n"
     ]
    },
    {
     "name": "stderr",
     "output_type": "stream",
     "text": [
      "Joining, by = \"SNP\"\n"
     ]
    },
    {
     "name": "stdout",
     "output_type": "stream",
     "text": [
      "[1] \"AA_Denver\"          \"Yakut\"              \"0.0401685737798775\"\n",
      "[4] \"0.0865659969060765\" \"0.0162278238495035\"\n"
     ]
    },
    {
     "name": "stderr",
     "output_type": "stream",
     "text": [
      "Joining, by = \"SNP\"\n"
     ]
    },
    {
     "name": "stdout",
     "output_type": "stream",
     "text": [
      "[1] \"AA_Denver\"           \"Yoruba\"              \"0.00395940663822309\"\n",
      "[4] \"0.0118335606586495\"  \"0.0309053600078621\" \n"
     ]
    },
    {
     "name": "stderr",
     "output_type": "stream",
     "text": [
      "Joining, by = \"SNP\"\n",
      "Joining, by = \"SNP\"\n"
     ]
    },
    {
     "name": "stdout",
     "output_type": "stream",
     "text": [
      "[1] \"French\"             \"Han\"                \"0.0305607176044337\"\n",
      "[4] \"0.0692478687310123\" \"0.0243257587941641\"\n"
     ]
    },
    {
     "name": "stderr",
     "output_type": "stream",
     "text": [
      "Joining, by = \"SNP\"\n"
     ]
    },
    {
     "name": "stdout",
     "output_type": "stream",
     "text": [
      "[1] \"French\"             \"Khomani\"            \"0.0567496378725356\"\n",
      "[4] \"0.116629853725153\"  \"0.0144645570950598\"\n"
     ]
    },
    {
     "name": "stderr",
     "output_type": "stream",
     "text": [
      "Joining, by = \"SNP\"\n"
     ]
    },
    {
     "name": "stdout",
     "output_type": "stream",
     "text": [
      "[1] \"French\"             \"MbutiPygmy\"         \"0.0619558129412148\"\n",
      "[4] \"0.123130299385697\"  \"0.0142104395677863\"\n"
     ]
    },
    {
     "name": "stderr",
     "output_type": "stream",
     "text": [
      "Joining, by = \"SNP\"\n"
     ]
    },
    {
     "name": "stdout",
     "output_type": "stream",
     "text": [
      "[1] \"French\"             \"Papuan\"             \"0.0535684231113363\"\n",
      "[4] \"0.108672185353945\"  \"0.0222652906819827\"\n"
     ]
    },
    {
     "name": "stderr",
     "output_type": "stream",
     "text": [
      "Joining, by = \"SNP\"\n"
     ]
    },
    {
     "name": "stdout",
     "output_type": "stream",
     "text": [
      "[1] \"French\"              \"Sardinian\"           \"0.00258871808600864\"\n",
      "[4] \"0.00649805315337257\" \"0.0374632262259212\" \n"
     ]
    },
    {
     "name": "stderr",
     "output_type": "stream",
     "text": [
      "Joining, by = \"SNP\"\n"
     ]
    },
    {
     "name": "stdout",
     "output_type": "stream",
     "text": [
      "[1] \"French\"              \"Sindhi\"              \"0.00737294379772825\"\n",
      "[4] \"0.0184480989239036\"  \"0.0313463884728293\" \n"
     ]
    },
    {
     "name": "stderr",
     "output_type": "stream",
     "text": [
      "Joining, by = \"SNP\"\n"
     ]
    },
    {
     "name": "stdout",
     "output_type": "stream",
     "text": [
      "[1] \"French\"             \"Surui\"              \"0.0530538513321276\"\n",
      "[4] \"0.115458898353459\"  \"0.0292370073205537\"\n"
     ]
    },
    {
     "name": "stderr",
     "output_type": "stream",
     "text": [
      "Joining, by = \"SNP\"\n"
     ]
    },
    {
     "name": "stdout",
     "output_type": "stream",
     "text": [
      "[1] \"French\"              \"Uygur\"               \"0.00938436193344851\"\n",
      "[4] \"0.0219149182160581\"  \"0.0299509734954062\" \n"
     ]
    },
    {
     "name": "stderr",
     "output_type": "stream",
     "text": [
      "Joining, by = \"SNP\"\n"
     ]
    },
    {
     "name": "stdout",
     "output_type": "stream",
     "text": [
      "[1] \"French\"             \"Yakut\"              \"0.0260997899300047\"\n",
      "[4] \"0.0587782012218189\" \"0.0265916560246592\"\n"
     ]
    },
    {
     "name": "stderr",
     "output_type": "stream",
     "text": [
      "Joining, by = \"SNP\"\n"
     ]
    },
    {
     "name": "stdout",
     "output_type": "stream",
     "text": [
      "[1] \"French\"             \"Yoruba\"             \"0.0433390390582289\"\n",
      "[4] \"0.100649178688613\"  \"0.0147551435906074\"\n"
     ]
    },
    {
     "name": "stderr",
     "output_type": "stream",
     "text": [
      "Joining, by = \"SNP\"\n",
      "Joining, by = \"SNP\"\n"
     ]
    },
    {
     "name": "stdout",
     "output_type": "stream",
     "text": [
      "[1] \"Han\"                \"Khomani\"            \"0.0646627878958982\"\n",
      "[4] \"0.131066463532578\"  \"0.0124152775698085\"\n"
     ]
    },
    {
     "name": "stderr",
     "output_type": "stream",
     "text": [
      "Joining, by = \"SNP\"\n"
     ]
    },
    {
     "name": "stdout",
     "output_type": "stream",
     "text": [
      "[1] \"Han\"                \"MbutiPygmy\"         \"0.0694887486238599\"\n",
      "[4] \"0.136041690312245\"  \"0.012334966404347\" \n"
     ]
    },
    {
     "name": "stderr",
     "output_type": "stream",
     "text": [
      "Joining, by = \"SNP\"\n"
     ]
    },
    {
     "name": "stdout",
     "output_type": "stream",
     "text": [
      "[1] \"Han\"                \"Papuan\"             \"0.045168203465639\" \n",
      "[4] \"0.0937112983094526\" \"0.0283165334683191\"\n"
     ]
    },
    {
     "name": "stderr",
     "output_type": "stream",
     "text": [
      "Joining, by = \"SNP\"\n"
     ]
    },
    {
     "name": "stdout",
     "output_type": "stream",
     "text": [
      "[1] \"Han\"                \"Sardinian\"          \"0.0336634379610457\"\n",
      "[4] \"0.0755032171190007\" \"0.0237594555820931\"\n"
     ]
    },
    {
     "name": "stderr",
     "output_type": "stream",
     "text": [
      "Joining, by = \"SNP\"\n"
     ]
    },
    {
     "name": "stdout",
     "output_type": "stream",
     "text": [
      "[1] \"Han\"                \"Sindhi\"             \"0.0209788214750317\"\n",
      "[4] \"0.04958939132402\"   \"0.0263802845821869\"\n"
     ]
    },
    {
     "name": "stderr",
     "output_type": "stream",
     "text": [
      "Joining, by = \"SNP\"\n"
     ]
    },
    {
     "name": "stdout",
     "output_type": "stream",
     "text": [
      "[1] \"Han\"                \"Surui\"              \"0.0502787273016582\"\n",
      "[4] \"0.107641083766436\"  \"0.0324278127444009\"\n"
     ]
    },
    {
     "name": "stderr",
     "output_type": "stream",
     "text": [
      "Joining, by = \"SNP\"\n"
     ]
    },
    {
     "name": "stdout",
     "output_type": "stream",
     "text": [
      "[1] \"Han\"                 \"Uygur\"               \"0.00735548004414488\"\n",
      "[4] \"0.0180195363146113\"  \"0.032793248093392\"  \n"
     ]
    },
    {
     "name": "stderr",
     "output_type": "stream",
     "text": [
      "Joining, by = \"SNP\"\n"
     ]
    },
    {
     "name": "stdout",
     "output_type": "stream",
     "text": [
      "[1] \"Han\"                 \"Yakut\"               \"0.00741268695838161\"\n",
      "[4] \"0.0192294146323155\"  \"0.0377654245939722\" \n"
     ]
    },
    {
     "name": "stderr",
     "output_type": "stream",
     "text": [
      "Joining, by = \"SNP\"\n"
     ]
    },
    {
     "name": "stdout",
     "output_type": "stream",
     "text": [
      "[1] \"Han\"                \"Yoruba\"             \"0.049598122281076\" \n",
      "[4] \"0.113697132113411\"  \"0.0134902895523874\"\n"
     ]
    },
    {
     "name": "stderr",
     "output_type": "stream",
     "text": [
      "Joining, by = \"SNP\"\n",
      "Joining, by = \"SNP\"\n"
     ]
    },
    {
     "name": "stdout",
     "output_type": "stream",
     "text": [
      "[1] \"Khomani\"            \"MbutiPygmy\"         \"0.0231127461061816\"\n",
      "[4] \"0.0504523000311653\" \"0.037834200220035\" \n"
     ]
    },
    {
     "name": "stderr",
     "output_type": "stream",
     "text": [
      "Joining, by = \"SNP\"\n"
     ]
    },
    {
     "name": "stdout",
     "output_type": "stream",
     "text": [
      "[1] \"Khomani\"            \"Papuan\"             \"0.0770637280263992\"\n",
      "[4] \"0.145780592394525\"  \"0.0153522231807311\"\n"
     ]
    },
    {
     "name": "stderr",
     "output_type": "stream",
     "text": [
      "Joining, by = \"SNP\"\n"
     ]
    },
    {
     "name": "stdout",
     "output_type": "stream",
     "text": [
      "[1] \"Khomani\"            \"Sardinian\"          \"0.0599039424859555\"\n",
      "[4] \"0.121516553279472\"  \"0.0138746509093702\"\n"
     ]
    },
    {
     "name": "stderr",
     "output_type": "stream",
     "text": [
      "Joining, by = \"SNP\"\n"
     ]
    },
    {
     "name": "stdout",
     "output_type": "stream",
     "text": [
      "[1] \"Khomani\"            \"Sindhi\"             \"0.0497232676114963\"\n",
      "[4] \"0.105786787071194\"  \"0.0152069182593607\"\n"
     ]
    },
    {
     "name": "stderr",
     "output_type": "stream",
     "text": [
      "Joining, by = \"SNP\"\n"
     ]
    },
    {
     "name": "stdout",
     "output_type": "stream",
     "text": [
      "[1] \"Khomani\"            \"Surui\"              \"0.101186572760368\" \n",
      "[4] \"0.180148757775094\"  \"0.0107447953857001\"\n"
     ]
    },
    {
     "name": "stderr",
     "output_type": "stream",
     "text": [
      "Joining, by = \"SNP\"\n"
     ]
    },
    {
     "name": "stdout",
     "output_type": "stream",
     "text": [
      "[1] \"Khomani\"            \"Uygur\"              \"0.0531099038122358\"\n",
      "[4] \"0.107605498329223\"  \"0.0132787076947876\"\n"
     ]
    },
    {
     "name": "stderr",
     "output_type": "stream",
     "text": [
      "Joining, by = \"SNP\"\n"
     ]
    },
    {
     "name": "stdout",
     "output_type": "stream",
     "text": [
      "[1] \"Khomani\"            \"Yakut\"              \"0.0651335467267108\"\n",
      "[4] \"0.129355303592143\"  \"0.0122439997695612\"\n"
     ]
    },
    {
     "name": "stderr",
     "output_type": "stream",
     "text": [
      "Joining, by = \"SNP\"\n"
     ]
    },
    {
     "name": "stdout",
     "output_type": "stream",
     "text": [
      "[1] \"Khomani\"            \"Yoruba\"             \"0.0235669250830105\"\n",
      "[4] \"0.0579752880494818\" \"0.0292534401538255\"\n"
     ]
    },
    {
     "name": "stderr",
     "output_type": "stream",
     "text": [
      "Joining, by = \"SNP\"\n",
      "Joining, by = \"SNP\"\n"
     ]
    },
    {
     "name": "stdout",
     "output_type": "stream",
     "text": [
      "[1] \"MbutiPygmy\"         \"Papuan\"             \"0.0780706692419349\"\n",
      "[4] \"0.144689161337765\"  \"0.0172586965959669\"\n"
     ]
    },
    {
     "name": "stderr",
     "output_type": "stream",
     "text": [
      "Joining, by = \"SNP\"\n"
     ]
    },
    {
     "name": "stdout",
     "output_type": "stream",
     "text": [
      "[1] \"MbutiPygmy\"         \"Sardinian\"          \"0.0641004649971124\"\n",
      "[4] \"0.126450749684083\"  \"0.0141235941449627\"\n"
     ]
    },
    {
     "name": "stderr",
     "output_type": "stream",
     "text": [
      "Joining, by = \"SNP\"\n"
     ]
    },
    {
     "name": "stdout",
     "output_type": "stream",
     "text": [
      "[1] \"MbutiPygmy\"         \"Sindhi\"             \"0.0562371009152634\"\n",
      "[4] \"0.114257279271629\"  \"0.0143061241953449\"\n"
     ]
    },
    {
     "name": "stderr",
     "output_type": "stream",
     "text": [
      "Joining, by = \"SNP\"\n"
     ]
    },
    {
     "name": "stdout",
     "output_type": "stream",
     "text": [
      "[1] \"MbutiPygmy\"          \"Surui\"               \"0.108261271050791\"  \n",
      "[4] \"0.182916013515299\"   \"0.00942102426202384\"\n"
     ]
    },
    {
     "name": "stderr",
     "output_type": "stream",
     "text": [
      "Joining, by = \"SNP\"\n"
     ]
    },
    {
     "name": "stdout",
     "output_type": "stream",
     "text": [
      "[1] \"MbutiPygmy\"         \"Uygur\"              \"0.0584281777932567\"\n",
      "[4] \"0.113607880514613\"  \"0.0129347958494348\"\n"
     ]
    },
    {
     "name": "stderr",
     "output_type": "stream",
     "text": [
      "Joining, by = \"SNP\"\n"
     ]
    },
    {
     "name": "stdout",
     "output_type": "stream",
     "text": [
      "[1] \"MbutiPygmy\"         \"Yakut\"              \"0.0710203409230644\"\n",
      "[4] \"0.136253785019253\"  \"0.0116214974118066\"\n"
     ]
    },
    {
     "name": "stderr",
     "output_type": "stream",
     "text": [
      "Joining, by = \"SNP\"\n"
     ]
    },
    {
     "name": "stdout",
     "output_type": "stream",
     "text": [
      "[1] \"MbutiPygmy\"         \"Yoruba\"             \"0.0206799382502257\"\n",
      "[4] \"0.0520141516104167\" \"0.0331666072262464\"\n"
     ]
    },
    {
     "name": "stderr",
     "output_type": "stream",
     "text": [
      "Joining, by = \"SNP\"\n",
      "Joining, by = \"SNP\"\n"
     ]
    },
    {
     "name": "stdout",
     "output_type": "stream",
     "text": [
      "[1] \"Papuan\"             \"Sardinian\"          \"0.055279245829165\" \n",
      "[4] \"0.112164892330617\"  \"0.0223951451115368\"\n"
     ]
    },
    {
     "name": "stderr",
     "output_type": "stream",
     "text": [
      "Joining, by = \"SNP\"\n"
     ]
    },
    {
     "name": "stdout",
     "output_type": "stream",
     "text": [
      "[1] \"Papuan\"             \"Sindhi\"             \"0.0426880005482969\"\n",
      "[4] \"0.0896386984948694\" \"0.0249602692231479\"\n"
     ]
    },
    {
     "name": "stderr",
     "output_type": "stream",
     "text": [
      "Joining, by = \"SNP\"\n"
     ]
    },
    {
     "name": "stdout",
     "output_type": "stream",
     "text": [
      "[1] \"Papuan\"             \"Surui\"              \"0.0809809416031558\"\n",
      "[4] \"0.140107348467071\"  \"0.0266525669516533\"\n"
     ]
    },
    {
     "name": "stderr",
     "output_type": "stream",
     "text": [
      "Joining, by = \"SNP\"\n"
     ]
    },
    {
     "name": "stdout",
     "output_type": "stream",
     "text": [
      "[1] \"Papuan\"             \"Uygur\"              \"0.0419238185524049\"\n",
      "[4] \"0.0837313700379821\" \"0.024983653877222\" \n"
     ]
    },
    {
     "name": "stderr",
     "output_type": "stream",
     "text": [
      "Joining, by = \"SNP\"\n"
     ]
    },
    {
     "name": "stdout",
     "output_type": "stream",
     "text": [
      "[1] \"Papuan\"             \"Yakut\"              \"0.0478394863134404\"\n",
      "[4] \"0.0964748148440648\" \"0.0270205720566958\"\n"
     ]
    },
    {
     "name": "stderr",
     "output_type": "stream",
     "text": [
      "Joining, by = \"SNP\"\n"
     ]
    },
    {
     "name": "stdout",
     "output_type": "stream",
     "text": [
      "[1] \"Papuan\"             \"Yoruba\"             \"0.0611214308745587\"\n",
      "[4] \"0.13159045853425\"   \"0.0170513760980334\"\n"
     ]
    },
    {
     "name": "stderr",
     "output_type": "stream",
     "text": [
      "Joining, by = \"SNP\"\n",
      "Joining, by = \"SNP\"\n"
     ]
    },
    {
     "name": "stdout",
     "output_type": "stream",
     "text": [
      "[1] \"Sardinian\"           \"Sindhi\"              \"0.00979858017023517\"\n",
      "[4] \"0.0247046536143066\"  \"0.0311187166044545\" \n"
     ]
    },
    {
     "name": "stderr",
     "output_type": "stream",
     "text": [
      "Joining, by = \"SNP\"\n"
     ]
    },
    {
     "name": "stdout",
     "output_type": "stream",
     "text": [
      "[1] \"Sardinian\"          \"Surui\"              \"0.059511408019836\" \n",
      "[4] \"0.124188487651978\"  \"0.0269929293293924\"\n"
     ]
    },
    {
     "name": "stderr",
     "output_type": "stream",
     "text": [
      "Joining, by = \"SNP\"\n"
     ]
    },
    {
     "name": "stdout",
     "output_type": "stream",
     "text": [
      "[1] \"Sardinian\"          \"Uygur\"              \"0.0126190525254001\"\n",
      "[4] \"0.0295268749186659\" \"0.0293186673169154\"\n"
     ]
    },
    {
     "name": "stderr",
     "output_type": "stream",
     "text": [
      "Joining, by = \"SNP\"\n"
     ]
    },
    {
     "name": "stdout",
     "output_type": "stream",
     "text": [
      "[1] \"Sardinian\"          \"Yakut\"              \"0.0296134630392969\"\n",
      "[4] \"0.0665524775960586\" \"0.0258198500110076\"\n"
     ]
    },
    {
     "name": "stderr",
     "output_type": "stream",
     "text": [
      "Joining, by = \"SNP\"\n"
     ]
    },
    {
     "name": "stdout",
     "output_type": "stream",
     "text": [
      "[1] \"Sardinian\"          \"Yoruba\"             \"0.0448571296757861\"\n",
      "[4] \"0.10435796509069\"   \"0.014981460807416\" \n"
     ]
    },
    {
     "name": "stderr",
     "output_type": "stream",
     "text": [
      "Joining, by = \"SNP\"\n",
      "Joining, by = \"SNP\"\n"
     ]
    },
    {
     "name": "stdout",
     "output_type": "stream",
     "text": [
      "[1] \"Sindhi\"             \"Surui\"              \"0.0492386255196223\"\n",
      "[4] \"0.108489642491494\"  \"0.0284200833081709\"\n"
     ]
    },
    {
     "name": "stderr",
     "output_type": "stream",
     "text": [
      "Joining, by = \"SNP\"\n"
     ]
    },
    {
     "name": "stdout",
     "output_type": "stream",
     "text": [
      "[1] \"Sindhi\"              \"Uygur\"               \"0.00616280989251813\"\n",
      "[4] \"0.0144163654985741\"  \"0.0288262355403032\" \n"
     ]
    },
    {
     "name": "stderr",
     "output_type": "stream",
     "text": [
      "Joining, by = \"SNP\"\n"
     ]
    },
    {
     "name": "stdout",
     "output_type": "stream",
     "text": [
      "[1] \"Sindhi\"             \"Yakut\"              \"0.0188427655500127\"\n",
      "[4] \"0.0439230768806762\" \"0.027484281813781\" \n"
     ]
    },
    {
     "name": "stderr",
     "output_type": "stream",
     "text": [
      "Joining, by = \"SNP\"\n"
     ]
    },
    {
     "name": "stdout",
     "output_type": "stream",
     "text": [
      "[1] \"Sindhi\"             \"Yoruba\"             \"0.0358164489426262\"\n",
      "[4] \"0.0870108401994818\" \"0.0157645935343478\"\n"
     ]
    },
    {
     "name": "stderr",
     "output_type": "stream",
     "text": [
      "Joining, by = \"SNP\"\n",
      "Joining, by = \"SNP\"\n"
     ]
    },
    {
     "name": "stdout",
     "output_type": "stream",
     "text": [
      "[1] \"Surui\"              \"Uygur\"              \"0.0415794875672108\"\n",
      "[4] \"0.0890029846073708\" \"0.0317945570940646\"\n"
     ]
    },
    {
     "name": "stderr",
     "output_type": "stream",
     "text": [
      "Joining, by = \"SNP\"\n"
     ]
    },
    {
     "name": "stdout",
     "output_type": "stream",
     "text": [
      "[1] \"Surui\"              \"Yakut\"              \"0.0468320695269533\"\n",
      "[4] \"0.0990805084981504\" \"0.0341765347816299\"\n"
     ]
    },
    {
     "name": "stderr",
     "output_type": "stream",
     "text": [
      "Joining, by = \"SNP\"\n"
     ]
    },
    {
     "name": "stdout",
     "output_type": "stream",
     "text": [
      "[1] \"Surui\"              \"Yoruba\"             \"0.0853844117756809\"\n",
      "[4] \"0.172936673578733\"  \"0.0119209165129249\"\n"
     ]
    },
    {
     "name": "stderr",
     "output_type": "stream",
     "text": [
      "Joining, by = \"SNP\"\n",
      "Joining, by = \"SNP\"\n"
     ]
    },
    {
     "name": "stdout",
     "output_type": "stream",
     "text": [
      "[1] \"Uygur\"               \"Yakut\"               \"0.00687665537211144\"\n",
      "[4] \"0.0156282499773624\"  \"0.033065467204694\"  \n"
     ]
    },
    {
     "name": "stderr",
     "output_type": "stream",
     "text": [
      "Joining, by = \"SNP\"\n"
     ]
    },
    {
     "name": "stdout",
     "output_type": "stream",
     "text": [
      "[1] \"Uygur\"              \"Yoruba\"             \"0.0387124604595293\"\n",
      "[4] \"0.0903074318537468\" \"0.0139870460150189\"\n"
     ]
    },
    {
     "name": "stderr",
     "output_type": "stream",
     "text": [
      "Joining, by = \"SNP\"\n",
      "Joining, by = \"SNP\"\n"
     ]
    },
    {
     "name": "stdout",
     "output_type": "stream",
     "text": [
      "[1] \"Yakut\"              \"Yoruba\"             \"0.0506628759761459\"\n",
      "[4] \"0.113916351300833\"  \"0.0130021373146126\"\n"
     ]
    },
    {
     "name": "stderr",
     "output_type": "stream",
     "text": [
      "Joining, by = \"SNP\"\n",
      "Joining, by = \"SNP\"\n"
     ]
    }
   ],
   "source": [
    "#this may take a long time!\n",
    "M = fst_mat(data)\n",
    "saveRDS(M, \"data/fstats_world.rds\")"
   ]
  },
  {
   "cell_type": "markdown",
   "metadata": {},
   "source": [
    "\n",
    "### 3.1 calculating FST and F2\n",
    "To calculate $F_{ST}$ and $F_2$, we can use another function I wrote, called `fst_pair`, which outputs $F_{ST}, F_2$ between a pair of sites, e.g.:. It implements Hudson's estimator for $F_{ST}$. In general, there is a very large number of different estimators of $F_{ST}$. For practical purposes, it does not matter that much which estimator is used (see [this paper](https://www.ncbi.nlm.nih.gov/pmc/articles/PMC3759727/) for details).\n",
    "\n",
    "To see what `fst_pair` does exactly, we can simply type it into the terminal:"
   ]
  },
  {
   "cell_type": "code",
   "execution_count": null,
   "metadata": {},
   "outputs": [],
   "source": [
    "fst_pair"
   ]
  },
  {
   "cell_type": "code",
   "execution_count": 10,
   "metadata": {},
   "outputs": [
    {
     "name": "stderr",
     "output_type": "stream",
     "text": [
      "Joining, by = \"SNP\"\n"
     ]
    },
    {
     "data": {
      "text/html": [
       "<ol class=list-inline>\n",
       "\t<li>0.00258871808600864</li>\n",
       "\t<li>0.00649805315337257</li>\n",
       "\t<li>0.0374632262259212</li>\n",
       "</ol>\n"
      ],
      "text/latex": [
       "\\begin{enumerate*}\n",
       "\\item 0.00258871808600864\n",
       "\\item 0.00649805315337257\n",
       "\\item 0.0374632262259212\n",
       "\\end{enumerate*}\n"
      ],
      "text/markdown": [
       "1. 0.00258871808600864\n",
       "2. 0.00649805315337257\n",
       "3. 0.0374632262259212\n",
       "\n",
       "\n"
      ],
      "text/plain": [
       "[1] 0.002588718 0.006498053 0.037463226"
      ]
     },
     "metadata": {},
     "output_type": "display_data"
    }
   ],
   "source": [
    "f_stats <- fst_pair(data, \"Sardinian\", \"French\")\n",
    "f_stats"
   ]
  },
  {
   "cell_type": "markdown",
   "metadata": {},
   "source": [
    "\n",
    "Are these values big or small? This is quite difficult to answer without context, as it will depend on the type of data you are analyzing, the amount of data and the scope of your study. To provide context, one often looks at a matrix of $F_{ST}$-values. To do so, we can load a pre-computed matrix of all $F_{ST}$ and $F_2$ values:"
   ]
  },
  {
   "cell_type": "code",
   "execution_count": 11,
   "metadata": {},
   "outputs": [],
   "source": [
    "fmat <- readRDS(\"data/fstats_world.rds\")"
   ]
  },
  {
   "cell_type": "markdown",
   "metadata": {},
   "source": [
    "\n",
    "**Task 1:** use the `heatmap`-function in `R` to plot a matrix visualizing the $F_{ST}$ and $F_2$-values from this dataset.\n",
    "\n",
    "**Question 2**: How do the matrices differ? Is this what you would expect?\n"
   ]
  },
  {
   "cell_type": "code",
   "execution_count": 15,
   "metadata": {},
   "outputs": [
    {
     "data": {
      "image/png": "[encoded data removed]",
      "text/plain": [
       "plot without title"
      ]
     },
     "metadata": {},
     "output_type": "display_data"
    }
   ],
   "source": [
    "heatmap(fmat$fst, symm = T)"
   ]
  },
  {
   "cell_type": "code",
   "execution_count": 16,
   "metadata": {},
   "outputs": [
    {
     "data": {
      "image/png": "[encoded data removed]",
      "text/plain": [
       "plot without title"
      ]
     },
     "metadata": {},
     "output_type": "display_data"
    }
   ],
   "source": [
    "heatmap(fmat$f2, symm = T)"
   ]
  },
  {
   "cell_type": "markdown",
   "metadata": {},
   "source": [
    "# 4. Admixture-F3\n",
    "We will use the `world`-dataset that contains a small set of samples from all\n",
    "continents. We'll hypothesize that Uygurs are an admixed group resulting from the mixture of two populations. We'll try to find the pair of Han and another populations in our panel. We would like to know which one matches best. For this, we'll resort to using Admixture F3 statistics.\n",
    "\n",
    "The standard way is to use the program `qp3pop` from `admixtools`. As you did yesterday for PCA, one has to \n",
    "1. write a par-file \n",
    "2. write a pop-file\n",
    "3. run `qp3pop`\n",
    "4. parse the output\n",
    "\n",
    "We are too lazy to do that. Luckily, `admixr` allows us to do all those four steps in one go:"
   ]
  },
  {
   "cell_type": "code",
   "execution_count": 17,
   "metadata": {},
   "outputs": [],
   "source": [
    "world <- admixr::eigenstrat(\"data/world//world\")\n",
    "ind <- admixr::read_ind(world)\n",
    "pops <- unique(ind$label)\n",
    "pops <- pops[!pops %in% c(\"Uygur\", \"Han\")]\n",
    "\n",
    "f3_res = f3(world, A=pops, B=\"Han\", C=\"Uygur\")"
   ]
  },
  {
   "cell_type": "code",
   "execution_count": 18,
   "metadata": {},
   "outputs": [
    {
     "data": {
      "image/png": "[encoded data removed]",
      "text/plain": [
       "plot without title"
      ]
     },
     "metadata": {},
     "output_type": "display_data"
    }
   ],
   "source": [
    "f3_res %>% \n",
    "    mutate(is_significant=Zscore < -3) %>%\n",
    "    ggplot(aes(x=A, y=f3, ymin=f3-3*stderr, ymax = f3+3*stderr, color=is_significant)) +\n",
    "    geom_point() + geom_errorbar() +geom_hline(yintercept = 0) + coord_flip()"
   ]
  },
  {
   "cell_type": "markdown",
   "metadata": {},
   "source": [
    "**Question 3**: \n",
    "- Are any $F_3$-statistics negative? \n",
    "- Are they significant? (|Z| > 3?)?\n",
    "- Which pairs of populations do these correspond to? \n",
    "- What could this mean about the population genetic history of the Uygurs?"
   ]
  },
  {
   "cell_type": "markdown",
   "metadata": {},
   "source": [
    "# 5. Outgroup-F3\n",
    "Next, we can compute outgroup-F3 stats in a very similar fashion. To do so,\n",
    "we'll use the European data. \n",
    "\n",
    "In the data, you will find a population labelled as `unknown`. \n",
    "If you looked carefully, you'll find a population\n",
    "labeled as `unknown`. Which population could they be most closely related to?\n",
    "\n",
    "We can use a very similar approach as before:\n",
    " - C will be the `Mbuti`-population\n",
    " - B will be the `unknown`-population\n",
    " - A will be the list of all candidates\n",
    "\n",
    "**Task 2:** Use `admixr` (or if you _really_ prefer, `qp3Pop` manually) to \n",
    "1. load an eigenstrat object for the `europe`-dataset\n",
    "2. read all populations present in that data into memory using the `read_ind` function\n",
    "3. calculate all outgroup-$F_3$-statistics\n",
    "4. create a figure visualizing your results"
   ]
  },
  {
   "cell_type": "code",
   "execution_count": 19,
   "metadata": {},
   "outputs": [],
   "source": [
    "europe <- admixr::eigenstrat(\"data/europe/europe\")\n",
    "ind <- admixr::read_ind(europe)\n",
    "pops <- unique(ind$label)\n",
    "pops <- pops[!pops %in% c(\"Unknown\", \"MbutiPygmy\")]\n",
    "\n",
    "f3_res = f3(europe, A=pops, B=\"Unknown\", C=\"MbutiPygmy\")"
   ]
  },
  {
   "cell_type": "code",
   "execution_count": 20,
   "metadata": {},
   "outputs": [
    {
     "data": {
      "image/png": "[encoded data removed]",
      "text/plain": [
       "plot without title"
      ]
     },
     "metadata": {},
     "output_type": "display_data"
    }
   ],
   "source": [
    "f3_res %>% \n",
    "    ggplot(aes(x=A, y=f3, ymin=f3-3*stderr, ymax = f3+3*stderr)) +\n",
    "    geom_point() + geom_errorbar() +geom_hline(yintercept = 0) + coord_flip()"
   ]
  },
  {
   "cell_type": "markdown",
   "metadata": {},
   "source": [
    "# 6. D-statistics\n",
    "next, we can test for admixture in the past history of humans by lookin for an excess of ABBA or an excess of BABA sites in a 4-population tree.\n",
    "\n",
    "For this purpose, we use the ancient dataset, which contains a subset of the Lazaridis-data with Chimpanzee, Oranguan, Neandertal, Denisovan and a small number of modern Human population samples.\n",
    "\n",
    "To calculate D-stats is very similar to calculating $F_3$: instead of `admixr::f3` we use `admixr::D`:\n",
    "\n",
    "**Task 3**: Use admixr (or if you really prefer, qp3Pop manually) to\n",
    "\n",
    " - load an eigenstrat object for the `ancient`-dataset\n",
    " - read all populations present in that data into memory using the `read_ind`-function\n",
    " - calculate all D-statistics of the form $D(MH_1, MH_2, AH, \\text{Primate})$ \n",
    " - create a figure visualizing your results\n",
    "\n",
    "\n",
    "**Question 4**: Are any of the statistics significant? In what direction? (i.e. is there an excess of ABBA or BABA patterns, relative to what you would expect under a 4-population tree?). Is this consistent with what you might expect? "
   ]
  },
  {
   "cell_type": "code",
   "execution_count": 21,
   "metadata": {},
   "outputs": [
    {
     "data": {
      "text/plain": [
       "\n",
       "  Ancient_Denisova Ancient_Neandertal             French                Han \n",
       "                 1                  1                 25                 33 \n",
       "        MbutiPygmy             Papuan      Primate_Chimp  Primate_Orangutan \n",
       "                10                 14                  1                  1 \n",
       "            Yoruba \n",
       "                70 "
      ]
     },
     "metadata": {},
     "output_type": "display_data"
    }
   ],
   "source": [
    "ancient = eigenstrat(\"data/ancient/ancient\")\n",
    "ind = read_ind(ancient)\n",
    "table(ind$label)\n",
    "MH = c(\"French\", \"Han\", \"MbutiPygmy\", \"Papuan\", \"Yoruba\")\n",
    "AH = c(\"Ancient_Denisova\", \"Ancient_Neandertal\")\n",
    "P = c(\"Primate_Chimp\", \"Primate_Orangutan\")\n",
    "d_res = ancient %>% d(W=MH, X=MH, Y=AH, Z=P)"
   ]
  },
  {
   "cell_type": "code",
   "execution_count": 22,
   "metadata": {},
   "outputs": [
    {
     "data": {
      "text/html": [
       "<table>\n",
       "<thead><tr><th scope=col>W</th><th scope=col>X</th><th scope=col>Y</th><th scope=col>Z</th><th scope=col>D</th><th scope=col>stderr</th><th scope=col>Zscore</th><th scope=col>BABA</th><th scope=col>ABBA</th><th scope=col>nsnps</th></tr></thead>\n",
       "<tbody>\n",
       "\t<tr><td>French            </td><td>Han               </td><td>Ancient_Denisova  </td><td>Primate_Chimp     </td><td> 0.0013           </td><td>0.002943          </td><td>  0.449           </td><td>13280             </td><td>13245             </td><td>575964            </td></tr>\n",
       "\t<tr><td>French            </td><td>Han               </td><td>Ancient_Denisova  </td><td>Primate_Orangutan </td><td> 0.0016           </td><td>0.003011          </td><td>  0.547           </td><td>12702             </td><td>12660             </td><td>496167            </td></tr>\n",
       "\t<tr><td>French            </td><td>Han               </td><td>Ancient_Neandertal</td><td>Primate_Chimp     </td><td>-0.0015           </td><td>0.003448          </td><td> -0.428           </td><td>14153             </td><td>14195             </td><td>549250            </td></tr>\n",
       "\t<tr><td>French            </td><td>Han               </td><td>Ancient_Neandertal</td><td>Primate_Orangutan </td><td>-0.0001           </td><td>0.003495          </td><td> -0.037           </td><td>13219             </td><td>13223             </td><td>473542            </td></tr>\n",
       "\t<tr><td>French            </td><td>MbutiPygmy        </td><td>Ancient_Denisova  </td><td>Primate_Chimp     </td><td>-0.0022           </td><td>0.003673          </td><td> -0.587           </td><td>15921             </td><td>15990             </td><td>575964            </td></tr>\n",
       "\t<tr><td>French            </td><td>MbutiPygmy        </td><td>Ancient_Denisova  </td><td>Primate_Orangutan </td><td>-0.0311           </td><td>0.003603          </td><td> -8.643           </td><td>14695             </td><td>15639             </td><td>496167            </td></tr>\n",
       "\t<tr><td>French            </td><td>MbutiPygmy        </td><td>Ancient_Neandertal</td><td>Primate_Chimp     </td><td> 0.0300           </td><td>0.003716          </td><td>  8.061           </td><td>17578             </td><td>16555             </td><td>549250            </td></tr>\n",
       "\t<tr><td>French            </td><td>MbutiPygmy        </td><td>Ancient_Neandertal</td><td>Primate_Orangutan </td><td> 0.0025           </td><td>0.003777          </td><td>  0.658           </td><td>15887             </td><td>15808             </td><td>473542            </td></tr>\n",
       "\t<tr><td>French            </td><td>Papuan            </td><td>Ancient_Denisova  </td><td>Primate_Chimp     </td><td>-0.0435           </td><td>0.004500          </td><td> -9.678           </td><td>13125             </td><td>14321             </td><td>575964            </td></tr>\n",
       "\t<tr><td>French            </td><td>Papuan            </td><td>Ancient_Denisova  </td><td>Primate_Orangutan </td><td>-0.0371           </td><td>0.004370          </td><td> -8.479           </td><td>12622             </td><td>13593             </td><td>496167            </td></tr>\n",
       "\t<tr><td>French            </td><td>Papuan            </td><td>Ancient_Neandertal</td><td>Primate_Chimp     </td><td>-0.0119           </td><td>0.004879          </td><td> -2.431           </td><td>14480             </td><td>14827             </td><td>549250            </td></tr>\n",
       "\t<tr><td>French            </td><td>Papuan            </td><td>Ancient_Neandertal</td><td>Primate_Orangutan </td><td>-0.0098           </td><td>0.004923          </td><td> -1.991           </td><td>13530             </td><td>13798             </td><td>473542            </td></tr>\n",
       "\t<tr><td>French            </td><td>Yoruba            </td><td>Ancient_Denisova  </td><td>Primate_Chimp     </td><td> 0.0025           </td><td>0.002945          </td><td>  0.835           </td><td>15398             </td><td>15323             </td><td>575964            </td></tr>\n",
       "\t<tr><td>French            </td><td>Yoruba            </td><td>Ancient_Denisova  </td><td>Primate_Orangutan </td><td>-0.0190           </td><td>0.003006          </td><td> -6.325           </td><td>14325             </td><td>14880             </td><td>496167            </td></tr>\n",
       "\t<tr><td>French            </td><td>Yoruba            </td><td>Ancient_Neandertal</td><td>Primate_Chimp     </td><td> 0.0345           </td><td>0.003152          </td><td> 10.957           </td><td>16928             </td><td>15798             </td><td>549250            </td></tr>\n",
       "\t<tr><td>French            </td><td>Yoruba            </td><td>Ancient_Neandertal</td><td>Primate_Orangutan </td><td> 0.0129           </td><td>0.003192          </td><td>  4.051           </td><td>15404             </td><td>15011             </td><td>473542            </td></tr>\n",
       "\t<tr><td>Han               </td><td>French            </td><td>Ancient_Denisova  </td><td>Primate_Chimp     </td><td>-0.0013           </td><td>0.002943          </td><td> -0.449           </td><td>13245             </td><td>13280             </td><td>575964            </td></tr>\n",
       "\t<tr><td>Han               </td><td>French            </td><td>Ancient_Denisova  </td><td>Primate_Orangutan </td><td>-0.0016           </td><td>0.003011          </td><td> -0.547           </td><td>12660             </td><td>12702             </td><td>496167            </td></tr>\n",
       "\t<tr><td>Han               </td><td>French            </td><td>Ancient_Neandertal</td><td>Primate_Chimp     </td><td> 0.0015           </td><td>0.003448          </td><td>  0.428           </td><td>14195             </td><td>14153             </td><td>549250            </td></tr>\n",
       "\t<tr><td>Han               </td><td>French            </td><td>Ancient_Neandertal</td><td>Primate_Orangutan </td><td> 0.0001           </td><td>0.003495          </td><td>  0.037           </td><td>13223             </td><td>13219             </td><td>473542            </td></tr>\n",
       "\t<tr><td>Han               </td><td>MbutiPygmy        </td><td>Ancient_Denisova  </td><td>Primate_Chimp     </td><td>-0.0032           </td><td>0.003820          </td><td> -0.849           </td><td>15972             </td><td>16076             </td><td>575964            </td></tr>\n",
       "\t<tr><td>Han               </td><td>MbutiPygmy        </td><td>Ancient_Denisova  </td><td>Primate_Orangutan </td><td>-0.0324           </td><td>0.003737          </td><td> -8.661           </td><td>14744             </td><td>15730             </td><td>496167            </td></tr>\n",
       "\t<tr><td>Han               </td><td>MbutiPygmy        </td><td>Ancient_Neandertal</td><td>Primate_Chimp     </td><td> 0.0310           </td><td>0.004156          </td><td>  7.450           </td><td>17718             </td><td>16654             </td><td>549250            </td></tr>\n",
       "\t<tr><td>Han               </td><td>MbutiPygmy        </td><td>Ancient_Neandertal</td><td>Primate_Orangutan </td><td> 0.0026           </td><td>0.004282          </td><td>  0.602           </td><td>16002             </td><td>15920             </td><td>473542            </td></tr>\n",
       "\t<tr><td>Han               </td><td>Papuan            </td><td>Ancient_Denisova  </td><td>Primate_Chimp     </td><td>-0.0471           </td><td>0.004409          </td><td>-10.681           </td><td>12446             </td><td>13677             </td><td>575964            </td></tr>\n",
       "\t<tr><td>Han               </td><td>Papuan            </td><td>Ancient_Denisova  </td><td>Primate_Orangutan </td><td>-0.0406           </td><td>0.004281          </td><td> -9.481           </td><td>11973             </td><td>12986             </td><td>496167            </td></tr>\n",
       "\t<tr><td>Han               </td><td>Papuan            </td><td>Ancient_Neandertal</td><td>Primate_Chimp     </td><td>-0.0109           </td><td>0.004487          </td><td> -2.435           </td><td>13843             </td><td>14148             </td><td>549250            </td></tr>\n",
       "\t<tr><td>Han               </td><td>Papuan            </td><td>Ancient_Neandertal</td><td>Primate_Orangutan </td><td>-0.0101           </td><td>0.004541          </td><td> -2.231           </td><td>12920             </td><td>13184             </td><td>473542            </td></tr>\n",
       "\t<tr><td>Han               </td><td>Yoruba            </td><td>Ancient_Denisova  </td><td>Primate_Chimp     </td><td> 0.0013           </td><td>0.003221          </td><td>  0.406           </td><td>15479             </td><td>15439             </td><td>575964            </td></tr>\n",
       "\t<tr><td>Han               </td><td>Yoruba            </td><td>Ancient_Denisova  </td><td>Primate_Orangutan </td><td>-0.0203           </td><td>0.003267          </td><td> -6.212           </td><td>14411             </td><td>15008             </td><td>496167            </td></tr>\n",
       "\t<tr><td>⋮</td><td>⋮</td><td>⋮</td><td>⋮</td><td>⋮</td><td>⋮</td><td>⋮</td><td>⋮</td><td>⋮</td><td>⋮</td></tr>\n",
       "\t<tr><td>Papuan            </td><td>French            </td><td>Ancient_Neandertal</td><td>Primate_Chimp     </td><td> 0.0119           </td><td>0.004879          </td><td>  2.431           </td><td>14827             </td><td>14480             </td><td>549250            </td></tr>\n",
       "\t<tr><td>Papuan            </td><td>French            </td><td>Ancient_Neandertal</td><td>Primate_Orangutan </td><td> 0.0098           </td><td>0.004923          </td><td>  1.991           </td><td>13798             </td><td>13530             </td><td>473542            </td></tr>\n",
       "\t<tr><td>Papuan            </td><td>Han               </td><td>Ancient_Denisova  </td><td>Primate_Chimp     </td><td> 0.0471           </td><td>0.004409          </td><td> 10.681           </td><td>13677             </td><td>12446             </td><td>575964            </td></tr>\n",
       "\t<tr><td>Papuan            </td><td>Han               </td><td>Ancient_Denisova  </td><td>Primate_Orangutan </td><td> 0.0406           </td><td>0.004281          </td><td>  9.481           </td><td>12986             </td><td>11973             </td><td>496167            </td></tr>\n",
       "\t<tr><td>Papuan            </td><td>Han               </td><td>Ancient_Neandertal</td><td>Primate_Chimp     </td><td> 0.0109           </td><td>0.004487          </td><td>  2.435           </td><td>14148             </td><td>13843             </td><td>549250            </td></tr>\n",
       "\t<tr><td>Papuan            </td><td>Han               </td><td>Ancient_Neandertal</td><td>Primate_Orangutan </td><td> 0.0101           </td><td>0.004541          </td><td>  2.231           </td><td>13184             </td><td>12920             </td><td>473542            </td></tr>\n",
       "\t<tr><td>Papuan            </td><td>MbutiPygmy        </td><td>Ancient_Denisova  </td><td>Primate_Chimp     </td><td> 0.0347           </td><td>0.004621          </td><td>  7.511           </td><td>16788             </td><td>15661             </td><td>575964            </td></tr>\n",
       "\t<tr><td>Papuan            </td><td>MbutiPygmy        </td><td>Ancient_Denisova  </td><td>Primate_Orangutan </td><td> 0.0009           </td><td>0.004488          </td><td>  0.193           </td><td>15425             </td><td>15398             </td><td>496167            </td></tr>\n",
       "\t<tr><td>Papuan            </td><td>MbutiPygmy        </td><td>Ancient_Neandertal</td><td>Primate_Chimp     </td><td> 0.0394           </td><td>0.005005          </td><td>  7.877           </td><td>18060             </td><td>16690             </td><td>549250            </td></tr>\n",
       "\t<tr><td>Papuan            </td><td>MbutiPygmy        </td><td>Ancient_Neandertal</td><td>Primate_Orangutan </td><td> 0.0107           </td><td>0.005024          </td><td>  2.139           </td><td>16300             </td><td>15953             </td><td>473542            </td></tr>\n",
       "\t<tr><td>Papuan            </td><td>Yoruba            </td><td>Ancient_Denisova  </td><td>Primate_Chimp     </td><td> 0.0404           </td><td>0.004299          </td><td>  9.405           </td><td>16349             </td><td>15078             </td><td>575964            </td></tr>\n",
       "\t<tr><td>Papuan            </td><td>Yoruba            </td><td>Ancient_Denisova  </td><td>Primate_Orangutan </td><td> 0.0139           </td><td>0.004273          </td><td>  3.262           </td><td>15135             </td><td>14719             </td><td>496167            </td></tr>\n",
       "\t<tr><td>Papuan            </td><td>Yoruba            </td><td>Ancient_Neandertal</td><td>Primate_Chimp     </td><td> 0.0441           </td><td>0.004727          </td><td>  9.332           </td><td>17489             </td><td>16012             </td><td>549250            </td></tr>\n",
       "\t<tr><td>Papuan            </td><td>Yoruba            </td><td>Ancient_Neandertal</td><td>Primate_Orangutan </td><td> 0.0212           </td><td>0.004726          </td><td>  4.496           </td><td>15888             </td><td>15227             </td><td>473542            </td></tr>\n",
       "\t<tr><td>Yoruba            </td><td>French            </td><td>Ancient_Denisova  </td><td>Primate_Chimp     </td><td>-0.0025           </td><td>0.002945          </td><td> -0.835           </td><td>15323             </td><td>15398             </td><td>575964            </td></tr>\n",
       "\t<tr><td>Yoruba            </td><td>French            </td><td>Ancient_Denisova  </td><td>Primate_Orangutan </td><td> 0.0190           </td><td>0.003006          </td><td>  6.325           </td><td>14880             </td><td>14325             </td><td>496167            </td></tr>\n",
       "\t<tr><td>Yoruba            </td><td>French            </td><td>Ancient_Neandertal</td><td>Primate_Chimp     </td><td>-0.0345           </td><td>0.003152          </td><td>-10.957           </td><td>15798             </td><td>16928             </td><td>549250            </td></tr>\n",
       "\t<tr><td>Yoruba            </td><td>French            </td><td>Ancient_Neandertal</td><td>Primate_Orangutan </td><td>-0.0129           </td><td>0.003192          </td><td> -4.051           </td><td>15011             </td><td>15404             </td><td>473542            </td></tr>\n",
       "\t<tr><td>Yoruba            </td><td>Han               </td><td>Ancient_Denisova  </td><td>Primate_Chimp     </td><td>-0.0013           </td><td>0.003221          </td><td> -0.406           </td><td>15439             </td><td>15479             </td><td>575964            </td></tr>\n",
       "\t<tr><td>Yoruba            </td><td>Han               </td><td>Ancient_Denisova  </td><td>Primate_Orangutan </td><td> 0.0203           </td><td>0.003267          </td><td>  6.212           </td><td>15008             </td><td>14411             </td><td>496167            </td></tr>\n",
       "\t<tr><td>Yoruba            </td><td>Han               </td><td>Ancient_Neandertal</td><td>Primate_Chimp     </td><td>-0.0355           </td><td>0.003726          </td><td> -9.532           </td><td>15914             </td><td>17086             </td><td>549250            </td></tr>\n",
       "\t<tr><td>Yoruba            </td><td>Han               </td><td>Ancient_Neandertal</td><td>Primate_Orangutan </td><td>-0.0129           </td><td>0.003825          </td><td> -3.378           </td><td>15149             </td><td>15545             </td><td>473542            </td></tr>\n",
       "\t<tr><td>Yoruba            </td><td>MbutiPygmy        </td><td>Ancient_Denisova  </td><td>Primate_Chimp     </td><td>-0.0048           </td><td>0.002461          </td><td> -1.935           </td><td>15090             </td><td>15234             </td><td>575964            </td></tr>\n",
       "\t<tr><td>Yoruba            </td><td>MbutiPygmy        </td><td>Ancient_Denisova  </td><td>Primate_Orangutan </td><td>-0.0136           </td><td>0.002316          </td><td> -5.887           </td><td>14088             </td><td>14477             </td><td>496167            </td></tr>\n",
       "\t<tr><td>Yoruba            </td><td>MbutiPygmy        </td><td>Ancient_Neandertal</td><td>Primate_Chimp     </td><td>-0.0033           </td><td>0.002392          </td><td> -1.397           </td><td>16069             </td><td>16177             </td><td>549250            </td></tr>\n",
       "\t<tr><td>Yoruba            </td><td>MbutiPygmy        </td><td>Ancient_Neandertal</td><td>Primate_Orangutan </td><td>-0.0106           </td><td>0.002382          </td><td> -4.439           </td><td>14712             </td><td>15027             </td><td>473542            </td></tr>\n",
       "\t<tr><td>Yoruba            </td><td>Papuan            </td><td>Ancient_Denisova  </td><td>Primate_Chimp     </td><td>-0.0404           </td><td>0.004299          </td><td> -9.405           </td><td>15078             </td><td>16349             </td><td>575964            </td></tr>\n",
       "\t<tr><td>Yoruba            </td><td>Papuan            </td><td>Ancient_Denisova  </td><td>Primate_Orangutan </td><td>-0.0139           </td><td>0.004273          </td><td> -3.262           </td><td>14719             </td><td>15135             </td><td>496167            </td></tr>\n",
       "\t<tr><td>Yoruba            </td><td>Papuan            </td><td>Ancient_Neandertal</td><td>Primate_Chimp     </td><td>-0.0441           </td><td>0.004727          </td><td> -9.332           </td><td>16012             </td><td>17489             </td><td>549250            </td></tr>\n",
       "\t<tr><td>Yoruba            </td><td>Papuan            </td><td>Ancient_Neandertal</td><td>Primate_Orangutan </td><td>-0.0212           </td><td>0.004726          </td><td> -4.496           </td><td>15227             </td><td>15888             </td><td>473542            </td></tr>\n",
       "</tbody>\n",
       "</table>\n"
      ],
      "text/latex": [
       "\\begin{tabular}{r|llllllllll}\n",
       " W & X & Y & Z & D & stderr & Zscore & BABA & ABBA & nsnps\\\\\n",
       "\\hline\n",
       "\t French               & Han                  & Ancient\\_Denisova   & Primate\\_Chimp      &  0.0013              & 0.002943             &   0.449              & 13280                & 13245                & 575964              \\\\\n",
       "\t French               & Han                  & Ancient\\_Denisova   & Primate\\_Orangutan  &  0.0016              & 0.003011             &   0.547              & 12702                & 12660                & 496167              \\\\\n",
       "\t French               & Han                  & Ancient\\_Neandertal & Primate\\_Chimp      & -0.0015              & 0.003448             &  -0.428              & 14153                & 14195                & 549250              \\\\\n",
       "\t French               & Han                  & Ancient\\_Neandertal & Primate\\_Orangutan  & -0.0001              & 0.003495             &  -0.037              & 13219                & 13223                & 473542              \\\\\n",
       "\t French               & MbutiPygmy           & Ancient\\_Denisova   & Primate\\_Chimp      & -0.0022              & 0.003673             &  -0.587              & 15921                & 15990                & 575964              \\\\\n",
       "\t French               & MbutiPygmy           & Ancient\\_Denisova   & Primate\\_Orangutan  & -0.0311              & 0.003603             &  -8.643              & 14695                & 15639                & 496167              \\\\\n",
       "\t French               & MbutiPygmy           & Ancient\\_Neandertal & Primate\\_Chimp      &  0.0300              & 0.003716             &   8.061              & 17578                & 16555                & 549250              \\\\\n",
       "\t French               & MbutiPygmy           & Ancient\\_Neandertal & Primate\\_Orangutan  &  0.0025              & 0.003777             &   0.658              & 15887                & 15808                & 473542              \\\\\n",
       "\t French               & Papuan               & Ancient\\_Denisova   & Primate\\_Chimp      & -0.0435              & 0.004500             &  -9.678              & 13125                & 14321                & 575964              \\\\\n",
       "\t French               & Papuan               & Ancient\\_Denisova   & Primate\\_Orangutan  & -0.0371              & 0.004370             &  -8.479              & 12622                & 13593                & 496167              \\\\\n",
       "\t French               & Papuan               & Ancient\\_Neandertal & Primate\\_Chimp      & -0.0119              & 0.004879             &  -2.431              & 14480                & 14827                & 549250              \\\\\n",
       "\t French               & Papuan               & Ancient\\_Neandertal & Primate\\_Orangutan  & -0.0098              & 0.004923             &  -1.991              & 13530                & 13798                & 473542              \\\\\n",
       "\t French               & Yoruba               & Ancient\\_Denisova   & Primate\\_Chimp      &  0.0025              & 0.002945             &   0.835              & 15398                & 15323                & 575964              \\\\\n",
       "\t French               & Yoruba               & Ancient\\_Denisova   & Primate\\_Orangutan  & -0.0190              & 0.003006             &  -6.325              & 14325                & 14880                & 496167              \\\\\n",
       "\t French               & Yoruba               & Ancient\\_Neandertal & Primate\\_Chimp      &  0.0345              & 0.003152             &  10.957              & 16928                & 15798                & 549250              \\\\\n",
       "\t French               & Yoruba               & Ancient\\_Neandertal & Primate\\_Orangutan  &  0.0129              & 0.003192             &   4.051              & 15404                & 15011                & 473542              \\\\\n",
       "\t Han                  & French               & Ancient\\_Denisova   & Primate\\_Chimp      & -0.0013              & 0.002943             &  -0.449              & 13245                & 13280                & 575964              \\\\\n",
       "\t Han                  & French               & Ancient\\_Denisova   & Primate\\_Orangutan  & -0.0016              & 0.003011             &  -0.547              & 12660                & 12702                & 496167              \\\\\n",
       "\t Han                  & French               & Ancient\\_Neandertal & Primate\\_Chimp      &  0.0015              & 0.003448             &   0.428              & 14195                & 14153                & 549250              \\\\\n",
       "\t Han                  & French               & Ancient\\_Neandertal & Primate\\_Orangutan  &  0.0001              & 0.003495             &   0.037              & 13223                & 13219                & 473542              \\\\\n",
       "\t Han                  & MbutiPygmy           & Ancient\\_Denisova   & Primate\\_Chimp      & -0.0032              & 0.003820             &  -0.849              & 15972                & 16076                & 575964              \\\\\n",
       "\t Han                  & MbutiPygmy           & Ancient\\_Denisova   & Primate\\_Orangutan  & -0.0324              & 0.003737             &  -8.661              & 14744                & 15730                & 496167              \\\\\n",
       "\t Han                  & MbutiPygmy           & Ancient\\_Neandertal & Primate\\_Chimp      &  0.0310              & 0.004156             &   7.450              & 17718                & 16654                & 549250              \\\\\n",
       "\t Han                  & MbutiPygmy           & Ancient\\_Neandertal & Primate\\_Orangutan  &  0.0026              & 0.004282             &   0.602              & 16002                & 15920                & 473542              \\\\\n",
       "\t Han                  & Papuan               & Ancient\\_Denisova   & Primate\\_Chimp      & -0.0471              & 0.004409             & -10.681              & 12446                & 13677                & 575964              \\\\\n",
       "\t Han                  & Papuan               & Ancient\\_Denisova   & Primate\\_Orangutan  & -0.0406              & 0.004281             &  -9.481              & 11973                & 12986                & 496167              \\\\\n",
       "\t Han                  & Papuan               & Ancient\\_Neandertal & Primate\\_Chimp      & -0.0109              & 0.004487             &  -2.435              & 13843                & 14148                & 549250              \\\\\n",
       "\t Han                  & Papuan               & Ancient\\_Neandertal & Primate\\_Orangutan  & -0.0101              & 0.004541             &  -2.231              & 12920                & 13184                & 473542              \\\\\n",
       "\t Han                  & Yoruba               & Ancient\\_Denisova   & Primate\\_Chimp      &  0.0013              & 0.003221             &   0.406              & 15479                & 15439                & 575964              \\\\\n",
       "\t Han                  & Yoruba               & Ancient\\_Denisova   & Primate\\_Orangutan  & -0.0203              & 0.003267             &  -6.212              & 14411                & 15008                & 496167              \\\\\n",
       "\t ⋮ & ⋮ & ⋮ & ⋮ & ⋮ & ⋮ & ⋮ & ⋮ & ⋮ & ⋮\\\\\n",
       "\t Papuan               & French               & Ancient\\_Neandertal & Primate\\_Chimp      &  0.0119              & 0.004879             &   2.431              & 14827                & 14480                & 549250              \\\\\n",
       "\t Papuan               & French               & Ancient\\_Neandertal & Primate\\_Orangutan  &  0.0098              & 0.004923             &   1.991              & 13798                & 13530                & 473542              \\\\\n",
       "\t Papuan               & Han                  & Ancient\\_Denisova   & Primate\\_Chimp      &  0.0471              & 0.004409             &  10.681              & 13677                & 12446                & 575964              \\\\\n",
       "\t Papuan               & Han                  & Ancient\\_Denisova   & Primate\\_Orangutan  &  0.0406              & 0.004281             &   9.481              & 12986                & 11973                & 496167              \\\\\n",
       "\t Papuan               & Han                  & Ancient\\_Neandertal & Primate\\_Chimp      &  0.0109              & 0.004487             &   2.435              & 14148                & 13843                & 549250              \\\\\n",
       "\t Papuan               & Han                  & Ancient\\_Neandertal & Primate\\_Orangutan  &  0.0101              & 0.004541             &   2.231              & 13184                & 12920                & 473542              \\\\\n",
       "\t Papuan               & MbutiPygmy           & Ancient\\_Denisova   & Primate\\_Chimp      &  0.0347              & 0.004621             &   7.511              & 16788                & 15661                & 575964              \\\\\n",
       "\t Papuan               & MbutiPygmy           & Ancient\\_Denisova   & Primate\\_Orangutan  &  0.0009              & 0.004488             &   0.193              & 15425                & 15398                & 496167              \\\\\n",
       "\t Papuan               & MbutiPygmy           & Ancient\\_Neandertal & Primate\\_Chimp      &  0.0394              & 0.005005             &   7.877              & 18060                & 16690                & 549250              \\\\\n",
       "\t Papuan               & MbutiPygmy           & Ancient\\_Neandertal & Primate\\_Orangutan  &  0.0107              & 0.005024             &   2.139              & 16300                & 15953                & 473542              \\\\\n",
       "\t Papuan               & Yoruba               & Ancient\\_Denisova   & Primate\\_Chimp      &  0.0404              & 0.004299             &   9.405              & 16349                & 15078                & 575964              \\\\\n",
       "\t Papuan               & Yoruba               & Ancient\\_Denisova   & Primate\\_Orangutan  &  0.0139              & 0.004273             &   3.262              & 15135                & 14719                & 496167              \\\\\n",
       "\t Papuan               & Yoruba               & Ancient\\_Neandertal & Primate\\_Chimp      &  0.0441              & 0.004727             &   9.332              & 17489                & 16012                & 549250              \\\\\n",
       "\t Papuan               & Yoruba               & Ancient\\_Neandertal & Primate\\_Orangutan  &  0.0212              & 0.004726             &   4.496              & 15888                & 15227                & 473542              \\\\\n",
       "\t Yoruba               & French               & Ancient\\_Denisova   & Primate\\_Chimp      & -0.0025              & 0.002945             &  -0.835              & 15323                & 15398                & 575964              \\\\\n",
       "\t Yoruba               & French               & Ancient\\_Denisova   & Primate\\_Orangutan  &  0.0190              & 0.003006             &   6.325              & 14880                & 14325                & 496167              \\\\\n",
       "\t Yoruba               & French               & Ancient\\_Neandertal & Primate\\_Chimp      & -0.0345              & 0.003152             & -10.957              & 15798                & 16928                & 549250              \\\\\n",
       "\t Yoruba               & French               & Ancient\\_Neandertal & Primate\\_Orangutan  & -0.0129              & 0.003192             &  -4.051              & 15011                & 15404                & 473542              \\\\\n",
       "\t Yoruba               & Han                  & Ancient\\_Denisova   & Primate\\_Chimp      & -0.0013              & 0.003221             &  -0.406              & 15439                & 15479                & 575964              \\\\\n",
       "\t Yoruba               & Han                  & Ancient\\_Denisova   & Primate\\_Orangutan  &  0.0203              & 0.003267             &   6.212              & 15008                & 14411                & 496167              \\\\\n",
       "\t Yoruba               & Han                  & Ancient\\_Neandertal & Primate\\_Chimp      & -0.0355              & 0.003726             &  -9.532              & 15914                & 17086                & 549250              \\\\\n",
       "\t Yoruba               & Han                  & Ancient\\_Neandertal & Primate\\_Orangutan  & -0.0129              & 0.003825             &  -3.378              & 15149                & 15545                & 473542              \\\\\n",
       "\t Yoruba               & MbutiPygmy           & Ancient\\_Denisova   & Primate\\_Chimp      & -0.0048              & 0.002461             &  -1.935              & 15090                & 15234                & 575964              \\\\\n",
       "\t Yoruba               & MbutiPygmy           & Ancient\\_Denisova   & Primate\\_Orangutan  & -0.0136              & 0.002316             &  -5.887              & 14088                & 14477                & 496167              \\\\\n",
       "\t Yoruba               & MbutiPygmy           & Ancient\\_Neandertal & Primate\\_Chimp      & -0.0033              & 0.002392             &  -1.397              & 16069                & 16177                & 549250              \\\\\n",
       "\t Yoruba               & MbutiPygmy           & Ancient\\_Neandertal & Primate\\_Orangutan  & -0.0106              & 0.002382             &  -4.439              & 14712                & 15027                & 473542              \\\\\n",
       "\t Yoruba               & Papuan               & Ancient\\_Denisova   & Primate\\_Chimp      & -0.0404              & 0.004299             &  -9.405              & 15078                & 16349                & 575964              \\\\\n",
       "\t Yoruba               & Papuan               & Ancient\\_Denisova   & Primate\\_Orangutan  & -0.0139              & 0.004273             &  -3.262              & 14719                & 15135                & 496167              \\\\\n",
       "\t Yoruba               & Papuan               & Ancient\\_Neandertal & Primate\\_Chimp      & -0.0441              & 0.004727             &  -9.332              & 16012                & 17489                & 549250              \\\\\n",
       "\t Yoruba               & Papuan               & Ancient\\_Neandertal & Primate\\_Orangutan  & -0.0212              & 0.004726             &  -4.496              & 15227                & 15888                & 473542              \\\\\n",
       "\\end{tabular}\n"
      ],
      "text/markdown": [
       "\n",
       "| W | X | Y | Z | D | stderr | Zscore | BABA | ABBA | nsnps |\n",
       "|---|---|---|---|---|---|---|---|---|---|\n",
       "| French             | Han                | Ancient_Denisova   | Primate_Chimp      |  0.0013            | 0.002943           |   0.449            | 13280              | 13245              | 575964             |\n",
       "| French             | Han                | Ancient_Denisova   | Primate_Orangutan  |  0.0016            | 0.003011           |   0.547            | 12702              | 12660              | 496167             |\n",
       "| French             | Han                | Ancient_Neandertal | Primate_Chimp      | -0.0015            | 0.003448           |  -0.428            | 14153              | 14195              | 549250             |\n",
       "| French             | Han                | Ancient_Neandertal | Primate_Orangutan  | -0.0001            | 0.003495           |  -0.037            | 13219              | 13223              | 473542             |\n",
       "| French             | MbutiPygmy         | Ancient_Denisova   | Primate_Chimp      | -0.0022            | 0.003673           |  -0.587            | 15921              | 15990              | 575964             |\n",
       "| French             | MbutiPygmy         | Ancient_Denisova   | Primate_Orangutan  | -0.0311            | 0.003603           |  -8.643            | 14695              | 15639              | 496167             |\n",
       "| French             | MbutiPygmy         | Ancient_Neandertal | Primate_Chimp      |  0.0300            | 0.003716           |   8.061            | 17578              | 16555              | 549250             |\n",
       "| French             | MbutiPygmy         | Ancient_Neandertal | Primate_Orangutan  |  0.0025            | 0.003777           |   0.658            | 15887              | 15808              | 473542             |\n",
       "| French             | Papuan             | Ancient_Denisova   | Primate_Chimp      | -0.0435            | 0.004500           |  -9.678            | 13125              | 14321              | 575964             |\n",
       "| French             | Papuan             | Ancient_Denisova   | Primate_Orangutan  | -0.0371            | 0.004370           |  -8.479            | 12622              | 13593              | 496167             |\n",
       "| French             | Papuan             | Ancient_Neandertal | Primate_Chimp      | -0.0119            | 0.004879           |  -2.431            | 14480              | 14827              | 549250             |\n",
       "| French             | Papuan             | Ancient_Neandertal | Primate_Orangutan  | -0.0098            | 0.004923           |  -1.991            | 13530              | 13798              | 473542             |\n",
       "| French             | Yoruba             | Ancient_Denisova   | Primate_Chimp      |  0.0025            | 0.002945           |   0.835            | 15398              | 15323              | 575964             |\n",
       "| French             | Yoruba             | Ancient_Denisova   | Primate_Orangutan  | -0.0190            | 0.003006           |  -6.325            | 14325              | 14880              | 496167             |\n",
       "| French             | Yoruba             | Ancient_Neandertal | Primate_Chimp      |  0.0345            | 0.003152           |  10.957            | 16928              | 15798              | 549250             |\n",
       "| French             | Yoruba             | Ancient_Neandertal | Primate_Orangutan  |  0.0129            | 0.003192           |   4.051            | 15404              | 15011              | 473542             |\n",
       "| Han                | French             | Ancient_Denisova   | Primate_Chimp      | -0.0013            | 0.002943           |  -0.449            | 13245              | 13280              | 575964             |\n",
       "| Han                | French             | Ancient_Denisova   | Primate_Orangutan  | -0.0016            | 0.003011           |  -0.547            | 12660              | 12702              | 496167             |\n",
       "| Han                | French             | Ancient_Neandertal | Primate_Chimp      |  0.0015            | 0.003448           |   0.428            | 14195              | 14153              | 549250             |\n",
       "| Han                | French             | Ancient_Neandertal | Primate_Orangutan  |  0.0001            | 0.003495           |   0.037            | 13223              | 13219              | 473542             |\n",
       "| Han                | MbutiPygmy         | Ancient_Denisova   | Primate_Chimp      | -0.0032            | 0.003820           |  -0.849            | 15972              | 16076              | 575964             |\n",
       "| Han                | MbutiPygmy         | Ancient_Denisova   | Primate_Orangutan  | -0.0324            | 0.003737           |  -8.661            | 14744              | 15730              | 496167             |\n",
       "| Han                | MbutiPygmy         | Ancient_Neandertal | Primate_Chimp      |  0.0310            | 0.004156           |   7.450            | 17718              | 16654              | 549250             |\n",
       "| Han                | MbutiPygmy         | Ancient_Neandertal | Primate_Orangutan  |  0.0026            | 0.004282           |   0.602            | 16002              | 15920              | 473542             |\n",
       "| Han                | Papuan             | Ancient_Denisova   | Primate_Chimp      | -0.0471            | 0.004409           | -10.681            | 12446              | 13677              | 575964             |\n",
       "| Han                | Papuan             | Ancient_Denisova   | Primate_Orangutan  | -0.0406            | 0.004281           |  -9.481            | 11973              | 12986              | 496167             |\n",
       "| Han                | Papuan             | Ancient_Neandertal | Primate_Chimp      | -0.0109            | 0.004487           |  -2.435            | 13843              | 14148              | 549250             |\n",
       "| Han                | Papuan             | Ancient_Neandertal | Primate_Orangutan  | -0.0101            | 0.004541           |  -2.231            | 12920              | 13184              | 473542             |\n",
       "| Han                | Yoruba             | Ancient_Denisova   | Primate_Chimp      |  0.0013            | 0.003221           |   0.406            | 15479              | 15439              | 575964             |\n",
       "| Han                | Yoruba             | Ancient_Denisova   | Primate_Orangutan  | -0.0203            | 0.003267           |  -6.212            | 14411              | 15008              | 496167             |\n",
       "| ⋮ | ⋮ | ⋮ | ⋮ | ⋮ | ⋮ | ⋮ | ⋮ | ⋮ | ⋮ |\n",
       "| Papuan             | French             | Ancient_Neandertal | Primate_Chimp      |  0.0119            | 0.004879           |   2.431            | 14827              | 14480              | 549250             |\n",
       "| Papuan             | French             | Ancient_Neandertal | Primate_Orangutan  |  0.0098            | 0.004923           |   1.991            | 13798              | 13530              | 473542             |\n",
       "| Papuan             | Han                | Ancient_Denisova   | Primate_Chimp      |  0.0471            | 0.004409           |  10.681            | 13677              | 12446              | 575964             |\n",
       "| Papuan             | Han                | Ancient_Denisova   | Primate_Orangutan  |  0.0406            | 0.004281           |   9.481            | 12986              | 11973              | 496167             |\n",
       "| Papuan             | Han                | Ancient_Neandertal | Primate_Chimp      |  0.0109            | 0.004487           |   2.435            | 14148              | 13843              | 549250             |\n",
       "| Papuan             | Han                | Ancient_Neandertal | Primate_Orangutan  |  0.0101            | 0.004541           |   2.231            | 13184              | 12920              | 473542             |\n",
       "| Papuan             | MbutiPygmy         | Ancient_Denisova   | Primate_Chimp      |  0.0347            | 0.004621           |   7.511            | 16788              | 15661              | 575964             |\n",
       "| Papuan             | MbutiPygmy         | Ancient_Denisova   | Primate_Orangutan  |  0.0009            | 0.004488           |   0.193            | 15425              | 15398              | 496167             |\n",
       "| Papuan             | MbutiPygmy         | Ancient_Neandertal | Primate_Chimp      |  0.0394            | 0.005005           |   7.877            | 18060              | 16690              | 549250             |\n",
       "| Papuan             | MbutiPygmy         | Ancient_Neandertal | Primate_Orangutan  |  0.0107            | 0.005024           |   2.139            | 16300              | 15953              | 473542             |\n",
       "| Papuan             | Yoruba             | Ancient_Denisova   | Primate_Chimp      |  0.0404            | 0.004299           |   9.405            | 16349              | 15078              | 575964             |\n",
       "| Papuan             | Yoruba             | Ancient_Denisova   | Primate_Orangutan  |  0.0139            | 0.004273           |   3.262            | 15135              | 14719              | 496167             |\n",
       "| Papuan             | Yoruba             | Ancient_Neandertal | Primate_Chimp      |  0.0441            | 0.004727           |   9.332            | 17489              | 16012              | 549250             |\n",
       "| Papuan             | Yoruba             | Ancient_Neandertal | Primate_Orangutan  |  0.0212            | 0.004726           |   4.496            | 15888              | 15227              | 473542             |\n",
       "| Yoruba             | French             | Ancient_Denisova   | Primate_Chimp      | -0.0025            | 0.002945           |  -0.835            | 15323              | 15398              | 575964             |\n",
       "| Yoruba             | French             | Ancient_Denisova   | Primate_Orangutan  |  0.0190            | 0.003006           |   6.325            | 14880              | 14325              | 496167             |\n",
       "| Yoruba             | French             | Ancient_Neandertal | Primate_Chimp      | -0.0345            | 0.003152           | -10.957            | 15798              | 16928              | 549250             |\n",
       "| Yoruba             | French             | Ancient_Neandertal | Primate_Orangutan  | -0.0129            | 0.003192           |  -4.051            | 15011              | 15404              | 473542             |\n",
       "| Yoruba             | Han                | Ancient_Denisova   | Primate_Chimp      | -0.0013            | 0.003221           |  -0.406            | 15439              | 15479              | 575964             |\n",
       "| Yoruba             | Han                | Ancient_Denisova   | Primate_Orangutan  |  0.0203            | 0.003267           |   6.212            | 15008              | 14411              | 496167             |\n",
       "| Yoruba             | Han                | Ancient_Neandertal | Primate_Chimp      | -0.0355            | 0.003726           |  -9.532            | 15914              | 17086              | 549250             |\n",
       "| Yoruba             | Han                | Ancient_Neandertal | Primate_Orangutan  | -0.0129            | 0.003825           |  -3.378            | 15149              | 15545              | 473542             |\n",
       "| Yoruba             | MbutiPygmy         | Ancient_Denisova   | Primate_Chimp      | -0.0048            | 0.002461           |  -1.935            | 15090              | 15234              | 575964             |\n",
       "| Yoruba             | MbutiPygmy         | Ancient_Denisova   | Primate_Orangutan  | -0.0136            | 0.002316           |  -5.887            | 14088              | 14477              | 496167             |\n",
       "| Yoruba             | MbutiPygmy         | Ancient_Neandertal | Primate_Chimp      | -0.0033            | 0.002392           |  -1.397            | 16069              | 16177              | 549250             |\n",
       "| Yoruba             | MbutiPygmy         | Ancient_Neandertal | Primate_Orangutan  | -0.0106            | 0.002382           |  -4.439            | 14712              | 15027              | 473542             |\n",
       "| Yoruba             | Papuan             | Ancient_Denisova   | Primate_Chimp      | -0.0404            | 0.004299           |  -9.405            | 15078              | 16349              | 575964             |\n",
       "| Yoruba             | Papuan             | Ancient_Denisova   | Primate_Orangutan  | -0.0139            | 0.004273           |  -3.262            | 14719              | 15135              | 496167             |\n",
       "| Yoruba             | Papuan             | Ancient_Neandertal | Primate_Chimp      | -0.0441            | 0.004727           |  -9.332            | 16012              | 17489              | 549250             |\n",
       "| Yoruba             | Papuan             | Ancient_Neandertal | Primate_Orangutan  | -0.0212            | 0.004726           |  -4.496            | 15227              | 15888              | 473542             |\n",
       "\n"
      ],
      "text/plain": [
       "   W      X          Y                  Z                 D       stderr  \n",
       "1  French Han        Ancient_Denisova   Primate_Chimp      0.0013 0.002943\n",
       "2  French Han        Ancient_Denisova   Primate_Orangutan  0.0016 0.003011\n",
       "3  French Han        Ancient_Neandertal Primate_Chimp     -0.0015 0.003448\n",
       "4  French Han        Ancient_Neandertal Primate_Orangutan -0.0001 0.003495\n",
       "5  French MbutiPygmy Ancient_Denisova   Primate_Chimp     -0.0022 0.003673\n",
       "6  French MbutiPygmy Ancient_Denisova   Primate_Orangutan -0.0311 0.003603\n",
       "7  French MbutiPygmy Ancient_Neandertal Primate_Chimp      0.0300 0.003716\n",
       "8  French MbutiPygmy Ancient_Neandertal Primate_Orangutan  0.0025 0.003777\n",
       "9  French Papuan     Ancient_Denisova   Primate_Chimp     -0.0435 0.004500\n",
       "10 French Papuan     Ancient_Denisova   Primate_Orangutan -0.0371 0.004370\n",
       "11 French Papuan     Ancient_Neandertal Primate_Chimp     -0.0119 0.004879\n",
       "12 French Papuan     Ancient_Neandertal Primate_Orangutan -0.0098 0.004923\n",
       "13 French Yoruba     Ancient_Denisova   Primate_Chimp      0.0025 0.002945\n",
       "14 French Yoruba     Ancient_Denisova   Primate_Orangutan -0.0190 0.003006\n",
       "15 French Yoruba     Ancient_Neandertal Primate_Chimp      0.0345 0.003152\n",
       "16 French Yoruba     Ancient_Neandertal Primate_Orangutan  0.0129 0.003192\n",
       "17 Han    French     Ancient_Denisova   Primate_Chimp     -0.0013 0.002943\n",
       "18 Han    French     Ancient_Denisova   Primate_Orangutan -0.0016 0.003011\n",
       "19 Han    French     Ancient_Neandertal Primate_Chimp      0.0015 0.003448\n",
       "20 Han    French     Ancient_Neandertal Primate_Orangutan  0.0001 0.003495\n",
       "21 Han    MbutiPygmy Ancient_Denisova   Primate_Chimp     -0.0032 0.003820\n",
       "22 Han    MbutiPygmy Ancient_Denisova   Primate_Orangutan -0.0324 0.003737\n",
       "23 Han    MbutiPygmy Ancient_Neandertal Primate_Chimp      0.0310 0.004156\n",
       "24 Han    MbutiPygmy Ancient_Neandertal Primate_Orangutan  0.0026 0.004282\n",
       "25 Han    Papuan     Ancient_Denisova   Primate_Chimp     -0.0471 0.004409\n",
       "26 Han    Papuan     Ancient_Denisova   Primate_Orangutan -0.0406 0.004281\n",
       "27 Han    Papuan     Ancient_Neandertal Primate_Chimp     -0.0109 0.004487\n",
       "28 Han    Papuan     Ancient_Neandertal Primate_Orangutan -0.0101 0.004541\n",
       "29 Han    Yoruba     Ancient_Denisova   Primate_Chimp      0.0013 0.003221\n",
       "30 Han    Yoruba     Ancient_Denisova   Primate_Orangutan -0.0203 0.003267\n",
       "⋮  ⋮      ⋮          ⋮                  ⋮                 ⋮       ⋮       \n",
       "51 Papuan French     Ancient_Neandertal Primate_Chimp      0.0119 0.004879\n",
       "52 Papuan French     Ancient_Neandertal Primate_Orangutan  0.0098 0.004923\n",
       "53 Papuan Han        Ancient_Denisova   Primate_Chimp      0.0471 0.004409\n",
       "54 Papuan Han        Ancient_Denisova   Primate_Orangutan  0.0406 0.004281\n",
       "55 Papuan Han        Ancient_Neandertal Primate_Chimp      0.0109 0.004487\n",
       "56 Papuan Han        Ancient_Neandertal Primate_Orangutan  0.0101 0.004541\n",
       "57 Papuan MbutiPygmy Ancient_Denisova   Primate_Chimp      0.0347 0.004621\n",
       "58 Papuan MbutiPygmy Ancient_Denisova   Primate_Orangutan  0.0009 0.004488\n",
       "59 Papuan MbutiPygmy Ancient_Neandertal Primate_Chimp      0.0394 0.005005\n",
       "60 Papuan MbutiPygmy Ancient_Neandertal Primate_Orangutan  0.0107 0.005024\n",
       "61 Papuan Yoruba     Ancient_Denisova   Primate_Chimp      0.0404 0.004299\n",
       "62 Papuan Yoruba     Ancient_Denisova   Primate_Orangutan  0.0139 0.004273\n",
       "63 Papuan Yoruba     Ancient_Neandertal Primate_Chimp      0.0441 0.004727\n",
       "64 Papuan Yoruba     Ancient_Neandertal Primate_Orangutan  0.0212 0.004726\n",
       "65 Yoruba French     Ancient_Denisova   Primate_Chimp     -0.0025 0.002945\n",
       "66 Yoruba French     Ancient_Denisova   Primate_Orangutan  0.0190 0.003006\n",
       "67 Yoruba French     Ancient_Neandertal Primate_Chimp     -0.0345 0.003152\n",
       "68 Yoruba French     Ancient_Neandertal Primate_Orangutan -0.0129 0.003192\n",
       "69 Yoruba Han        Ancient_Denisova   Primate_Chimp     -0.0013 0.003221\n",
       "70 Yoruba Han        Ancient_Denisova   Primate_Orangutan  0.0203 0.003267\n",
       "71 Yoruba Han        Ancient_Neandertal Primate_Chimp     -0.0355 0.003726\n",
       "72 Yoruba Han        Ancient_Neandertal Primate_Orangutan -0.0129 0.003825\n",
       "73 Yoruba MbutiPygmy Ancient_Denisova   Primate_Chimp     -0.0048 0.002461\n",
       "74 Yoruba MbutiPygmy Ancient_Denisova   Primate_Orangutan -0.0136 0.002316\n",
       "75 Yoruba MbutiPygmy Ancient_Neandertal Primate_Chimp     -0.0033 0.002392\n",
       "76 Yoruba MbutiPygmy Ancient_Neandertal Primate_Orangutan -0.0106 0.002382\n",
       "77 Yoruba Papuan     Ancient_Denisova   Primate_Chimp     -0.0404 0.004299\n",
       "78 Yoruba Papuan     Ancient_Denisova   Primate_Orangutan -0.0139 0.004273\n",
       "79 Yoruba Papuan     Ancient_Neandertal Primate_Chimp     -0.0441 0.004727\n",
       "80 Yoruba Papuan     Ancient_Neandertal Primate_Orangutan -0.0212 0.004726\n",
       "   Zscore  BABA  ABBA  nsnps \n",
       "1    0.449 13280 13245 575964\n",
       "2    0.547 12702 12660 496167\n",
       "3   -0.428 14153 14195 549250\n",
       "4   -0.037 13219 13223 473542\n",
       "5   -0.587 15921 15990 575964\n",
       "6   -8.643 14695 15639 496167\n",
       "7    8.061 17578 16555 549250\n",
       "8    0.658 15887 15808 473542\n",
       "9   -9.678 13125 14321 575964\n",
       "10  -8.479 12622 13593 496167\n",
       "11  -2.431 14480 14827 549250\n",
       "12  -1.991 13530 13798 473542\n",
       "13   0.835 15398 15323 575964\n",
       "14  -6.325 14325 14880 496167\n",
       "15  10.957 16928 15798 549250\n",
       "16   4.051 15404 15011 473542\n",
       "17  -0.449 13245 13280 575964\n",
       "18  -0.547 12660 12702 496167\n",
       "19   0.428 14195 14153 549250\n",
       "20   0.037 13223 13219 473542\n",
       "21  -0.849 15972 16076 575964\n",
       "22  -8.661 14744 15730 496167\n",
       "23   7.450 17718 16654 549250\n",
       "24   0.602 16002 15920 473542\n",
       "25 -10.681 12446 13677 575964\n",
       "26  -9.481 11973 12986 496167\n",
       "27  -2.435 13843 14148 549250\n",
       "28  -2.231 12920 13184 473542\n",
       "29   0.406 15479 15439 575964\n",
       "30  -6.212 14411 15008 496167\n",
       "⋮  ⋮       ⋮     ⋮     ⋮     \n",
       "51   2.431 14827 14480 549250\n",
       "52   1.991 13798 13530 473542\n",
       "53  10.681 13677 12446 575964\n",
       "54   9.481 12986 11973 496167\n",
       "55   2.435 14148 13843 549250\n",
       "56   2.231 13184 12920 473542\n",
       "57   7.511 16788 15661 575964\n",
       "58   0.193 15425 15398 496167\n",
       "59   7.877 18060 16690 549250\n",
       "60   2.139 16300 15953 473542\n",
       "61   9.405 16349 15078 575964\n",
       "62   3.262 15135 14719 496167\n",
       "63   9.332 17489 16012 549250\n",
       "64   4.496 15888 15227 473542\n",
       "65  -0.835 15323 15398 575964\n",
       "66   6.325 14880 14325 496167\n",
       "67 -10.957 15798 16928 549250\n",
       "68  -4.051 15011 15404 473542\n",
       "69  -0.406 15439 15479 575964\n",
       "70   6.212 15008 14411 496167\n",
       "71  -9.532 15914 17086 549250\n",
       "72  -3.378 15149 15545 473542\n",
       "73  -1.935 15090 15234 575964\n",
       "74  -5.887 14088 14477 496167\n",
       "75  -1.397 16069 16177 549250\n",
       "76  -4.439 14712 15027 473542\n",
       "77  -9.405 15078 16349 575964\n",
       "78  -3.262 14719 15135 496167\n",
       "79  -9.332 16012 17489 549250\n",
       "80  -4.496 15227 15888 473542"
      ]
     },
     "metadata": {},
     "output_type": "display_data"
    }
   ],
   "source": [
    "d_res"
   ]
  },
  {
   "cell_type": "code",
   "execution_count": 23,
   "metadata": {},
   "outputs": [
    {
     "data": {
      "image/png": "[encoded data removed]",
      "text/plain": [
       "plot without title"
      ]
     },
     "metadata": {},
     "output_type": "display_data"
    }
   ],
   "source": [
    "d_res %>% filter(X==\"MbutiPygmy\") %>%\n",
    "mutate(sig=as.factor(abs(Zscore)>3)) %>%\n",
    "ggplot(aes(x=W, y=D, ymin=D-3*stderr, ymax=D+3*stderr, color=sig)) + \n",
    "geom_point() + \n",
    "geom_errorbar() +\n",
    "geom_hline(yintercept=0) +\n",
    "facet_wrap(~Y*Z)"
   ]
  }
 ],
 "metadata": {
  "kernelspec": {
   "display_name": "R",
   "language": "R",
   "name": "ir"
  },
  "language_info": {
   "codemirror_mode": "r",
   "file_extension": ".r",
   "mimetype": "text/x-r-source",
   "name": "R",
   "pygments_lexer": "r",
   "version": "3.4.4"
  }
 },
 "nbformat": 4,
 "nbformat_minor": 2
}
