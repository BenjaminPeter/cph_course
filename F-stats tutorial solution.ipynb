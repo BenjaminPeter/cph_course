{
 "cells": [
  {
   "cell_type": "markdown",
   "metadata": {},
   "source": [
    "# 0. Resources\n",
    "- [`Admixtools`](https://github.com/DReichLab/AdmixTools)\n",
    "- [`admixr`](https://github.com/bodkan/admixr)\n",
    "- [`admixr`-tutorial:](https://bodkan.net/admixr/articles/tutorial.html)\n",
    "- [Patterson et al. (2012)](http://www.genetics.org/content/192/3/1065)\n",
    "- [Bhatia et al. (2013)](https://www.ncbi.nlm.nih.gov/pmc/articles/PMC3759727/)\n",
    "- [Peter (2016)](http://www.genetics.org/content/202/4/1485)\n",
    "- [Petr et al. (2019)](https://academic.oup.com/bioinformatics/advance-article/doi/10.1093/bioinformatics/btz030/5298728)\n",
    "\n",
    "\n",
    "# 1.  Setting up\n",
    "To get your own copy of this tutorial, you will need to copy it to your directory by logging into the console and copying it over:\n",
    "\n",
    "````bash\n",
    "cp -r ~ben/fstats/ .\n",
    "\n",
    "```\n",
    "\n",
    "Next, you will need to start R remotely, and load the required packages for the tutorial"
   ]
  },
  {
   "cell_type": "code",
   "execution_count": 1,
   "metadata": {},
   "outputs": [],
   "source": [
    "suppressPackageStartupMessages({\n",
    "    library(admixr)\n",
    "    library(data.table)\n",
    "    library(tidyverse)\n",
    "    source(\"scripts/analysis.R\")\n",
    "})"
   ]
  },
  {
   "cell_type": "markdown",
   "metadata": {},
   "source": [
    "Let us know if any of this does not work\n",
    "\n",
    "# 2. Data\n",
    "For this tutorial, we will be using data from the (fully public) version of\n",
    " Lazaridis et al 2014, that can be downloaded from\n",
    "https://reich.hms.harvard.edu/datasets. This data has an unique ascertainment\n",
    "scheme, so throughout we need to keep ascertainment bias in mind. \n",
    "\n",
    "In order to save time, I subset the data and converted it to various formats,\n",
    "namely the `plink` and `eigenstrat` formats that we will be using throughout."
   ]
  },
  {
   "cell_type": "code",
   "execution_count": 2,
   "metadata": {},
   "outputs": [
    {
     "data": {
      "text/html": [
       "<style>\n",
       ".list-inline {list-style: none; margin:0; padding: 0}\n",
       ".list-inline>li {display: inline-block}\n",
       ".list-inline>li:not(:last-child)::after {content: \"\\00b7\"; padding: 0 .5ex}\n",
       "</style>\n",
       "<ol class=list-inline><li>'europe.1.frq'</li><li>'europe.1.frq.strat'</li><li>'europe.1.log'</li><li>'europe.bed'</li><li>'europe.bim'</li><li>'europe.fam'</li><li>'europe.geno'</li><li>'europe.ind'</li><li>'europe.log'</li><li>'europe.plinklist'</li><li>'europe.pop_geo'</li><li>'europe.poplist'</li><li>'europe.snp'</li></ol>\n"
      ],
      "text/latex": [
       "\\begin{enumerate*}\n",
       "\\item 'europe.1.frq'\n",
       "\\item 'europe.1.frq.strat'\n",
       "\\item 'europe.1.log'\n",
       "\\item 'europe.bed'\n",
       "\\item 'europe.bim'\n",
       "\\item 'europe.fam'\n",
       "\\item 'europe.geno'\n",
       "\\item 'europe.ind'\n",
       "\\item 'europe.log'\n",
       "\\item 'europe.plinklist'\n",
       "\\item 'europe.pop\\_geo'\n",
       "\\item 'europe.poplist'\n",
       "\\item 'europe.snp'\n",
       "\\end{enumerate*}\n"
      ],
      "text/markdown": [
       "1. 'europe.1.frq'\n",
       "2. 'europe.1.frq.strat'\n",
       "3. 'europe.1.log'\n",
       "4. 'europe.bed'\n",
       "5. 'europe.bim'\n",
       "6. 'europe.fam'\n",
       "7. 'europe.geno'\n",
       "8. 'europe.ind'\n",
       "9. 'europe.log'\n",
       "10. 'europe.plinklist'\n",
       "11. 'europe.pop_geo'\n",
       "12. 'europe.poplist'\n",
       "13. 'europe.snp'\n",
       "\n",
       "\n"
      ],
      "text/plain": [
       " [1] \"europe.1.frq\"       \"europe.1.frq.strat\" \"europe.1.log\"      \n",
       " [4] \"europe.bed\"         \"europe.bim\"         \"europe.fam\"        \n",
       " [7] \"europe.geno\"        \"europe.ind\"         \"europe.log\"        \n",
       "[10] \"europe.plinklist\"   \"europe.pop_geo\"     \"europe.poplist\"    \n",
       "[13] \"europe.snp\"        "
      ]
     },
     "metadata": {},
     "output_type": "display_data"
    },
    {
     "data": {
      "text/html": [
       "<style>\n",
       ".list-inline {list-style: none; margin:0; padding: 0}\n",
       ".list-inline>li {display: inline-block}\n",
       ".list-inline>li:not(:last-child)::after {content: \"\\00b7\"; padding: 0 .5ex}\n",
       "</style>\n",
       "<ol class=list-inline><li>'world.1.frq'</li><li>'world.1.frq.strat'</li><li>'world.1.log'</li><li>'world.bed'</li><li>'world.bim'</li><li>'world.fam'</li><li>'world.frq'</li><li>'world.frq.strat'</li><li>'world.geno'</li><li>'world.ind'</li><li>'world.log'</li><li>'world.plinklist'</li><li>'world.poplist'</li><li>'world.snp'</li><li>'world.traw'</li></ol>\n"
      ],
      "text/latex": [
       "\\begin{enumerate*}\n",
       "\\item 'world.1.frq'\n",
       "\\item 'world.1.frq.strat'\n",
       "\\item 'world.1.log'\n",
       "\\item 'world.bed'\n",
       "\\item 'world.bim'\n",
       "\\item 'world.fam'\n",
       "\\item 'world.frq'\n",
       "\\item 'world.frq.strat'\n",
       "\\item 'world.geno'\n",
       "\\item 'world.ind'\n",
       "\\item 'world.log'\n",
       "\\item 'world.plinklist'\n",
       "\\item 'world.poplist'\n",
       "\\item 'world.snp'\n",
       "\\item 'world.traw'\n",
       "\\end{enumerate*}\n"
      ],
      "text/markdown": [
       "1. 'world.1.frq'\n",
       "2. 'world.1.frq.strat'\n",
       "3. 'world.1.log'\n",
       "4. 'world.bed'\n",
       "5. 'world.bim'\n",
       "6. 'world.fam'\n",
       "7. 'world.frq'\n",
       "8. 'world.frq.strat'\n",
       "9. 'world.geno'\n",
       "10. 'world.ind'\n",
       "11. 'world.log'\n",
       "12. 'world.plinklist'\n",
       "13. 'world.poplist'\n",
       "14. 'world.snp'\n",
       "15. 'world.traw'\n",
       "\n",
       "\n"
      ],
      "text/plain": [
       " [1] \"world.1.frq\"       \"world.1.frq.strat\" \"world.1.log\"      \n",
       " [4] \"world.bed\"         \"world.bim\"         \"world.fam\"        \n",
       " [7] \"world.frq\"         \"world.frq.strat\"   \"world.geno\"       \n",
       "[10] \"world.ind\"         \"world.log\"         \"world.plinklist\"  \n",
       "[13] \"world.poplist\"     \"world.snp\"         \"world.traw\"       "
      ]
     },
     "metadata": {},
     "output_type": "display_data"
    }
   ],
   "source": [
    "list.files(\"data/europe/\")\n",
    "list.files(\"data/world/\")"
   ]
  },
  {
   "cell_type": "markdown",
   "metadata": {},
   "source": [
    "To see which samples we have available, we can load the file containing all the individuals into `R`"
   ]
  },
  {
   "cell_type": "code",
   "execution_count": 3,
   "metadata": {},
   "outputs": [],
   "source": [
    "world <- eigenstrat(\"data/world//world\")\n",
    "ind <- admixr::read_ind(world)"
   ]
  },
  {
   "cell_type": "markdown",
   "metadata": {},
   "source": [
    "\n",
    "\n",
    "**Question 1:** How many individuals and populations are there in this data set?"
   ]
  },
  {
   "cell_type": "code",
   "execution_count": 4,
   "metadata": {},
   "outputs": [
    {
     "data": {
      "text/plain": [
       "\n",
       " AA_Denver     French        Han    Khomani MbutiPygmy     Papuan  Sardinian \n",
       "        12         25         33         11         10         14         27 \n",
       "    Sindhi      Surui      Uygur      Yakut     Yoruba \n",
       "        18          8         10         20         70 "
      ]
     },
     "metadata": {},
     "output_type": "display_data"
    }
   ],
   "source": [
    "table(ind$label)"
   ]
  },
  {
   "cell_type": "markdown",
   "metadata": {},
   "source": [
    "# 4. Admixture-F3\n",
    "We will use the `world`-dataset that contains a small set of samples from all\n",
    "continents. We'll hypothesize that Uygurs are an admixed group resulting from the mixture of two populations. We'll try to find the pair of Han and another populations in our panel. We would like to know which one matches best. For this, we'll resort to using Admixture F3 statistics.\n",
    "\n",
    "The standard way is to use the program `qp3pop` from `admixtools`. As you did yesterday for PCA, one has to \n",
    "1. write a par-file \n",
    "2. write a pop-file\n",
    "3. run `qp3pop`\n",
    "4. parse the output\n",
    "\n",
    "We are too lazy to do that. Luckily, `admixr` allows us to do all those four steps in one go:"
   ]
  },
  {
   "cell_type": "code",
   "execution_count": 5,
   "metadata": {},
   "outputs": [],
   "source": [
    "world <- admixr::eigenstrat(\"data/world//world\")\n",
    "ind <- admixr::read_ind(world)\n",
    "pops <- unique(ind$label)\n",
    "pops <- pops[!pops %in% c(\"Uygur\", \"Han\")]\n",
    "\n",
    "f3_res = f3(world, A=pops, B=\"Han\", C=\"Uygur\")"
   ]
  },
  {
   "cell_type": "code",
   "execution_count": 6,
   "metadata": {},
   "outputs": [
    {
     "data": {
      "image/png": "[encoded data removed]",
      "text/plain": [
       "plot without title"
      ]
     },
     "metadata": {
      "image/png": {
       "height": 420,
       "width": 420
      }
     },
     "output_type": "display_data"
    }
   ],
   "source": [
    "f3_res %>% \n",
    "    mutate(is_significant=Zscore < -3) %>%\n",
    "    ggplot(aes(x=A, y=f3, ymin=f3-3*stderr, ymax = f3+3*stderr, color=is_significant)) +\n",
    "    geom_point() + geom_errorbar() +geom_hline(yintercept = 0) + coord_flip()"
   ]
  },
  {
   "cell_type": "markdown",
   "metadata": {},
   "source": [
    "**Question 3**: \n",
    "- Are any $F_3$-statistics negative? \n",
    "- Are they significant? (|Z| > 3?)?\n",
    "- Which pairs of populations do these correspond to? \n",
    "- What could this mean about the population genetic history of the Uygurs?"
   ]
  },
  {
   "cell_type": "markdown",
   "metadata": {},
   "source": [
    "# 5. Outgroup-F3\n",
    "Next, we can compute outgroup-F3 stats in a very similar fashion. To do so,\n",
    "we'll use the European data. \n",
    "\n",
    "In the data, you will find a population labelled as `unknown`. \n",
    "Which population could they be most closely related to?\n",
    "\n",
    "We can use a very similar approach as before:\n",
    " - C will be the `Mbuti`-population\n",
    " - B will be the `unknown`-population\n",
    " - A will be the list of all candidates\n",
    "\n",
    "**Task 2:** Use `admixr` (or if you _really_ prefer, `qp3Pop` manually) to \n",
    "1. load an eigenstrat object for the `europe`-dataset\n",
    "2. read all populations present in that data into memory using the `read_ind` function\n",
    "3. calculate all outgroup-$F_3$-statistics\n",
    "4. create a figure visualizing your results. You may use the following function:"
   ]
  },
  {
   "cell_type": "code",
   "execution_count": 7,
   "metadata": {},
   "outputs": [],
   "source": [
    "viz_outgroup_f3 <- function(f3_res){\n",
    "    f3_res %>% \n",
    "    ggplot(aes(x=A, y=f3, ymin=f3-3*stderr, ymax = f3+3*stderr)) +\n",
    "    geom_point() + \n",
    "    geom_errorbar() +\n",
    "    geom_hline(yintercept = 0) + \n",
    "    coord_flip()\n",
    "    }"
   ]
  },
  {
   "cell_type": "code",
   "execution_count": 8,
   "metadata": {},
   "outputs": [
    {
     "data": {
      "image/png": "[encoded data removed]",
      "text/plain": [
       "plot without title"
      ]
     },
     "metadata": {
      "image/png": {
       "height": 420,
       "width": 420
      }
     },
     "output_type": "display_data"
    }
   ],
   "source": [
    "europe <- admixr::eigenstrat(\"data/europe/europe\")\n",
    "ind <- admixr::read_ind(europe)\n",
    "pops <- unique(ind$label)\n",
    "pops <- pops[!pops %in% c(\"Unknown\", \"MbutiPygmy\")]\n",
    "\n",
    "f3_res = f3(europe, A=pops, B=\"Unknown\", C=\"MbutiPygmy\")\n",
    "viz_outgroup_f3(f3_res)"
   ]
  },
  {
   "cell_type": "markdown",
   "metadata": {},
   "source": [
    "# 6. D-statistics\n",
    "next, we can test for admixture in the past history of humans by lookin for an excess of ABBA or an excess of BABA sites in a 4-population tree.\n",
    "\n",
    "For this purpose, we use the ancient dataset, which contains a subset of the Lazaridis-data with Chimpanzee, Oranguan, Neandertal, Denisovan and a small number of modern Human population samples.\n",
    "\n",
    "To calculate D-stats is very similar to calculating $F_3$: instead of `admixr::f3` we use `admixr::d`:\n",
    "\n",
    "**Task 3**: Use admixr (or if you really prefer, qp3Pop manually) to\n",
    "\n",
    " - load an eigenstrat object for the `ancient`-dataset\n",
    " - read all populations present in that data into memory using the `read_ind`-function\n",
    " - calculate all D-statistics of the form $D(MH_1, MH_2, AH, \\text{Primate})$ \n",
    " - create a figure visualizing your results\n",
    "\n",
    "\n",
    "**Question 4**: Are any of the statistics significant? In what direction? (i.e. is there an excess of ABBA or BABA patterns, relative to what you would expect under a 4-population tree?). Is this consistent with what you might expect? "
   ]
  },
  {
   "cell_type": "code",
   "execution_count": 9,
   "metadata": {},
   "outputs": [
    {
     "data": {
      "text/plain": [
       "\n",
       "  Ancient_Denisova Ancient_Neandertal             French                Han \n",
       "                 1                  1                 25                 33 \n",
       "        MbutiPygmy             Papuan      Primate_Chimp  Primate_Orangutan \n",
       "                10                 14                  1                  1 \n",
       "            Yoruba \n",
       "                70 "
      ]
     },
     "metadata": {},
     "output_type": "display_data"
    },
    {
     "name": "stderr",
     "output_type": "stream",
     "text": [
      "Warning message in system(paste(cmd, \"-p\", par_file, \">\", log_file)):\n",
      "“error in running command”\n",
      "BEGINNING OF OUTPUT FILE\n",
      "==================================================\n",
      "\n",
      "\n",
      "\n",
      "==================================================\n",
      "END OF OUTPUT FILE\n",
      "\n",
      "\n",
      "\n"
     ]
    },
    {
     "ename": "ERROR",
     "evalue": "Error: The output file we got from ADMIXTOOLS is truncated.\n       Please examine the full output above and check for errors.\n",
     "output_type": "error",
     "traceback": [
      "Error: The output file we got from ADMIXTOOLS is truncated.\n       Please examine the full output above and check for errors.\nTraceback:\n",
      "1. ancient %>% d(W = MH, X = MH, Y = AH, Z = P)",
      "2. d(., W = MH, X = MH, Y = AH, Z = P)",
      "3. read_output(files[[\"log_file\"]])",
      "4. stop(\"The output file we got from ADMIXTOOLS is truncated.\\n       Please examine the full output above and check for errors.\", \n .     call. = FALSE)"
     ]
    }
   ],
   "source": [
    "ancient = eigenstrat(\"data/ancient/ancient\")\n",
    "ind = read_ind(ancient)\n",
    "table(ind$label)\n",
    "MH = c(\"French\", \"Han\", \"MbutiPygmy\", \"Papuan\", \"Yoruba\")\n",
    "AH = c(\"Ancient_Denisova\", \"Ancient_Neandertal\")\n",
    "P = c(\"Primate_Chimp\", \"Primate_Orangutan\")\n",
    "d_res = ancient %>% d(W=MH, X=MH, Y=AH, Z=P)\n",
    "d_res = d(ancient, W=MH, X=MH, Y=AH, Z=P)"
   ]
  },
  {
   "cell_type": "code",
   "execution_count": null,
   "metadata": {
    "scrolled": false
   },
   "outputs": [],
   "source": [
    "d_res"
   ]
  },
  {
   "cell_type": "code",
   "execution_count": null,
   "metadata": {},
   "outputs": [],
   "source": [
    "d_res %>% filter(X==\"MbutiPygmy\") %>%\n",
    "mutate(sig=as.factor(abs(Zscore)>3)) %>%\n",
    "ggplot(aes(x=W, y=D, ymin=D-3*stderr, ymax=D+3*stderr, color=sig)) + \n",
    "geom_point() + \n",
    "geom_errorbar() +\n",
    "geom_hline(yintercept=0) +\n",
    "facet_wrap(~Y*Z)"
   ]
  },
  {
   "cell_type": "markdown",
   "metadata": {},
   "source": [
    "# 7. estimating admixture proportions\n",
    "The final task in the F-statistics framework will be to calculate admixture proportions using the $F_4$-ratio. \n",
    "\n",
    "For this purpose, we will revisit the world-dataset that we used with the $F_3$-statistics already. It contains 12 populations throughout the globe. In the Admixture-$F_3$ exercise we found that the Uygurs may be modelled as a mixture of an East-Asian population and a Western Eurasian population. We would now like to estimate the contributions from each population\n",
    "    ![f4r](F4.large.jpg)\n",
    "\n",
    "**Task 4**: Use `admixr` (or if you really prefer, qpF4ratio manually) to\n",
    "\n",
    "- load an eigenstrat object for the world-dataset\n",
    "- read all populations present in that data into memory using the `read_ind`-function\n",
    "- have a look at the help by typing `?f4ratio` and comparing it with the tree above\n",
    "- set up some $F_4$-ratios with appropriate populations to estimate the admixture proportions of the `Uygurs`.\n",
    "- justify why you are using which population in which position\n",
    "- what is your estimated admixture proportion?"
   ]
  },
  {
   "cell_type": "code",
   "execution_count": null,
   "metadata": {},
   "outputs": [],
   "source": [
    "world = eigenstrat('data/world/world')\n",
    "pops = read_ind(world) %>% select(label) %>% unique\n",
    "pops"
   ]
  },
  {
   "cell_type": "code",
   "execution_count": null,
   "metadata": {},
   "outputs": [],
   "source": [
    "f4ratio(world, O = c('Yoruba'), X='Uygur', C=c('Sardinian', 'French'), A=c('Papuan','Surui'), B='Han' )"
   ]
  }
 ],
 "metadata": {
  "kernelspec": {
   "display_name": "R",
   "language": "R",
   "name": "ir"
  },
  "language_info": {
   "codemirror_mode": "r",
   "file_extension": ".r",
   "mimetype": "text/x-r-source",
   "name": "R",
   "pygments_lexer": "r",
   "version": "4.0.4"
  }
 },
 "nbformat": 4,
 "nbformat_minor": 2
}
