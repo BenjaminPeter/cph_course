{
 "cells": [
  {
   "cell_type": "markdown",
   "metadata": {},
   "source": [
    "# 0. Resources\n",
    "- [`Admixtools`](https://github.com/DReichLab/AdmixTools)\n",
    "- [`admixr`](https://github.com/bodkan/admixr)\n",
    "- [`admixr`-tutorial:](https://bodkan.net/admixr/articles/tutorial.html)\n",
    "- [Patterson et al. (2012)](http://www.genetics.org/content/192/3/1065)\n",
    "- [Bhatia et al. (2013)](https://www.ncbi.nlm.nih.gov/pmc/articles/PMC3759727/)\n",
    "- [Peter (2016)](http://www.genetics.org/content/202/4/1485)\n",
    "- [Petr et al. (2019)](https://academic.oup.com/bioinformatics/advance-article/doi/10.1093/bioinformatics/btz030/5298728)\n",
    "\n",
    "\n",
    "# 1.  Setting up\n",
    "To get your own copy of this tutorial, you will need to copy it to your directory by logging into the console and copying it over:\n",
    "\n",
    "````bash\n",
    "cp -r ~peter/fstats_tutorial/ .\n",
    "\n",
    "```\n",
    "\n",
    "Next, you will need to start R remotely, and load the required packages for the tutorial"
   ]
  },
  {
   "cell_type": "code",
   "execution_count": 1,
   "metadata": {},
   "outputs": [],
   "source": [
    "setwd('~bp/fstats_tutorial')"
   ]
  },
  {
   "cell_type": "code",
   "execution_count": 3,
   "metadata": {},
   "outputs": [],
   "source": [
    "suppressPackageStartupMessages({\n",
    "    library(admixr)\n",
    "    library(data.table)\n",
    "    library(tidyverse)\n",
    "    source(\"scripts/analysis.R\")\n",
    "})"
   ]
  },
  {
   "cell_type": "markdown",
   "metadata": {},
   "source": [
    "Let us know if any of this does not work.\n",
    "\n",
    "# 2. Data\n",
    "For this tutorial, we will be using data from the (fully public) version of\n",
    " Lazaridis et al (2014), that can be downloaded from\n",
    "https://reich.hms.harvard.edu/datasets. This data has an unique ascertainment\n",
    "scheme, so throughout we need to keep ascertainment bias in mind. \n",
    "\n",
    "In order to save time, I subset the data and converted it to the `eigenstrat` format that we will be using throughout."
   ]
  },
  {
   "cell_type": "code",
   "execution_count": 4,
   "metadata": {},
   "outputs": [
    {
     "data": {
      "text/html": [
       "<style>\n",
       ".list-inline {list-style: none; margin:0; padding: 0}\n",
       ".list-inline>li {display: inline-block}\n",
       ".list-inline>li:not(:last-child)::after {content: \"\\00b7\"; padding: 0 .5ex}\n",
       "</style>\n",
       "<ol class=list-inline><li>'europe.1.frq'</li><li>'europe.1.frq.strat'</li><li>'europe.1.log'</li><li>'europe.bed'</li><li>'europe.bim'</li><li>'europe.fam'</li><li>'europe.geno'</li><li>'europe.ind'</li><li>'europe.log'</li><li>'europe.plinklist'</li><li>'europe.pop_geo'</li><li>'europe.poplist'</li><li>'europe.snp'</li></ol>\n"
      ],
      "text/latex": [
       "\\begin{enumerate*}\n",
       "\\item 'europe.1.frq'\n",
       "\\item 'europe.1.frq.strat'\n",
       "\\item 'europe.1.log'\n",
       "\\item 'europe.bed'\n",
       "\\item 'europe.bim'\n",
       "\\item 'europe.fam'\n",
       "\\item 'europe.geno'\n",
       "\\item 'europe.ind'\n",
       "\\item 'europe.log'\n",
       "\\item 'europe.plinklist'\n",
       "\\item 'europe.pop\\_geo'\n",
       "\\item 'europe.poplist'\n",
       "\\item 'europe.snp'\n",
       "\\end{enumerate*}\n"
      ],
      "text/markdown": [
       "1. 'europe.1.frq'\n",
       "2. 'europe.1.frq.strat'\n",
       "3. 'europe.1.log'\n",
       "4. 'europe.bed'\n",
       "5. 'europe.bim'\n",
       "6. 'europe.fam'\n",
       "7. 'europe.geno'\n",
       "8. 'europe.ind'\n",
       "9. 'europe.log'\n",
       "10. 'europe.plinklist'\n",
       "11. 'europe.pop_geo'\n",
       "12. 'europe.poplist'\n",
       "13. 'europe.snp'\n",
       "\n",
       "\n"
      ],
      "text/plain": [
       " [1] \"europe.1.frq\"       \"europe.1.frq.strat\" \"europe.1.log\"      \n",
       " [4] \"europe.bed\"         \"europe.bim\"         \"europe.fam\"        \n",
       " [7] \"europe.geno\"        \"europe.ind\"         \"europe.log\"        \n",
       "[10] \"europe.plinklist\"   \"europe.pop_geo\"     \"europe.poplist\"    \n",
       "[13] \"europe.snp\"        "
      ]
     },
     "metadata": {},
     "output_type": "display_data"
    },
    {
     "data": {
      "text/html": [
       "<style>\n",
       ".list-inline {list-style: none; margin:0; padding: 0}\n",
       ".list-inline>li {display: inline-block}\n",
       ".list-inline>li:not(:last-child)::after {content: \"\\00b7\"; padding: 0 .5ex}\n",
       "</style>\n",
       "<ol class=list-inline><li>'world.1.frq'</li><li>'world.1.frq.strat'</li><li>'world.1.log'</li><li>'world.bed'</li><li>'world.bim'</li><li>'world.fam'</li><li>'world.frq'</li><li>'world.frq.strat'</li><li>'world.geno'</li><li>'world.ind'</li><li>'world.log'</li><li>'world.plinklist'</li><li>'world.poplist'</li><li>'world.snp'</li><li>'world.traw'</li></ol>\n"
      ],
      "text/latex": [
       "\\begin{enumerate*}\n",
       "\\item 'world.1.frq'\n",
       "\\item 'world.1.frq.strat'\n",
       "\\item 'world.1.log'\n",
       "\\item 'world.bed'\n",
       "\\item 'world.bim'\n",
       "\\item 'world.fam'\n",
       "\\item 'world.frq'\n",
       "\\item 'world.frq.strat'\n",
       "\\item 'world.geno'\n",
       "\\item 'world.ind'\n",
       "\\item 'world.log'\n",
       "\\item 'world.plinklist'\n",
       "\\item 'world.poplist'\n",
       "\\item 'world.snp'\n",
       "\\item 'world.traw'\n",
       "\\end{enumerate*}\n"
      ],
      "text/markdown": [
       "1. 'world.1.frq'\n",
       "2. 'world.1.frq.strat'\n",
       "3. 'world.1.log'\n",
       "4. 'world.bed'\n",
       "5. 'world.bim'\n",
       "6. 'world.fam'\n",
       "7. 'world.frq'\n",
       "8. 'world.frq.strat'\n",
       "9. 'world.geno'\n",
       "10. 'world.ind'\n",
       "11. 'world.log'\n",
       "12. 'world.plinklist'\n",
       "13. 'world.poplist'\n",
       "14. 'world.snp'\n",
       "15. 'world.traw'\n",
       "\n",
       "\n"
      ],
      "text/plain": [
       " [1] \"world.1.frq\"       \"world.1.frq.strat\" \"world.1.log\"      \n",
       " [4] \"world.bed\"         \"world.bim\"         \"world.fam\"        \n",
       " [7] \"world.frq\"         \"world.frq.strat\"   \"world.geno\"       \n",
       "[10] \"world.ind\"         \"world.log\"         \"world.plinklist\"  \n",
       "[13] \"world.poplist\"     \"world.snp\"         \"world.traw\"       "
      ]
     },
     "metadata": {},
     "output_type": "display_data"
    },
    {
     "data": {
      "text/html": [
       "<style>\n",
       ".list-inline {list-style: none; margin:0; padding: 0}\n",
       ".list-inline>li {display: inline-block}\n",
       ".list-inline>li:not(:last-child)::after {content: \"\\00b7\"; padding: 0 .5ex}\n",
       "</style>\n",
       "<ol class=list-inline><li>'ancient.1.frq'</li><li>'ancient.1.frq.strat'</li><li>'ancient.1.log'</li><li>'ancient.bed'</li><li>'ancient.bim'</li><li>'ancient.fam'</li><li>'ancient.geno'</li><li>'ancient.ind'</li><li>'ancient.log'</li><li>'ancient.plinklist'</li><li>'ancient.poplist'</li><li>'ancient.snp'</li><li>'ancient.traw'</li></ol>\n"
      ],
      "text/latex": [
       "\\begin{enumerate*}\n",
       "\\item 'ancient.1.frq'\n",
       "\\item 'ancient.1.frq.strat'\n",
       "\\item 'ancient.1.log'\n",
       "\\item 'ancient.bed'\n",
       "\\item 'ancient.bim'\n",
       "\\item 'ancient.fam'\n",
       "\\item 'ancient.geno'\n",
       "\\item 'ancient.ind'\n",
       "\\item 'ancient.log'\n",
       "\\item 'ancient.plinklist'\n",
       "\\item 'ancient.poplist'\n",
       "\\item 'ancient.snp'\n",
       "\\item 'ancient.traw'\n",
       "\\end{enumerate*}\n"
      ],
      "text/markdown": [
       "1. 'ancient.1.frq'\n",
       "2. 'ancient.1.frq.strat'\n",
       "3. 'ancient.1.log'\n",
       "4. 'ancient.bed'\n",
       "5. 'ancient.bim'\n",
       "6. 'ancient.fam'\n",
       "7. 'ancient.geno'\n",
       "8. 'ancient.ind'\n",
       "9. 'ancient.log'\n",
       "10. 'ancient.plinklist'\n",
       "11. 'ancient.poplist'\n",
       "12. 'ancient.snp'\n",
       "13. 'ancient.traw'\n",
       "\n",
       "\n"
      ],
      "text/plain": [
       " [1] \"ancient.1.frq\"       \"ancient.1.frq.strat\" \"ancient.1.log\"      \n",
       " [4] \"ancient.bed\"         \"ancient.bim\"         \"ancient.fam\"        \n",
       " [7] \"ancient.geno\"        \"ancient.ind\"         \"ancient.log\"        \n",
       "[10] \"ancient.plinklist\"   \"ancient.poplist\"     \"ancient.snp\"        \n",
       "[13] \"ancient.traw\"       "
      ]
     },
     "metadata": {},
     "output_type": "display_data"
    }
   ],
   "source": [
    "list.files(\"data/europe/\");\n",
    "list.files(\"data/world/\");\n",
    "list.files(\"data/ancient/\");"
   ]
  },
  {
   "cell_type": "markdown",
   "metadata": {},
   "source": [
    "To see which samples we have available, we can load the file containing all the individuals into `R`"
   ]
  },
  {
   "cell_type": "code",
   "execution_count": 5,
   "metadata": {},
   "outputs": [],
   "source": [
    "world <- admixr::eigenstrat(\"data/world//world\")\n",
    "ind <- admixr::read_ind(world)"
   ]
  },
  {
   "cell_type": "markdown",
   "metadata": {},
   "source": [
    "**Question 1:** How many individuals and populations are there in this data set?"
   ]
  },
  {
   "cell_type": "markdown",
   "metadata": {},
   "source": [
    "## 3. Admixture-F3\n",
    "We will use the `world`-dataset that contains a small set of samples from all\n",
    "continents. We'll hypothesize that Uygurs are an admixed group resulting from the mixture of two populations. We'll try to find the pair of Han and another populations in our panel. We would like to know which one matches best. For this, we'll resort to using Admixture F3 statistics.\n",
    "\n",
    "The standard way is to use the program `qp3pop` from `admixtools`. As you did yesterday for PCA, one has to \n",
    "1. write a par-file \n",
    "2. write a pop-file\n",
    "3. run `qp3pop`\n",
    "4. parse the output\n",
    "\n",
    "We are too lazy to do that. Luckily, `admixr` allows us to do all those four steps in one go:"
   ]
  },
  {
   "cell_type": "code",
   "execution_count": 8,
   "metadata": {},
   "outputs": [],
   "source": [
    "world <- admixr::eigenstrat(\"data/world//world\")\n",
    "ind <- admixr::read_ind(world)\n",
    "pops <- unique(ind$label)\n",
    "pops <- pops[!pops %in% c(\"Uygur\", \"Han\")]\n",
    "\n",
    "f3_res = f3(world, A=pops, B=\"Han\", C=\"Uygur\")"
   ]
  },
  {
   "cell_type": "code",
   "execution_count": 9,
   "metadata": {},
   "outputs": [
    {
     "data": {
      "text/html": [
       "<table class=\"dataframe\">\n",
       "<caption>A admixr_result: 10 × 7</caption>\n",
       "<thead>\n",
       "\t<tr><th scope=col>A</th><th scope=col>B</th><th scope=col>C</th><th scope=col>f3</th><th scope=col>stderr</th><th scope=col>Zscore</th><th scope=col>nsnps</th></tr>\n",
       "\t<tr><th scope=col>&lt;chr&gt;</th><th scope=col>&lt;chr&gt;</th><th scope=col>&lt;chr&gt;</th><th scope=col>&lt;dbl&gt;</th><th scope=col>&lt;dbl&gt;</th><th scope=col>&lt;dbl&gt;</th><th scope=col>&lt;dbl&gt;</th></tr>\n",
       "</thead>\n",
       "<tbody>\n",
       "\t<tr><td>Khomani   </td><td>Han</td><td>Uygur</td><td>-0.010031</td><td>0.000485</td><td>-20.679</td><td>521984</td></tr>\n",
       "\t<tr><td>Sindhi    </td><td>Han</td><td>Uygur</td><td>-0.016884</td><td>0.000326</td><td>-51.725</td><td>449547</td></tr>\n",
       "\t<tr><td>MbutiPygmy</td><td>Han</td><td>Uygur</td><td>-0.008625</td><td>0.000512</td><td>-16.848</td><td>501152</td></tr>\n",
       "\t<tr><td>French    </td><td>Han</td><td>Uygur</td><td>-0.025228</td><td>0.000355</td><td>-70.976</td><td>453312</td></tr>\n",
       "\t<tr><td>Papuan    </td><td>Han</td><td>Uygur</td><td> 0.004743</td><td>0.000651</td><td>  7.283</td><td>443278</td></tr>\n",
       "\t<tr><td>Sardinian </td><td>Han</td><td>Uygur</td><td>-0.025373</td><td>0.000394</td><td>-64.477</td><td>454566</td></tr>\n",
       "\t<tr><td>Surui     </td><td>Han</td><td>Uygur</td><td> 0.007864</td><td>0.000689</td><td> 11.421</td><td>431378</td></tr>\n",
       "\t<tr><td>Yoruba    </td><td>Han</td><td>Uygur</td><td>-0.009106</td><td>0.000478</td><td>-19.035</td><td>534807</td></tr>\n",
       "\t<tr><td>Yakut     </td><td>Han</td><td>Uygur</td><td> 0.013122</td><td>0.000477</td><td> 27.511</td><td>437104</td></tr>\n",
       "\t<tr><td>AA_Denver </td><td>Han</td><td>Uygur</td><td>-0.011363</td><td>0.000452</td><td>-25.130</td><td>504451</td></tr>\n",
       "</tbody>\n",
       "</table>\n"
      ],
      "text/latex": [
       "A admixr\\_result: 10 × 7\n",
       "\\begin{tabular}{lllllll}\n",
       " A & B & C & f3 & stderr & Zscore & nsnps\\\\\n",
       " <chr> & <chr> & <chr> & <dbl> & <dbl> & <dbl> & <dbl>\\\\\n",
       "\\hline\n",
       "\t Khomani    & Han & Uygur & -0.010031 & 0.000485 & -20.679 & 521984\\\\\n",
       "\t Sindhi     & Han & Uygur & -0.016884 & 0.000326 & -51.725 & 449547\\\\\n",
       "\t MbutiPygmy & Han & Uygur & -0.008625 & 0.000512 & -16.848 & 501152\\\\\n",
       "\t French     & Han & Uygur & -0.025228 & 0.000355 & -70.976 & 453312\\\\\n",
       "\t Papuan     & Han & Uygur &  0.004743 & 0.000651 &   7.283 & 443278\\\\\n",
       "\t Sardinian  & Han & Uygur & -0.025373 & 0.000394 & -64.477 & 454566\\\\\n",
       "\t Surui      & Han & Uygur &  0.007864 & 0.000689 &  11.421 & 431378\\\\\n",
       "\t Yoruba     & Han & Uygur & -0.009106 & 0.000478 & -19.035 & 534807\\\\\n",
       "\t Yakut      & Han & Uygur &  0.013122 & 0.000477 &  27.511 & 437104\\\\\n",
       "\t AA\\_Denver  & Han & Uygur & -0.011363 & 0.000452 & -25.130 & 504451\\\\\n",
       "\\end{tabular}\n"
      ],
      "text/markdown": [
       "\n",
       "A admixr_result: 10 × 7\n",
       "\n",
       "| A &lt;chr&gt; | B &lt;chr&gt; | C &lt;chr&gt; | f3 &lt;dbl&gt; | stderr &lt;dbl&gt; | Zscore &lt;dbl&gt; | nsnps &lt;dbl&gt; |\n",
       "|---|---|---|---|---|---|---|\n",
       "| Khomani    | Han | Uygur | -0.010031 | 0.000485 | -20.679 | 521984 |\n",
       "| Sindhi     | Han | Uygur | -0.016884 | 0.000326 | -51.725 | 449547 |\n",
       "| MbutiPygmy | Han | Uygur | -0.008625 | 0.000512 | -16.848 | 501152 |\n",
       "| French     | Han | Uygur | -0.025228 | 0.000355 | -70.976 | 453312 |\n",
       "| Papuan     | Han | Uygur |  0.004743 | 0.000651 |   7.283 | 443278 |\n",
       "| Sardinian  | Han | Uygur | -0.025373 | 0.000394 | -64.477 | 454566 |\n",
       "| Surui      | Han | Uygur |  0.007864 | 0.000689 |  11.421 | 431378 |\n",
       "| Yoruba     | Han | Uygur | -0.009106 | 0.000478 | -19.035 | 534807 |\n",
       "| Yakut      | Han | Uygur |  0.013122 | 0.000477 |  27.511 | 437104 |\n",
       "| AA_Denver  | Han | Uygur | -0.011363 | 0.000452 | -25.130 | 504451 |\n",
       "\n"
      ],
      "text/plain": [
       "   A          B   C     f3        stderr   Zscore  nsnps \n",
       "1  Khomani    Han Uygur -0.010031 0.000485 -20.679 521984\n",
       "2  Sindhi     Han Uygur -0.016884 0.000326 -51.725 449547\n",
       "3  MbutiPygmy Han Uygur -0.008625 0.000512 -16.848 501152\n",
       "4  French     Han Uygur -0.025228 0.000355 -70.976 453312\n",
       "5  Papuan     Han Uygur  0.004743 0.000651   7.283 443278\n",
       "6  Sardinian  Han Uygur -0.025373 0.000394 -64.477 454566\n",
       "7  Surui      Han Uygur  0.007864 0.000689  11.421 431378\n",
       "8  Yoruba     Han Uygur -0.009106 0.000478 -19.035 534807\n",
       "9  Yakut      Han Uygur  0.013122 0.000477  27.511 437104\n",
       "10 AA_Denver  Han Uygur -0.011363 0.000452 -25.130 504451"
      ]
     },
     "metadata": {},
     "output_type": "display_data"
    }
   ],
   "source": [
    "f3_res"
   ]
  },
  {
   "cell_type": "code",
   "execution_count": 10,
   "metadata": {},
   "outputs": [
    {
     "data": {
      "image/png": "[encoded data removed]",
      "text/plain": [
       "plot without title"
      ]
     },
     "metadata": {
      "image/png": {
       "height": 420,
       "width": 420
      }
     },
     "output_type": "display_data"
    }
   ],
   "source": [
    "f3_res %>% \n",
    "    mutate(is_significant=Zscore < -3) %>%\n",
    "    ggplot(aes(x=A, y=f3, ymin=f3-3*stderr, ymax = f3+3*stderr, color=is_significant)) +\n",
    "    geom_point() + geom_errorbar() +geom_hline(yintercept = 0)"
   ]
  },
  {
   "cell_type": "markdown",
   "metadata": {},
   "source": [
    "**Question 2**: \n",
    "- Are any $F_3$-statistics negative? \n",
    "- Are they significant? (|Z| > 3?)?\n",
    "- Which pairs of populations do these correspond to? \n",
    "- What could this mean about the population genetic history of the Uygurs?"
   ]
  },
  {
   "cell_type": "markdown",
   "metadata": {},
   "source": [
    "## 4. Outgroup-F3\n",
    "Next, we can compute outgroup-F3 stats in a very similar fashion. To do so,\n",
    "we'll use the European data. \n",
    "\n",
    "In the data, you will find a population labelled as `unknown`. \n",
    "Which population could they be most closely related to?\n",
    "\n",
    "We can use a very similar approach as before:\n",
    " - C will be the `Mbuti`-population\n",
    " - B will be the `unknown`-population\n",
    " - A will be the list of all candidates\n",
    "\n",
    "**Task 1:** Use `admixr` (or if you _really_ prefer, `qp3Pop` manually) to \n",
    "1. load an eigenstrat object for the `europe`-dataset\n",
    "2. read all populations present in that data into memory using the `read_ind` function\n",
    "3. calculate all outgroup-$F_3$-statistics\n",
    "4. create a figure visualizing your results. You may use the following function:"
   ]
  },
  {
   "cell_type": "code",
   "execution_count": 14,
   "metadata": {},
   "outputs": [],
   "source": [
    "viz_outgroup_f3 <- function(f3_res){\n",
    "    f3_res %>% \n",
    "    ggplot(aes(x=A, y=f3, ymin=f3-3*stderr, ymax = f3+3*stderr)) +\n",
    "    geom_point() + \n",
    "    geom_errorbar() +\n",
    "    geom_hline(yintercept = 0) + \n",
    "    coord_flip()\n",
    "    }"
   ]
  },
  {
   "cell_type": "markdown",
   "metadata": {},
   "source": [
    "## 5. D-statistics\n",
    "next, we can test for admixture in the past history of humans by lookin for an excess of ABBA or an excess of BABA sites in a 4-population tree.\n",
    "\n",
    "For this purpose, we use the ancient dataset, which contains a subset of the Lazaridis-data with Chimpanzee, Oranguan, Neandertal, Denisovan and a small number of modern Human population samples.\n",
    "\n",
    "To calculate D-stats is very similar to calculating $F_3$: instead of `admixr::f3` we use `admixr::D`:\n",
    "\n",
    "**Task 2**: Use admixr (or if you really prefer, qpDstat manually) to\n",
    "\n",
    " - load an eigenstrat object for the `ancient`-dataset\n",
    " - read all populations present in that data into memory using the `read_ind`-function\n",
    " - calculate all D-statistics of the form $D(MH_1, MH_2, AH, \\text{Primate})$ \n",
    " - create a figure visualizing your results (you may use the function below)\n",
    "\n",
    "\n",
    "**Question 3**: Are any of the statistics significant? In what direction? (i.e. is there an excess of ABBA or BABA patterns, relative to what you would expect under a 4-population tree?). Is this consistent with what you might expect? "
   ]
  },
  {
   "cell_type": "code",
   "execution_count": 13,
   "metadata": {},
   "outputs": [],
   "source": [
    "viz_d <- function(d_res) \n",
    "    d_res %>%\n",
    "    mutate(sig=as.factor(abs(Zscore)>3)) %>%\n",
    "    ggplot(aes(x=W, y=D, ymin=D-3*stderr, ymax=D+3*stderr, color=sig)) + \n",
    "    geom_point() + \n",
    "    geom_errorbar() +\n",
    "    geom_hline(yintercept=0) +\n",
    "    facet_wrap(~Y*Z)"
   ]
  },
  {
   "cell_type": "markdown",
   "metadata": {},
   "source": [
    "## 6. estimating admixture proportions\n",
    "The final task in the F-statistics framework will be to calculate admixture proportions using the $F_4$-ratio. \n",
    "\n",
    "For this purpose, we will revisit the world-dataset that we used with the $F_3$-statistics already. It contains 12 populations throughout the globe. In the Admixture-$F_3$ exercise we found that the Uygurs may be modelled as a mixture of an East-Asian population and a Western Eurasian population. We would now like to estimate the contributions from each population\n",
    "    ![f4r](F4.large.jpg)\n",
    "\n",
    "**Task 3**: Use `admixr` (or if you really prefer, qpF4ratio manually) to\n",
    "\n",
    "- load an eigenstrat object for the world-dataset\n",
    "- read all populations present in that data into memory using the `read_ind`-function\n",
    "- have a look at the help by typing `?f4ratio` and comparing it with the tree above\n",
    "- set up some $F_4$-ratios with appropriate populations to estimate the admixture proportions of the `Uygurs`.\n",
    "- justify why you are using which population in which position\n",
    "- what is your estimated admixture proportion?"
   ]
  },
  {
   "cell_type": "code",
   "execution_count": null,
   "metadata": {},
   "outputs": [],
   "source": []
  }
 ],
 "metadata": {
  "kernelspec": {
   "display_name": "R",
   "language": "R",
   "name": "ir"
  },
  "language_info": {
   "codemirror_mode": "r",
   "file_extension": ".r",
   "mimetype": "text/x-r-source",
   "name": "R",
   "pygments_lexer": "r",
   "version": "4.0.4"
  }
 },
 "nbformat": 4,
 "nbformat_minor": 2
}
